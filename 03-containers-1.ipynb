{
 "cells": [
  {
   "cell_type": "markdown",
   "metadata": {},
   "source": [
    "[GitHub Python Bar Review](https://github.com/ckorikov/python-bar-review)"
   ]
  },
  {
   "cell_type": "markdown",
   "metadata": {},
   "source": [
    "# Контейнеры 1"
   ]
  },
  {
   "cell_type": "markdown",
   "metadata": {},
   "source": [
    "## 1. О контейнерах"
   ]
  },
  {
   "cell_type": "markdown",
   "metadata": {},
   "source": [
    "**Контейнер** — объект, который содержит внутри себя другие объекты. Технически все контейнеры наследуют от `Collections.abc.Container` метод `__contains__`. С этим методом работает оператор `in`.\n",
    "\n",
    "Контейнеры представлены разными структурами данных. На этих структурах можно построить всевозможные абстрактые типы данных.\n",
    "\n",
    "**NB!** Не надо путать типы данных со структурами данных и абстрактными типами данных.\n",
    "\n",
    "**Тип данных** — характеристика кусочка данных, которая определяет способ его интерпретации.\n",
    "Например, `b1100001` может быть как число 97 (целый тип), а может быть как символ `a` из [ASCII](https://en.wikipedia.org/wiki/ASCII) (символ).\n",
    "\n",
    "**Структура данных** — набор из примитивов данных и операций над ними, огранизованные для эффективного решения задачи.\n",
    "Например, [массив](https://ru.wikipedia.org/wiki/Массив_(программирование)) или [связный список](https://ru.wikipedia.org/wiki/Связный_список).\n",
    "\n",
    "**Абстрактный тип данных** (АТД) — математическая модель структуры данных, ее интерфейс.\n",
    "Например, очередь — абстрактный тип данных, который можно реализовать на разных структурах данных."
   ]
  },
  {
   "cell_type": "markdown",
   "metadata": {},
   "source": [
    "### Проблема копирования контейнеров\n",
    "В Python присваивание `=` копирует только ссылки объектов. И опреацию вида `name = obj` можно интерпретировать как присваивание объекту `obj` имени `name`. Как в таком случае скопировать объект?\n",
    "\n",
    "Для примера, давайте попробуем скопировать список списков."
   ]
  },
  {
   "cell_type": "code",
   "execution_count": 1,
   "metadata": {},
   "outputs": [],
   "source": [
    "# Пример списка списков\n",
    "a = [1,2,3]\n",
    "b = [4,5,6]\n",
    "c = [a,b] # содержит ссылки на a и b"
   ]
  },
  {
   "cell_type": "markdown",
   "metadata": {},
   "source": [
    "Если мы список `c` присвоим списку `d`, то по факту у списка `[a,b]` просто будет  два имение `c` и `d`."
   ]
  },
  {
   "cell_type": "code",
   "execution_count": 2,
   "metadata": {},
   "outputs": [
    {
     "data": {
      "text/plain": [
       "(140526907046880, 140526907046880)"
      ]
     },
     "execution_count": 2,
     "metadata": {},
     "output_type": "execute_result"
    }
   ],
   "source": [
    "# Навешиваем новое имя списку с (у обеъектов даолжны быть одинаковые id)\n",
    "d = c\n",
    "id(c), id(d)"
   ]
  },
  {
   "cell_type": "markdown",
   "metadata": {},
   "source": [
    "Можно скопировать список, создав явно новый с содержимым старого. При этом происходит поверхностное копирование списка. Элементы указывают на элементы старого списка."
   ]
  },
  {
   "cell_type": "code",
   "execution_count": 3,
   "metadata": {},
   "outputs": [
    {
     "data": {
      "text/plain": [
       "(140526907046880, 140526906845696, 140526907047600, 140526907047600)"
      ]
     },
     "execution_count": 3,
     "metadata": {},
     "output_type": "execute_result"
    }
   ],
   "source": [
    "# Поверхностное копирование списка (списки разные, но внутренние объекты нет)\n",
    "d = list(c)\n",
    "id(c), id(d), id(c[0]), id(d[0])"
   ]
  },
  {
   "cell_type": "markdown",
   "metadata": {},
   "source": [
    "Различают два типа копирования:\n",
    "- Поверхностное (англ. shallow)\n",
    "- Глубокое (англ. deep)\n",
    "\n",
    "В отличии от поверхностного копирования, глубокое обходит объект рекурсивно и копирует все подобъекты."
   ]
  },
  {
   "cell_type": "code",
   "execution_count": 4,
   "metadata": {},
   "outputs": [
    {
     "data": {
      "text/plain": [
       "(140526907046880, 140526941274352, 140526907047600, 140526907052992)"
      ]
     },
     "execution_count": 4,
     "metadata": {},
     "output_type": "execute_result"
    }
   ],
   "source": [
    "# Глубокое копирование списка\n",
    "from copy import deepcopy\n",
    "d = deepcopy(c)\n",
    "id(c), id(d), id(c[0]), id(d[0])"
   ]
  },
  {
   "cell_type": "markdown",
   "metadata": {},
   "source": [
    "## 2. Built-in контейнеры\n",
    "\n",
    "Встроенные в Python-контейнеры можно разделить на две категории:\n",
    "- неизменяемые (англ. immutable) `string`, `tuple`, `range`, `frozenset`, `bytes`\n",
    "- изменяемые (англ. mutable) `list`, `dict`, `set`, `bytearray`"
   ]
  },
  {
   "cell_type": "code",
   "execution_count": 5,
   "metadata": {},
   "outputs": [],
   "source": [
    "# Встроенные контейнеры:\n",
    "c_str = \"Еду в магазин в городе Санкт-Петербурге\"\n",
    "c_tpl = (1, 1.2, \"я\")\n",
    "c_rng = range(10)\n",
    "c_fst = frozenset({1,2,3}) # readonly set\n",
    "c_bts = bytes((3,1,4,5,1,5))\n",
    "c_lst = [1,2,3]\n",
    "c_dct = {1: \"Sex\", 2: \"Drugs\", 3: \"Rock-and-Roll\"}\n",
    "c_set = {1,2,3}\n",
    "c_bar = bytearray((3,1,4,5,1,5)) # writable bytes"
   ]
  },
  {
   "cell_type": "markdown",
   "metadata": {},
   "source": [
    "### О сложности операций над популярными контейнерами\n",
    "В таблице приведены некоторые популярные встроенные контейнеры и некоторые операции над ними с асимптотической сложностью. "
   ]
  },
  {
   "cell_type": "markdown",
   "metadata": {},
   "source": [
    "| Контейнер         | List          | []()   | Tuple         | [  ]()        | Dictionary   | []()   | Set                | []()          |\n",
    "|-------------------|---------------|--------|---------------|---------------|--------------|--------|--------------------|---------------|\n",
    "| Пустой контейнер  | `[]`          | $O(1)$ | `()`          | $O(1)$        | `{}`         | $O(1)$ | `Set()` или `{()}` | $O(1)$        |\n",
    "| Прочитать элемент | `l[i]`        | $O(1)$ | `t[i]`        | $O(1)$        | `d[key]`     | $O(1)$ | **undefined**      | **undefined** |\n",
    "| Добавить элемент  | `l.append(5)` | $O(1)$ | **undefined** | **undefined** | `d[key]=5`   | $O(1)$ | `s.add(5)`         | $O(1)$        |\n",
    "| Удалить элемент   | `del l[i]`    | $O(N)$ | **undefined** | **undefined** | `del d[key]` | $O(1)$ | `s.discard(5)`     | $O(1)$        |"
   ]
  },
  {
   "cell_type": "markdown",
   "metadata": {},
   "source": [
    "### О хэшируемости\n",
    "\n",
    "Объекты в Python могут быть хэшиуруемые — таким объектам сопоставляется некоторое число (хэш), которое не меняется в течении существования объекта. Хэши используются для сравнения ключей в словарях и множествах. Технически, у хэшируемых объектов реализован метод `__hash__()`.\n",
    "\n",
    "**NB!** Если контейнер и его элементы неизменяемые, то он хэшируемый."
   ]
  },
  {
   "cell_type": "code",
   "execution_count": 6,
   "metadata": {},
   "outputs": [
    {
     "data": {
      "text/plain": [
       "2528503368927772366"
      ]
     },
     "execution_count": 6,
     "metadata": {},
     "output_type": "execute_result"
    }
   ],
   "source": [
    "# Хэшируемый кортеж\n",
    "hash((1,3,()))"
   ]
  },
  {
   "cell_type": "code",
   "execution_count": 7,
   "metadata": {},
   "outputs": [
    {
     "ename": "TypeError",
     "evalue": "unhashable type: 'list'",
     "output_type": "error",
     "traceback": [
      "\u001b[0;31m---------------------------------------------------------------------------\u001b[0m",
      "\u001b[0;31mTypeError\u001b[0m                                 Traceback (most recent call last)",
      "\u001b[0;32m<ipython-input-7-cbf3b29f821f>\u001b[0m in \u001b[0;36m<module>\u001b[0;34m\u001b[0m\n\u001b[1;32m      1\u001b[0m \u001b[0;31m# Нехэшируемый кортеж (должна быть ошибка)\u001b[0m\u001b[0;34m\u001b[0m\u001b[0;34m\u001b[0m\u001b[0;34m\u001b[0m\u001b[0m\n\u001b[0;32m----> 2\u001b[0;31m \u001b[0mhash\u001b[0m\u001b[0;34m(\u001b[0m\u001b[0;34m(\u001b[0m\u001b[0;36m1\u001b[0m\u001b[0;34m,\u001b[0m\u001b[0;36m3\u001b[0m\u001b[0;34m,\u001b[0m\u001b[0;34m[\u001b[0m\u001b[0;34m]\u001b[0m\u001b[0;34m)\u001b[0m\u001b[0;34m)\u001b[0m\u001b[0;34m\u001b[0m\u001b[0;34m\u001b[0m\u001b[0m\n\u001b[0m",
      "\u001b[0;31mTypeError\u001b[0m: unhashable type: 'list'"
     ]
    }
   ],
   "source": [
    "# Нехэшируемый кортеж (должна быть ошибка)\n",
    "hash((1,3,[]))"
   ]
  },
  {
   "cell_type": "markdown",
   "metadata": {},
   "source": [
    "## 3. Крутые контейнеры\n",
    "\n",
    "Ниже приведены некоторые контейнеры из стандартной библиотеки со специальным назначением. "
   ]
  },
  {
   "cell_type": "markdown",
   "metadata": {},
   "source": [
    "### namedtuple — когда нужен «сишный struct»"
   ]
  },
  {
   "cell_type": "code",
   "execution_count": 8,
   "metadata": {},
   "outputs": [],
   "source": [
    "# Пример именованного кортежа\n",
    "from collections import namedtuple \n",
    "Point = namedtuple('Point', ['x', 'y'])\n",
    "p = Point(1,2)"
   ]
  },
  {
   "cell_type": "code",
   "execution_count": 9,
   "metadata": {},
   "outputs": [
    {
     "data": {
      "text/plain": [
       "1"
      ]
     },
     "execution_count": 9,
     "metadata": {},
     "output_type": "execute_result"
    }
   ],
   "source": [
    "# К полям namedtuple можно обращаться через точку.\n",
    "p.x"
   ]
  },
  {
   "cell_type": "code",
   "execution_count": 10,
   "metadata": {},
   "outputs": [
    {
     "data": {
      "text/plain": [
       "1"
      ]
     },
     "execution_count": 10,
     "metadata": {},
     "output_type": "execute_result"
    }
   ],
   "source": [
    "# Также можно читать как обычный кортеж.\n",
    "p[0]"
   ]
  },
  {
   "cell_type": "code",
   "execution_count": 11,
   "metadata": {},
   "outputs": [
    {
     "name": "stdout",
     "output_type": "stream",
     "text": [
      "1\n",
      "2\n"
     ]
    }
   ],
   "source": [
    "# Итерирование по именованному кортежу\n",
    "for x in p:\n",
    "    print(x)"
   ]
  },
  {
   "cell_type": "code",
   "execution_count": 12,
   "metadata": {},
   "outputs": [
    {
     "ename": "AttributeError",
     "evalue": "can't set attribute",
     "output_type": "error",
     "traceback": [
      "\u001b[0;31m---------------------------------------------------------------------------\u001b[0m",
      "\u001b[0;31mAttributeError\u001b[0m                            Traceback (most recent call last)",
      "\u001b[0;32m<ipython-input-12-4ffc5fe135f6>\u001b[0m in \u001b[0;36m<module>\u001b[0;34m\u001b[0m\n\u001b[1;32m      1\u001b[0m \u001b[0;31m# Именованный кортеж — неизменяемый объект (должна быть ошибка)\u001b[0m\u001b[0;34m\u001b[0m\u001b[0;34m\u001b[0m\u001b[0;34m\u001b[0m\u001b[0m\n\u001b[0;32m----> 2\u001b[0;31m \u001b[0mp\u001b[0m\u001b[0;34m.\u001b[0m\u001b[0mx\u001b[0m \u001b[0;34m=\u001b[0m \u001b[0;36m4\u001b[0m\u001b[0;34m\u001b[0m\u001b[0;34m\u001b[0m\u001b[0m\n\u001b[0m",
      "\u001b[0;31mAttributeError\u001b[0m: can't set attribute"
     ]
    }
   ],
   "source": [
    "# Именованный кортеж — неизменяемый объект (должна быть ошибка)\n",
    "p.x = 4"
   ]
  },
  {
   "cell_type": "markdown",
   "metadata": {},
   "source": [
    "**NB!** `namedtuple` удобно использовать для возврата данных из функций."
   ]
  },
  {
   "cell_type": "markdown",
   "metadata": {},
   "source": [
    "### OrderedDict — когда важен порядок в словаре\n",
    "\n",
    "**Update:** В Python 3.7 уже не актуально. Стандартный `dict` гарантирует порядок.\n",
    "\n",
    "`dict` не гарантирует, что будет хранить ключи в том порядке, в котором вы их задали. Если важно получить из `d.keys()` оригинальный порядок, то для этого есть `OrderedDict`."
   ]
  },
  {
   "cell_type": "code",
   "execution_count": 13,
   "metadata": {},
   "outputs": [
    {
     "ename": "TypeError",
     "evalue": "'dict' object is not reversible",
     "output_type": "error",
     "traceback": [
      "\u001b[0;31m---------------------------------------------------------------------------\u001b[0m",
      "\u001b[0;31mTypeError\u001b[0m                                 Traceback (most recent call last)",
      "\u001b[0;32m<ipython-input-13-bc32f95d21aa>\u001b[0m in \u001b[0;36m<module>\u001b[0;34m\u001b[0m\n\u001b[1;32m      1\u001b[0m \u001b[0;31m# Операция реверса на словаре бесмысленна — порядка нет (должна быть ошибка)\u001b[0m\u001b[0;34m\u001b[0m\u001b[0;34m\u001b[0m\u001b[0;34m\u001b[0m\u001b[0m\n\u001b[1;32m      2\u001b[0m \u001b[0mdict_std\u001b[0m \u001b[0;34m=\u001b[0m \u001b[0;34m{\u001b[0m\u001b[0;34m\"a\"\u001b[0m\u001b[0;34m:\u001b[0m \u001b[0;36m1\u001b[0m\u001b[0;34m,\u001b[0m \u001b[0;34m\"b\"\u001b[0m\u001b[0;34m:\u001b[0m \u001b[0;36m2\u001b[0m\u001b[0;34m,\u001b[0m \u001b[0;34m\"c\"\u001b[0m\u001b[0;34m:\u001b[0m \u001b[0;36m3\u001b[0m\u001b[0;34m}\u001b[0m\u001b[0;34m\u001b[0m\u001b[0;34m\u001b[0m\u001b[0m\n\u001b[0;32m----> 3\u001b[0;31m \u001b[0;34m[\u001b[0m\u001b[0mk\u001b[0m \u001b[0;32mfor\u001b[0m \u001b[0mk\u001b[0m \u001b[0;32min\u001b[0m \u001b[0mreversed\u001b[0m\u001b[0;34m(\u001b[0m\u001b[0mdict_std\u001b[0m\u001b[0;34m)\u001b[0m\u001b[0;34m]\u001b[0m\u001b[0;34m\u001b[0m\u001b[0;34m\u001b[0m\u001b[0m\n\u001b[0m",
      "\u001b[0;31mTypeError\u001b[0m: 'dict' object is not reversible"
     ]
    }
   ],
   "source": [
    "# Операция реверса на словаре бесмысленна — порядка нет (должна быть ошибка)\n",
    "dict_std = {\"a\": 1, \"b\": 2, \"c\": 3}\n",
    "[k for k in reversed(dict_std)]"
   ]
  },
  {
   "cell_type": "code",
   "execution_count": 14,
   "metadata": {},
   "outputs": [
    {
     "data": {
      "text/plain": [
       "['c', 'b', 'a']"
      ]
     },
     "execution_count": 14,
     "metadata": {},
     "output_type": "execute_result"
    }
   ],
   "source": [
    "# Рабочий workaround в Python 3.7+\n",
    "dict_std = {\"a\": 1, \"b\": 2, \"c\": 3}\n",
    "[k for k in reversed(list(dict_std.keys()))]"
   ]
  },
  {
   "cell_type": "code",
   "execution_count": 15,
   "metadata": {},
   "outputs": [
    {
     "data": {
      "text/plain": [
       "['c', 'b', 'a']"
      ]
     },
     "execution_count": 15,
     "metadata": {},
     "output_type": "execute_result"
    }
   ],
   "source": [
    "# OrderedDict предполагает наличие порядка, можно перевернуть\n",
    "from collections import OrderedDict \n",
    "dict_odr = OrderedDict({\"a\": 1, \"b\": 2, \"c\": 3})\n",
    "[k for k in reversed(dict_odr)]"
   ]
  },
  {
   "cell_type": "markdown",
   "metadata": {},
   "source": [
    "### defaultdict — когда лень инициализировать ключи \n",
    "\n",
    "Если обратиться к ключу словаря, которого нет, то будет ошибка."
   ]
  },
  {
   "cell_type": "code",
   "execution_count": 16,
   "metadata": {},
   "outputs": [
    {
     "ename": "KeyError",
     "evalue": "'4'",
     "output_type": "error",
     "traceback": [
      "\u001b[0;31m---------------------------------------------------------------------------\u001b[0m",
      "\u001b[0;31mKeyError\u001b[0m                                  Traceback (most recent call last)",
      "\u001b[0;32m<ipython-input-16-c9aa461dd7f1>\u001b[0m in \u001b[0;36m<module>\u001b[0;34m\u001b[0m\n\u001b[1;32m      1\u001b[0m \u001b[0;31m# Обычный словарь ругается на поля, которых нет (должна быть ошибка)\u001b[0m\u001b[0;34m\u001b[0m\u001b[0;34m\u001b[0m\u001b[0;34m\u001b[0m\u001b[0m\n\u001b[1;32m      2\u001b[0m \u001b[0md\u001b[0m \u001b[0;34m=\u001b[0m \u001b[0;34m{\u001b[0m\u001b[0;34m}\u001b[0m\u001b[0;34m\u001b[0m\u001b[0;34m\u001b[0m\u001b[0m\n\u001b[0;32m----> 3\u001b[0;31m \u001b[0md\u001b[0m\u001b[0;34m[\u001b[0m\u001b[0;34m\"4\"\u001b[0m\u001b[0;34m]\u001b[0m\u001b[0;34m\u001b[0m\u001b[0;34m\u001b[0m\u001b[0m\n\u001b[0m",
      "\u001b[0;31mKeyError\u001b[0m: '4'"
     ]
    }
   ],
   "source": [
    "# Обычный словарь ругается на поля, которых нет (должна быть ошибка)\n",
    "d = {}\n",
    "d[\"4\"]"
   ]
  },
  {
   "cell_type": "markdown",
   "metadata": {},
   "source": [
    "Если надо какое-то поведение по-умолчанию, то для этого удобно использовать `defaultdict`."
   ]
  },
  {
   "cell_type": "code",
   "execution_count": 17,
   "metadata": {},
   "outputs": [
    {
     "data": {
      "text/plain": [
       "[('а', 4),\n",
       " (' ', 3),\n",
       " ('з', 2),\n",
       " ('л', 2),\n",
       " ('и', 2),\n",
       " ('о', 2),\n",
       " ('я', 1),\n",
       " ('в', 1),\n",
       " ('ю', 1),\n",
       " ('г', 1),\n",
       " ('к', 1),\n",
       " ('е', 1),\n",
       " ('р', 1),\n",
       " ('с', 1),\n",
       " ('н', 1),\n",
       " ('м', 1)]"
      ]
     },
     "execution_count": 17,
     "metadata": {},
     "output_type": "execute_result"
    }
   ],
   "source": [
    "# Пример с defaultdict, ключу по-умолчанию присвается 0.\n",
    "from collections import defaultdict\n",
    "\n",
    "s = 'я заливаю глаза керосином'\n",
    "d = defaultdict(int)\n",
    "\n",
    "for k in s:\n",
    "    d[k] += 1 # без defaultdict здесь надо было  бы инициализировать ключи явно\n",
    "\n",
    "sorted(d.items(), key=lambda x: x[1], reverse=True)"
   ]
  },
  {
   "cell_type": "markdown",
   "metadata": {},
   "source": [
    "### ChainMap — когда нужно несколько словарей представить как один\n",
    "\n",
    "`ChainMap` хранит ссылки на другие словари. Контейнер позволяет работать с внутренними словарями как с одним целым словарем.\n",
    "\n",
    "У `ChainMap` есть два традиционных приложения:\n",
    "- Возвращать значения по-умполчанию из словаря, если ключа нет.\n",
    "- Поиск по нескольких словарям."
   ]
  },
  {
   "cell_type": "code",
   "execution_count": 18,
   "metadata": {},
   "outputs": [
    {
     "data": {
      "text/plain": [
       "(4, 2)"
      ]
     },
     "execution_count": 18,
     "metadata": {},
     "output_type": "execute_result"
    }
   ],
   "source": [
    "# Пример с ChainMap: поиск по двум словарям\n",
    "from collections import ChainMap\n",
    "\n",
    "group1 = {\"a\": 1, \"b\": 2}\n",
    "group2 = {\"c\": 3, \"d\": 4}\n",
    "groups = ChainMap(group1, group2)\n",
    "groups[\"d\"], groups[\"b\"]"
   ]
  },
  {
   "cell_type": "markdown",
   "metadata": {},
   "source": [
    "Здесь `group1` может быть словарём параметров, а `group2` — словарём значений параметров по-умолчанию. Если значения нет в `group1`, то вернётся значение из `group2`.\n",
    "\n"
   ]
  },
  {
   "cell_type": "markdown",
   "metadata": {},
   "source": [
    "### MappingProxyType — когда нужен словарь только для чтения"
   ]
  },
  {
   "cell_type": "code",
   "execution_count": 19,
   "metadata": {},
   "outputs": [
    {
     "data": {
      "text/plain": [
       "1"
      ]
     },
     "execution_count": 19,
     "metadata": {},
     "output_type": "execute_result"
    }
   ],
   "source": [
    "# Пример словаря, в который нельзя писать\n",
    "from types import MappingProxyType\n",
    "\n",
    "d = {\"a\": 1, \"b\": 2} # Обычный словарь\n",
    "d_ro = MappingProxyType(d) # MappingProxyType (Read Only)\n",
    "\n",
    "d_ro[\"a\"]"
   ]
  },
  {
   "cell_type": "code",
   "execution_count": 20,
   "metadata": {},
   "outputs": [
    {
     "ename": "TypeError",
     "evalue": "'mappingproxy' object does not support item assignment",
     "output_type": "error",
     "traceback": [
      "\u001b[0;31m---------------------------------------------------------------------------\u001b[0m",
      "\u001b[0;31mTypeError\u001b[0m                                 Traceback (most recent call last)",
      "\u001b[0;32m<ipython-input-20-819d3d450b91>\u001b[0m in \u001b[0;36m<module>\u001b[0;34m\u001b[0m\n\u001b[1;32m      1\u001b[0m \u001b[0;31m# Записать в MappingProxyType нельзя (должна быть ошибка)\u001b[0m\u001b[0;34m\u001b[0m\u001b[0;34m\u001b[0m\u001b[0;34m\u001b[0m\u001b[0m\n\u001b[0;32m----> 2\u001b[0;31m \u001b[0md_ro\u001b[0m\u001b[0;34m[\u001b[0m\u001b[0;34m\"a\"\u001b[0m\u001b[0;34m]\u001b[0m \u001b[0;34m=\u001b[0m \u001b[0;36m1\u001b[0m\u001b[0;34m\u001b[0m\u001b[0;34m\u001b[0m\u001b[0m\n\u001b[0m",
      "\u001b[0;31mTypeError\u001b[0m: 'mappingproxy' object does not support item assignment"
     ]
    }
   ],
   "source": [
    "# Записать в MappingProxyType нельзя (должна быть ошибка)\n",
    "d_ro[\"a\"] = 1"
   ]
  },
  {
   "cell_type": "markdown",
   "metadata": {},
   "source": [
    "### Counter — когда надо мультимножество\n",
    "\n",
    "**Мультимножество** — множество, элементы в котором могут повторяться."
   ]
  },
  {
   "cell_type": "code",
   "execution_count": 21,
   "metadata": {},
   "outputs": [
    {
     "data": {
      "text/plain": [
       "Counter({'я': 1,\n",
       "         ' ': 3,\n",
       "         'з': 2,\n",
       "         'а': 4,\n",
       "         'л': 2,\n",
       "         'и': 2,\n",
       "         'в': 1,\n",
       "         'ю': 1,\n",
       "         'г': 1,\n",
       "         'к': 1,\n",
       "         'е': 1,\n",
       "         'р': 1,\n",
       "         'о': 2,\n",
       "         'с': 1,\n",
       "         'н': 1,\n",
       "         'м': 1})"
      ]
     },
     "execution_count": 21,
     "metadata": {},
     "output_type": "execute_result"
    }
   ],
   "source": [
    "# Пример построения мультимножества по итерируемому объекту (строке)\n",
    "from collections import Counter\n",
    "\n",
    "s = 'я заливаю глаза керосином'\n",
    "c = Counter(s)\n",
    "c"
   ]
  },
  {
   "cell_type": "code",
   "execution_count": 22,
   "metadata": {},
   "outputs": [
    {
     "data": {
      "text/plain": [
       "(25, 16)"
      ]
     },
     "execution_count": 22,
     "metadata": {},
     "output_type": "execute_result"
    }
   ],
   "source": [
    "# sum — количество элементов в множестве, \n",
    "# len - количество уникальных элементов в множестве\n",
    "sum(c.values()), len(c.values())"
   ]
  },
  {
   "cell_type": "markdown",
   "metadata": {},
   "source": [
    "### deque — когда нужен двусторонний доступ\n",
    "\n",
    "И очередь и стек можно реализовать на `list`. Но `list` реализован на динамическом массиве, а `deque` на связном списке."
   ]
  },
  {
   "cell_type": "code",
   "execution_count": 23,
   "metadata": {},
   "outputs": [
    {
     "data": {
      "text/plain": [
       "('я', 'лут')"
      ]
     },
     "execution_count": 23,
     "metadata": {},
     "output_type": "execute_result"
    }
   ],
   "source": [
    "# Пример двусторонней очереди\n",
    "from collections import deque\n",
    "d = deque()\n",
    "d.append(\"я\")\n",
    "d.append(\"иду\")\n",
    "d.append(\"брать\")\n",
    "d.append(\"лут\")\n",
    "d.popleft(), d.pop()"
   ]
  },
  {
   "cell_type": "markdown",
   "metadata": {},
   "source": [
    "### heapq — когда нужна очередь с приоритетом"
   ]
  },
  {
   "cell_type": "code",
   "execution_count": 24,
   "metadata": {},
   "outputs": [
    {
     "data": {
      "text/plain": [
       "((1, 'Чпок'), (2, 'Чпок'), (3, 'Продакшен'))"
      ]
     },
     "execution_count": 24,
     "metadata": {},
     "output_type": "execute_result"
    }
   ],
   "source": [
    "# Пример\n",
    "from heapq import heappush, heappop\n",
    "\n",
    "q = []\n",
    "heappush(q, (3, \"Продакшен\"))\n",
    "heappush(q, (1, \"Чпок\"))\n",
    "heappush(q, (2, \"Чпок\"))\n",
    "\n",
    "heappop(q),heappop(q),heappop(q)"
   ]
  },
  {
   "cell_type": "markdown",
   "metadata": {},
   "source": [
    "### dataclasses — когда от класса надо только хранение данных\n",
    "\n",
    "Когда нужен изменяемый `namedtuple`, то подходит `dataclasses`."
   ]
  },
  {
   "cell_type": "code",
   "execution_count": 25,
   "metadata": {},
   "outputs": [
    {
     "data": {
      "text/plain": [
       "4"
      ]
     },
     "execution_count": 25,
     "metadata": {},
     "output_type": "execute_result"
    }
   ],
   "source": [
    "# Пример с собственным dataclass\n",
    "from dataclasses import dataclass\n",
    "\n",
    "@dataclass\n",
    "class Structure:\n",
    "    name: str\n",
    "    value: float\n",
    "\n",
    "    @property\n",
    "    def square(self) -> float:\n",
    "        return self.value * self.value\n",
    "    \n",
    "s = Structure(\"я\", 2)\n",
    "s.square"
   ]
  },
  {
   "cell_type": "markdown",
   "metadata": {},
   "source": [
    "По-умолчанию `dataclass` генерирует 3 дандер-метода (метод с двойным подчеркиванием):\n",
    "- `init`,\n",
    "- `repr`,\n",
    "- `eq`.\n",
    "\n",
    "Через опции декоратора можно сделать `dataclass` immutable (`frozen`), mutable-хэшируемым (`unsafe_hash`) и сравниваемым (`order`)."
   ]
  },
  {
   "cell_type": "markdown",
   "metadata": {},
   "source": [
    "![title](img/namedtuple-vs-dataclass.png)"
   ]
  },
  {
   "cell_type": "code",
   "execution_count": 26,
   "metadata": {},
   "outputs": [
    {
     "name": "stdout",
     "output_type": "stream",
     "text": [
      "last updated: 2019-08-31 \n",
      "\n",
      "CPython 3.7.4\n",
      "IPython 7.8.0\n"
     ]
    }
   ],
   "source": [
    "%load_ext watermark\n",
    "%watermark -d -u -v -iv"
   ]
  }
 ],
 "metadata": {
  "kernelspec": {
   "display_name": "Python 3",
   "language": "python",
   "name": "python3"
  },
  "language_info": {
   "codemirror_mode": {
    "name": "ipython",
    "version": 3
   },
   "file_extension": ".py",
   "mimetype": "text/x-python",
   "name": "python",
   "nbconvert_exporter": "python",
   "pygments_lexer": "ipython3",
   "version": "3.7.4"
  }
 },
 "nbformat": 4,
 "nbformat_minor": 4
}
