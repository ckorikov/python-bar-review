{
 "cells": [
  {
   "cell_type": "markdown",
   "metadata": {},
   "source": [
    "# Параллельное программирование"
   ]
  },
  {
   "cell_type": "markdown",
   "metadata": {},
   "source": [
    "## 1. О параллелизме"
   ]
  },
  {
   "cell_type": "markdown",
   "metadata": {},
   "source": [
    "**Параллельные вычисления** — способ решать задачи с помощью нескольких вычислительных модулей. Распараллеливать можно независимые части в задаче или её решении.\n",
    "\n",
    "Выделяют два вида параллелизма.\n",
    "- *Параллелизм задач* — когда есть независимы подзадачи. Разные инструкции выполняются на одних и тех же данных.\n",
    "- *Параллелизм данных*, когда есть независимые участки данных. Одинаковые инструкции выполняются на разных кусочках данных."
   ]
  },
  {
   "cell_type": "markdown",
   "metadata": {},
   "source": [
    "#### Имеет ли смысл распараллеливать задачу? Закон Амдала (англ. Amdahl’s Law)\n",
    "Закон Амдала показывает во сколько раз меньше времени потребуется параллельной программе для решения задачи по сравнению с последовательной. \n",
    "$$\n",
    "\\text{Speed-up}=\\frac{1}{S+P/n}\n",
    "$$"
   ]
  },
  {
   "cell_type": "markdown",
   "metadata": {},
   "source": [
    "### Модели параллельного программирования\n",
    "\n",
    "\n",
    "Модель программирования — теоретическая абстракция.\n",
    "\n",
    "#### Модель с общей памятью (англ. Shared Memory Model)\n",
    "\n",
    "Различают два вида:\n",
    "- С потоками (англ. threads). OpenMP, Posix Threads.\n",
    "- Без потоков."
   ]
  },
  {
   "cell_type": "markdown",
   "metadata": {},
   "source": [
    "#### Модель с распределенной памятью (англ. Distributed Memory Model)\n",
    "\n",
    "Модель передачи сообщений (англ. Message Passing Model MPI).\n",
    "\n",
    "- Асинхронная передача сообщений. Actor model\n",
    "- Синхронная передача сообщений. Communicating sequential processes"
   ]
  },
  {
   "cell_type": "markdown",
   "metadata": {},
   "source": [
    "### Способы синхронизации\n",
    "\n",
    "- Семафоры\n",
    "- Мьютекс (англ. mutex = mutual exclusion) aka Lock.\n",
    "- Критические секции"
   ]
  },
  {
   "cell_type": "markdown",
   "metadata": {},
   "source": [
    "### Типичные проблемы"
   ]
  },
  {
   "cell_type": "markdown",
   "metadata": {},
   "source": [
    "## 2. GIL (Global Interpreter Lock)\n",
    "\n",
    "GIL — глобальный lock на все ресурсы. Это особенность реализации CPython."
   ]
  },
  {
   "cell_type": "markdown",
   "metadata": {},
   "source": [
    "## 3. Threads"
   ]
  },
  {
   "cell_type": "markdown",
   "metadata": {},
   "source": [
    "## 4. Processes"
   ]
  },
  {
   "cell_type": "markdown",
   "metadata": {},
   "source": [
    "## 5. MPI"
   ]
  },
  {
   "cell_type": "markdown",
   "metadata": {},
   "source": [
    "## Бонус: аппаратный взгляд на паралелизм"
   ]
  },
  {
   "cell_type": "markdown",
   "metadata": {},
   "source": [
    "### Классификация Флина"
   ]
  },
  {
   "cell_type": "markdown",
   "metadata": {},
   "source": [
    "[Классификация Флина](https://en.wikipedia.org/wiki/Flynn%27s_taxonomy)\n",
    "\n",
    "![Flynn's Taxonomy](img/parallel-architectures.png)"
   ]
  }
 ],
 "metadata": {
  "kernelspec": {
   "display_name": "Python 3",
   "language": "python",
   "name": "python3"
  },
  "language_info": {
   "codemirror_mode": {
    "name": "ipython",
    "version": 3
   },
   "file_extension": ".py",
   "mimetype": "text/x-python",
   "name": "python",
   "nbconvert_exporter": "python",
   "pygments_lexer": "ipython3",
   "version": "3.7.1"
  }
 },
 "nbformat": 4,
 "nbformat_minor": 2
}
