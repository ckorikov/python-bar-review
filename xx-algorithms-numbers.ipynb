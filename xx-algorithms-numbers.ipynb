{
 "cells": [
  {
   "cell_type": "markdown",
   "metadata": {},
   "source": [
    "[GitHub Python Bar Review](https://github.com/ckorikov/python-bar-review)"
   ]
  },
  {
   "cell_type": "markdown",
   "metadata": {},
   "source": [
    "# Алгоритмы. Числа"
   ]
  },
  {
   "cell_type": "markdown",
   "metadata": {},
   "source": [
    "## Целые числа\n",
    "\n",
    "TBD"
   ]
  },
  {
   "cell_type": "markdown",
   "metadata": {},
   "source": [
    "## Числа с плавающей точкой\n",
    "\n",
    "[Стандарт IEEE 754](https://en.wikipedia.org/wiki/IEEE_754)"
   ]
  },
  {
   "cell_type": "markdown",
   "metadata": {},
   "source": [
    "### Округления\n",
    "\n",
    "Есть разные стратегии округления чисел с плавающей точкой."
   ]
  },
  {
   "cell_type": "code",
   "execution_count": 1,
   "metadata": {},
   "outputs": [],
   "source": [
    "import math"
   ]
  },
  {
   "cell_type": "code",
   "execution_count": 2,
   "metadata": {},
   "outputs": [],
   "source": [
    "def round_trunc(x: float, n: int = 0) -> float:\n",
    "    if n:\n",
    "        m = 10**n\n",
    "        return round_trunc(x*m)/m\n",
    "    return int(x)"
   ]
  },
  {
   "cell_type": "code",
   "execution_count": 3,
   "metadata": {},
   "outputs": [],
   "source": [
    "def round_up(x: float, n: int = 0) -> float:\n",
    "    if n:\n",
    "        m = 10**n\n",
    "        return round_up(x*m)/m\n",
    "    return math.ceil(x+0.5)"
   ]
  },
  {
   "cell_type": "code",
   "execution_count": 4,
   "metadata": {},
   "outputs": [],
   "source": [
    "def round_down(x: float, n: int = 0) -> float:\n",
    "    if n:\n",
    "        m = 10**n\n",
    "        return round_down(x*m)/m\n",
    "    return math.ceil(x-0.5)"
   ]
  },
  {
   "cell_type": "code",
   "execution_count": 5,
   "metadata": {},
   "outputs": [],
   "source": [
    "def round_half_away_from_zero(x: float, n: int = 0) -> float:\n",
    "    if x < .0:\n",
    "        return -round_half_away_from_zero(abs(x), n)\n",
    "    if n:\n",
    "        m = 10**n\n",
    "        return round_half_away_from_zero(x*m)/m\n",
    "    return math.floor(x+0.5)"
   ]
  },
  {
   "cell_type": "code",
   "execution_count": 6,
   "metadata": {},
   "outputs": [],
   "source": [
    "# Banker's Rounding\n",
    "def round_half_to_even(x: float, n: int = 0) -> float:\n",
    "    if x < .0:\n",
    "        return -round_half_to_even(abs(x), n)\n",
    "    if n:\n",
    "        m = 10**n\n",
    "        return round_half_to_even(x*m)/m\n",
    "    fx, ix = math.modf(x) # части после и до запято\n",
    "    if math.isclose(fx, 0.5):\n",
    "        return ix+1 if ix%2 else ix\n",
    "    else:\n",
    "        return round_half_away_from_zero(x, n)\n",
    "        "
   ]
  },
  {
   "cell_type": "code",
   "execution_count": 7,
   "metadata": {},
   "outputs": [],
   "source": [
    "round_funcs = (round_trunc, round_up, round_down, round_half_away_from_zero, round_half_to_even, round)"
   ]
  },
  {
   "cell_type": "markdown",
   "metadata": {},
   "source": [
    "Для произвольного положительного числа:"
   ]
  },
  {
   "cell_type": "code",
   "execution_count": 8,
   "metadata": {},
   "outputs": [
    {
     "name": "stdout",
     "output_type": "stream",
     "text": [
      "round_trunc(123.3): 123\n",
      "round_up(123.3): 124\n",
      "round_down(123.3): 123\n",
      "round_half_away_from_zero(123.3): 123\n",
      "round_half_to_even(123.3): 123\n",
      "round(123.3): 123\n"
     ]
    }
   ],
   "source": [
    "for func in round_funcs:\n",
    "    arg = 123.3\n",
    "    print(f'{func.__name__}({arg}): {func(arg)}')"
   ]
  },
  {
   "cell_type": "markdown",
   "metadata": {},
   "source": [
    "Для произвольного отрицательного числа:"
   ]
  },
  {
   "cell_type": "code",
   "execution_count": 9,
   "metadata": {},
   "outputs": [
    {
     "name": "stdout",
     "output_type": "stream",
     "text": [
      "round_trunc(-123.3): -123\n",
      "round_up(-123.3): -122\n",
      "round_down(-123.3): -123\n",
      "round_half_away_from_zero(-123.3): -123\n",
      "round_half_to_even(-123.3): -123\n",
      "round(-123.3): -123\n"
     ]
    }
   ],
   "source": [
    "for func in round_funcs:\n",
    "    arg = -123.3\n",
    "    print(f'{func.__name__}({arg}): {func(arg)}')"
   ]
  },
  {
   "cell_type": "code",
   "execution_count": 10,
   "metadata": {},
   "outputs": [
    {
     "name": "stdout",
     "output_type": "stream",
     "text": [
      "round_trunc(-123.7): -123\n",
      "round_up(-123.7): -123\n",
      "round_down(-123.7): -124\n",
      "round_half_away_from_zero(-123.7): -124\n",
      "round_half_to_even(-123.7): -124\n",
      "round(-123.7): -124\n"
     ]
    }
   ],
   "source": [
    "for func in round_funcs:\n",
    "    arg = -123.7\n",
    "    print(f'{func.__name__}({arg}): {func(arg)}')"
   ]
  },
  {
   "cell_type": "code",
   "execution_count": 11,
   "metadata": {},
   "outputs": [
    {
     "name": "stdout",
     "output_type": "stream",
     "text": [
      "round_trunc(123.5): 123\n",
      "round_up(123.5): 124\n",
      "round_down(123.5): 123\n",
      "round_half_away_from_zero(123.5): 124\n",
      "round_half_to_even(123.5): 124.0\n",
      "round(123.5): 124\n"
     ]
    }
   ],
   "source": [
    "for func in round_funcs:\n",
    "    arg = 123.5\n",
    "    print(f'{func.__name__}({arg}): {func(arg)}')"
   ]
  },
  {
   "cell_type": "markdown",
   "metadata": {},
   "source": [
    "### Почитать\n",
    "\n",
    "1. [Rounding Algorithms 101 Redux](https://www.eetimes.com/document.asp?doc_id=1274515)"
   ]
  },
  {
   "cell_type": "markdown",
   "metadata": {},
   "source": [
    "## Watermark"
   ]
  },
  {
   "cell_type": "code",
   "execution_count": 12,
   "metadata": {},
   "outputs": [
    {
     "name": "stdout",
     "output_type": "stream",
     "text": [
      "last updated: 2019-08-31 \n",
      "\n",
      "CPython 3.7.4\n",
      "IPython 7.8.0\n"
     ]
    }
   ],
   "source": [
    "%load_ext watermark\n",
    "%watermark -d -u -v -iv"
   ]
  }
 ],
 "metadata": {
  "kernelspec": {
   "display_name": "Python 3 (ipykernel)",
   "language": "python",
   "name": "python3"
  },
  "language_info": {
   "codemirror_mode": {
    "name": "ipython",
    "version": 3
   },
   "file_extension": ".py",
   "mimetype": "text/x-python",
   "name": "python",
   "nbconvert_exporter": "python",
   "pygments_lexer": "ipython3",
   "version": "3.11.4"
  },
  "toc-autonumbering": true,
  "toc-showtags": false
 },
 "nbformat": 4,
 "nbformat_minor": 4
}
