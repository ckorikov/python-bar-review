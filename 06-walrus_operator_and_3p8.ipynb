{
 "cells": [
  {
   "cell_type": "markdown",
   "metadata": {},
   "source": [
    "# Моржовый оператор и новинки python 3.8\n",
    "\n",
    "В python 3.8 появились новые возможности. Весь список смотреть тут: https://docs.python.org/3.8/whatsnew/3.8.html\n",
    "\n",
    "Мы разберем в этой заметке:\n",
    "- assignment expressions `:=` aka моржовый оператор,\n",
    "- управление аргументами функций и новые positional-only parameters,\n",
    "- f-strings и новый спецификатор =."
   ]
  },
  {
   "cell_type": "markdown",
   "metadata": {},
   "source": [
    "## 1. Моржовый оператор\n",
    "\n",
    "По мотивам [PEP 572](https://www.python.org/dev/peps/pep-0572/).\n",
    "\n",
    "Моржовый оператор `:=` — разновидность оператора присваивания, с помощью которого можно давать имена подвыражениям в выражениях. Здесь мы не будем обсуждать удачность выбра синтаксиса, а просто рассмотрим 3 примера использования, где оператор может быть полезен:\n",
    "- в условиях,\n",
    "- в list comprehantion,\n",
    "- в lambda-выражениях.\n",
    "\n",
    "На английском walrus (читать как ˈwȯl-rəs) operator."
   ]
  },
  {
   "cell_type": "markdown",
   "metadata": {},
   "source": [
    "### Имена в условиях"
   ]
  },
  {
   "cell_type": "markdown",
   "metadata": {},
   "source": [
    "Бывают ситуации, когда надо проверить доступность данных перед их использованием. Рассмотрим пример с функцией `find`, которая возвращает индекс начала подстроки в строке. Будем искать в это строке и будем возвращать подстроку начиная с искомого слова и до конца."
   ]
  },
  {
   "cell_type": "code",
   "execution_count": 53,
   "metadata": {},
   "outputs": [],
   "source": [
    "text = 'Пока кормят — ешь, пока поят — пей… Все как у людей…'"
   ]
  },
  {
   "cell_type": "markdown",
   "metadata": {},
   "source": [
    "Будем искать слово, которого нет."
   ]
  },
  {
   "cell_type": "code",
   "execution_count": 58,
   "metadata": {},
   "outputs": [],
   "source": [
    "# Ищем слово, которого нет (ожидается, что ничего не напечатает)\n",
    "res = text.find('где')\n",
    "if res != -1:\n",
    "    print(text[res:])"
   ]
  },
  {
   "cell_type": "markdown",
   "metadata": {},
   "source": [
    "Будем искать слово, которое есть"
   ]
  },
  {
   "cell_type": "code",
   "execution_count": 59,
   "metadata": {},
   "outputs": [
    {
     "name": "stdout",
     "output_type": "stream",
     "text": [
      "как у людей…\n"
     ]
    }
   ],
   "source": [
    "# Ищем слово, которое есть (ожидается, что напечататье часть строки от слова как и до конца)\n",
    "res = text.find('как')\n",
    "if res != -1:\n",
    "    print(text[res:])"
   ]
  },
  {
   "cell_type": "code",
   "execution_count": 60,
   "metadata": {},
   "outputs": [
    {
     "name": "stdout",
     "output_type": "stream",
     "text": [
      "как у людей…\n"
     ]
    }
   ],
   "source": [
    "# Упростим предыдущий код с помощью оператора :=\n",
    "if (res := text.find('как')) != -1:\n",
    "    print(text[res:])"
   ]
  },
  {
   "cell_type": "markdown",
   "metadata": {},
   "source": [
    "### Имена в list comprehantion"
   ]
  },
  {
   "cell_type": "code",
   "execution_count": 73,
   "metadata": {},
   "outputs": [],
   "source": [
    "# Простейшая медленная функция возведения числа x в степень n\n",
    "def pow(x,n):\n",
    "    print('Вызов функции pow')\n",
    "    res = 1\n",
    "    while n:\n",
    "        res *= x\n",
    "        n -= 1\n",
    "    return res"
   ]
  },
  {
   "cell_type": "markdown",
   "metadata": {},
   "source": [
    "Создадим список квадратов чисел от 0 до 9, которые четные"
   ]
  },
  {
   "cell_type": "code",
   "execution_count": 75,
   "metadata": {},
   "outputs": [
    {
     "name": "stdout",
     "output_type": "stream",
     "text": [
      "Вызов функции pow\n",
      "Вызов функции pow\n",
      "Вызов функции pow\n",
      "Вызов функции pow\n",
      "Вызов функции pow\n",
      "Вызов функции pow\n",
      "Вызов функции pow\n",
      "Вызов функции pow\n",
      "Вызов функции pow\n",
      "Вызов функции pow\n",
      "Вызов функции pow\n",
      "Вызов функции pow\n",
      "Вызов функции pow\n",
      "Вызов функции pow\n",
      "Вызов функции pow\n"
     ]
    },
    {
     "data": {
      "text/plain": [
       "[0, 4, 16, 36, 64]"
      ]
     },
     "execution_count": 75,
     "metadata": {},
     "output_type": "execute_result"
    }
   ],
   "source": [
    "# Простое прямое решение через list comprehantion\n",
    "[pow(x, 2) for x in range(10) if pow(x, 2) % 2 == 0]"
   ]
  },
  {
   "cell_type": "code",
   "execution_count": 76,
   "metadata": {},
   "outputs": [
    {
     "name": "stdout",
     "output_type": "stream",
     "text": [
      "Вызов функции pow\n",
      "Вызов функции pow\n",
      "Вызов функции pow\n",
      "Вызов функции pow\n",
      "Вызов функции pow\n",
      "Вызов функции pow\n",
      "Вызов функции pow\n",
      "Вызов функции pow\n",
      "Вызов функции pow\n",
      "Вызов функции pow\n"
     ]
    },
    {
     "data": {
      "text/plain": [
       "[0, 4, 16, 36, 64]"
      ]
     },
     "execution_count": 76,
     "metadata": {},
     "output_type": "execute_result"
    }
   ],
   "source": [
    "# Упростим предыдущий код с помощью walrus оператора\n",
    "[p for x in range(10) if (p:=pow(x, 2)) % 2 == 0]"
   ]
  },
  {
   "cell_type": "markdown",
   "metadata": {},
   "source": [
    "Количество вызовов медленной функции `pow(x,n)` сократилось!"
   ]
  },
  {
   "cell_type": "markdown",
   "metadata": {},
   "source": [
    "### Имена в lambda\n",
    "\n",
    "Если надо переиспользовать значения в lambda-функциях, то удобно применить `:=` оператор. Рассмотрим комплексное число."
   ]
  },
  {
   "cell_type": "code",
   "execution_count": 16,
   "metadata": {},
   "outputs": [
    {
     "name": "stdout",
     "output_type": "stream",
     "text": [
      "(3+4j)\n"
     ]
    }
   ],
   "source": [
    "# Комплексное число\n",
    "number = complex(3,4)\n",
    "print(number)"
   ]
  },
  {
   "cell_type": "code",
   "execution_count": 17,
   "metadata": {},
   "outputs": [
    {
     "data": {
      "text/plain": [
       "(3.0, 4.0, 5.0)"
      ]
     },
     "execution_count": 17,
     "metadata": {},
     "output_type": "execute_result"
    }
   ],
   "source": [
    "# Функция для вычисисления Re, Im и модуля комплексного числа\n",
    "f = lambda z: (z.real, z.imag, (z.real**2+z.imag**2)**0.5)\n",
    "f(number)"
   ]
  },
  {
   "cell_type": "code",
   "execution_count": 18,
   "metadata": {},
   "outputs": [
    {
     "data": {
      "text/plain": [
       "(3.0, 4.0, 5.0)"
      ]
     },
     "execution_count": 18,
     "metadata": {},
     "output_type": "execute_result"
    }
   ],
   "source": [
    "# Функция для вычисисления Re, Im и модуля комплексного числа (упрощенная)\n",
    "f = lambda z: (re:=z.real, im:=z.imag, (re**2+im**2)**0.5)\n",
    "f(number)"
   ]
  },
  {
   "cell_type": "markdown",
   "metadata": {},
   "source": [
    "## 2. Позиционные аргументы"
   ]
  },
  {
   "cell_type": "code",
   "execution_count": 21,
   "metadata": {},
   "outputs": [
    {
     "name": "stdout",
     "output_type": "stream",
     "text": [
      "1 2 3 4 5 6 7\n"
     ]
    }
   ],
   "source": [
    "def func(a,b,c,d,e,f,g):\n",
    "    print(a,b,c,d,e,f,g)\n",
    "    \n",
    "func(1,2,3,4,5,6,7)"
   ]
  },
  {
   "cell_type": "code",
   "execution_count": 22,
   "metadata": {},
   "outputs": [
    {
     "name": "stdout",
     "output_type": "stream",
     "text": [
      "1 2 3 4 5 6 7\n"
     ]
    }
   ],
   "source": [
    "def func(a=1,b=2,c=3,d=4,e=5,f=6,g=7):\n",
    "    print(a,b,c,d,e,f,g)\n",
    "    \n",
    "func()"
   ]
  },
  {
   "cell_type": "code",
   "execution_count": 25,
   "metadata": {},
   "outputs": [
    {
     "ename": "TypeError",
     "evalue": "func() takes from 0 to 1 positional arguments but 2 were given",
     "output_type": "error",
     "traceback": [
      "\u001b[0;31m---------------------------------------------------------------------------\u001b[0m",
      "\u001b[0;31mTypeError\u001b[0m                                 Traceback (most recent call last)",
      "\u001b[0;32m<ipython-input-25-60e4b721e14d>\u001b[0m in \u001b[0;36m<module>\u001b[0;34m\u001b[0m\n\u001b[1;32m      2\u001b[0m     \u001b[0mprint\u001b[0m\u001b[0;34m(\u001b[0m\u001b[0ma\u001b[0m\u001b[0;34m,\u001b[0m\u001b[0mb\u001b[0m\u001b[0;34m,\u001b[0m\u001b[0mc\u001b[0m\u001b[0;34m,\u001b[0m\u001b[0md\u001b[0m\u001b[0;34m,\u001b[0m\u001b[0me\u001b[0m\u001b[0;34m,\u001b[0m\u001b[0mf\u001b[0m\u001b[0;34m,\u001b[0m\u001b[0mg\u001b[0m\u001b[0;34m)\u001b[0m\u001b[0;34m\u001b[0m\u001b[0;34m\u001b[0m\u001b[0m\n\u001b[1;32m      3\u001b[0m \u001b[0;34m\u001b[0m\u001b[0m\n\u001b[0;32m----> 4\u001b[0;31m \u001b[0mfunc\u001b[0m\u001b[0;34m(\u001b[0m\u001b[0;36m1\u001b[0m\u001b[0;34m,\u001b[0m \u001b[0;36m2\u001b[0m\u001b[0;34m)\u001b[0m\u001b[0;34m\u001b[0m\u001b[0;34m\u001b[0m\u001b[0m\n\u001b[0m",
      "\u001b[0;31mTypeError\u001b[0m: func() takes from 0 to 1 positional arguments but 2 were given"
     ]
    }
   ],
   "source": [
    "def func(a=1,*,b=2,c=3,d=4,e=5,f=6,g=7):\n",
    "    print(a,b,c,d,e,f,g)\n",
    "    \n",
    "func(1, 2)"
   ]
  },
  {
   "cell_type": "code",
   "execution_count": 26,
   "metadata": {},
   "outputs": [
    {
     "name": "stdout",
     "output_type": "stream",
     "text": [
      "1 2 3 4 5 6 7\n"
     ]
    }
   ],
   "source": [
    "def func(a=1,*,b=2,c=3,d=4,e=5,f=6,g=7):\n",
    "    print(a,b,c,d,e,f,g)\n",
    "    \n",
    "func(1, b=2)"
   ]
  },
  {
   "cell_type": "code",
   "execution_count": 27,
   "metadata": {},
   "outputs": [
    {
     "name": "stdout",
     "output_type": "stream",
     "text": [
      "1 2 3 4 5 6 7\n"
     ]
    }
   ],
   "source": [
    "def func(a=1,*,b=2,c=3,d=4,e=5,f=6,g=7):\n",
    "    print(a,b,c,d,e,f,g)\n",
    "    \n",
    "func(a=1, b=2)"
   ]
  },
  {
   "cell_type": "code",
   "execution_count": 29,
   "metadata": {},
   "outputs": [
    {
     "ename": "TypeError",
     "evalue": "func() got some positional-only arguments passed as keyword arguments: 'a'",
     "output_type": "error",
     "traceback": [
      "\u001b[0;31m---------------------------------------------------------------------------\u001b[0m",
      "\u001b[0;31mTypeError\u001b[0m                                 Traceback (most recent call last)",
      "\u001b[0;32m<ipython-input-29-3a98167ae93a>\u001b[0m in \u001b[0;36m<module>\u001b[0;34m\u001b[0m\n\u001b[1;32m      2\u001b[0m     \u001b[0mprint\u001b[0m\u001b[0;34m(\u001b[0m\u001b[0ma\u001b[0m\u001b[0;34m,\u001b[0m\u001b[0mb\u001b[0m\u001b[0;34m,\u001b[0m\u001b[0mc\u001b[0m\u001b[0;34m,\u001b[0m\u001b[0md\u001b[0m\u001b[0;34m,\u001b[0m\u001b[0me\u001b[0m\u001b[0;34m,\u001b[0m\u001b[0mf\u001b[0m\u001b[0;34m,\u001b[0m\u001b[0mg\u001b[0m\u001b[0;34m)\u001b[0m\u001b[0;34m\u001b[0m\u001b[0;34m\u001b[0m\u001b[0m\n\u001b[1;32m      3\u001b[0m \u001b[0;34m\u001b[0m\u001b[0m\n\u001b[0;32m----> 4\u001b[0;31m \u001b[0mfunc\u001b[0m\u001b[0;34m(\u001b[0m\u001b[0ma\u001b[0m\u001b[0;34m=\u001b[0m\u001b[0;36m1\u001b[0m\u001b[0;34m,\u001b[0m \u001b[0mb\u001b[0m\u001b[0;34m=\u001b[0m\u001b[0;36m2\u001b[0m\u001b[0;34m)\u001b[0m\u001b[0;34m\u001b[0m\u001b[0;34m\u001b[0m\u001b[0m\n\u001b[0m",
      "\u001b[0;31mTypeError\u001b[0m: func() got some positional-only arguments passed as keyword arguments: 'a'"
     ]
    }
   ],
   "source": [
    "def func(a=1,/,b=2,c=3,d=4,e=5,f=6,g=7):\n",
    "    print(a,b,c,d,e,f,g)\n",
    "    \n",
    "func(a=1, b=2)"
   ]
  },
  {
   "cell_type": "code",
   "execution_count": 30,
   "metadata": {},
   "outputs": [
    {
     "name": "stdout",
     "output_type": "stream",
     "text": [
      "1 2 3 4 5 6 7\n"
     ]
    }
   ],
   "source": [
    "def func(a=1,/,b=2,c=3,d=4,e=5,f=6,g=7):\n",
    "    print(a,b,c,d,e,f,g)\n",
    "    \n",
    "func(1, b=2)"
   ]
  },
  {
   "cell_type": "code",
   "execution_count": 35,
   "metadata": {},
   "outputs": [
    {
     "data": {
      "text/plain": [
       "3"
      ]
     },
     "execution_count": 35,
     "metadata": {},
     "output_type": "execute_result"
    }
   ],
   "source": [
    "def length(obj,/):\n",
    "    return len(obj)\n",
    "\n",
    "# length(obj=[1,2,3]) <-- было бы избыточно\n",
    "length([1,2,3])"
   ]
  },
  {
   "cell_type": "markdown",
   "metadata": {},
   "source": [
    "## 3. Метки в f-строках"
   ]
  },
  {
   "cell_type": "code",
   "execution_count": 40,
   "metadata": {},
   "outputs": [
    {
     "name": "stdout",
     "output_type": "stream",
     "text": [
      "Vlad, 23\n"
     ]
    }
   ],
   "source": [
    "name, age = 'Vlad', 23\n",
    "print(f'{name}, {age}')"
   ]
  },
  {
   "cell_type": "code",
   "execution_count": 43,
   "metadata": {},
   "outputs": [
    {
     "name": "stdout",
     "output_type": "stream",
     "text": [
      "age=23, age=23\n"
     ]
    }
   ],
   "source": [
    "print(f'{age=}, {age=}')"
   ]
  },
  {
   "cell_type": "code",
   "execution_count": 46,
   "metadata": {},
   "outputs": [
    {
     "name": "stdout",
     "output_type": "stream",
     "text": [
      "age=23, 529\n"
     ]
    }
   ],
   "source": [
    "print(f'{age=}, {age**2}')"
   ]
  },
  {
   "cell_type": "code",
   "execution_count": 47,
   "metadata": {},
   "outputs": [
    {
     "name": "stdout",
     "output_type": "stream",
     "text": [
      "last updated: 2019-10-23 \n",
      "\n",
      "CPython 3.8.0\n",
      "IPython 7.8.0\n"
     ]
    }
   ],
   "source": [
    "%load_ext watermark\n",
    "%watermark -d -u -v -iv"
   ]
  },
  {
   "cell_type": "code",
   "execution_count": null,
   "metadata": {},
   "outputs": [],
   "source": []
  }
 ],
 "metadata": {
  "kernelspec": {
   "display_name": "Python 3 (ipykernel)",
   "language": "python",
   "name": "python3"
  },
  "language_info": {
   "codemirror_mode": {
    "name": "ipython",
    "version": 3
   },
   "file_extension": ".py",
   "mimetype": "text/x-python",
   "name": "python",
   "nbconvert_exporter": "python",
   "pygments_lexer": "ipython3",
   "version": "3.11.4"
  }
 },
 "nbformat": 4,
 "nbformat_minor": 4
}
