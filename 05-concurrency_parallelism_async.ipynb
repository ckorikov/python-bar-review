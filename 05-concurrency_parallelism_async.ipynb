{
 "cells": [
  {
   "cell_type": "markdown",
   "metadata": {},
   "source": [
    "# Конкурентное, параллельное и асинхронное  программирование"
   ]
  },
  {
   "cell_type": "markdown",
   "metadata": {},
   "source": [
    "## 1. О параллелизме"
   ]
  },
  {
   "cell_type": "markdown",
   "metadata": {},
   "source": [
    "**Параллельные вычисления** — способ решать задачи с помощью нескольких вычислительных модулей. Распараллеливать можно независимые части в задаче или её решении.\n",
    "\n",
    "Выделяют два вида параллелизма.\n",
    "- *Параллелизм задач* — когда есть независимы подзадачи. Разные инструкции выполняются на одних и тех же данных.\n",
    "- *Параллелизм данных*, когда есть независимые участки данных. Одинаковые инструкции выполняются на разных кусочках данных."
   ]
  },
  {
   "cell_type": "markdown",
   "metadata": {},
   "source": [
    "#### Имеет ли смысл распараллеливать задачу? Закон Амдала (англ. Amdahl’s Law)\n",
    "Закон Амдала показывает во сколько раз меньше времени потребуется параллельной программе для решения задачи по сравнению с последовательной. \n",
    "$$\n",
    "\\text{Speed-up}=\\frac{1}{S+P/n}\n",
    "$$"
   ]
  },
  {
   "cell_type": "markdown",
   "metadata": {},
   "source": [
    "### Модели параллельного программирования\n",
    "\n",
    "\n",
    "Есть две программные модели параллельного программирования:\n",
    "- модель с общей памятью,\n",
    "- модель с распределённой памятью.\n",
    "\n",
    "#### Модель с общей памятью (англ. Shared Memory Model)\n",
    "\n",
    "Различают два вида:\n",
    "- С потоками (англ. threads). OpenMP, Posix Threads.\n",
    "- Без потоков."
   ]
  },
  {
   "cell_type": "markdown",
   "metadata": {},
   "source": [
    "#### Модель с распределенной памятью (англ. Distributed Memory Model)\n",
    "\n",
    "Модель передачи сообщений (англ. Message Passing Model MPI).\n",
    "\n",
    "- Асинхронная передача сообщений. Actor model\n",
    "- Синхронная передача сообщений. Communicating sequential processes"
   ]
  },
  {
   "cell_type": "markdown",
   "metadata": {},
   "source": [
    "### Способы синхронизации\n",
    "\n",
    "- Семафоры\n",
    "- Мьютекс (англ. mutex = mutual exclusion) aka Lock.\n",
    "- Критические секции"
   ]
  },
  {
   "cell_type": "markdown",
   "metadata": {},
   "source": [
    "### Почитать\n",
    "- [Такие удивительные семафоры](https://habr.com/en/post/261273/)"
   ]
  },
  {
   "cell_type": "markdown",
   "metadata": {},
   "source": [
    "## 2. Threads\n",
    "\n",
    "Поток (thread) — подзадача процесса операционной системы. Потоки одного процесса делят между собой его общую память. В Python потоки являются системными объяктами, то есть ими управляет операционная система."
   ]
  },
  {
   "cell_type": "code",
   "execution_count": 1,
   "metadata": {},
   "outputs": [],
   "source": [
    "from threading import Thread"
   ]
  },
  {
   "cell_type": "code",
   "execution_count": 22,
   "metadata": {},
   "outputs": [
    {
     "name": "stdout",
     "output_type": "stream",
     "text": [
      "0\n",
      "1\n",
      "2\n",
      "3\n",
      "4\n",
      "0\n",
      "1\n",
      "2\n",
      "3\n",
      "4\n"
     ]
    }
   ],
   "source": [
    "def subproc(n: int):\n",
    "    [print(i) for i in range(n)]\n",
    "    \n",
    "thread1 = Thread(target=subproc, args=(5,))\n",
    "thread2 = Thread(target=subproc, args=(5,))\n",
    "\n",
    "thread1.start()\n",
    "thread2.start()\n",
    "thread1.join()\n",
    "thread2.join()"
   ]
  },
  {
   "cell_type": "code",
   "execution_count": 40,
   "metadata": {},
   "outputs": [
    {
     "name": "stdout",
     "output_type": "stream",
     "text": [
      "0\n",
      "1\n",
      "2\n",
      "3\n",
      "4\n",
      "0\n",
      "1\n",
      "2\n",
      "3\n",
      "4\n"
     ]
    }
   ],
   "source": [
    "class MyThread(Thread):\n",
    "    def __init__(self, n:int):\n",
    "        super().__init__(name=f\"Up to {n}\")\n",
    "        self.n = n\n",
    "    def run(self):\n",
    "        [print(i) for i in range(self.n)]\n",
    "        \n",
    "thread1 = MyThread(5)\n",
    "thread2 = MyThread(5)\n",
    "\n",
    "thread1.start()\n",
    "thread2.start()\n",
    "thread1.join()\n",
    "thread2.join()"
   ]
  },
  {
   "cell_type": "markdown",
   "metadata": {},
   "source": [
    "### Демонизация потоков\n",
    "\n",
    "Процесс будет работать до тех пор, пока все потоки не будут завершены. Если надо по явному завершению процесса прекратить работу всех дочерних потоков, то их надо сделать демонами."
   ]
  },
  {
   "cell_type": "code",
   "execution_count": 31,
   "metadata": {},
   "outputs": [
    {
     "name": "stdout",
     "output_type": "stream",
     "text": [
      "0\n",
      "1\n",
      "2\n",
      "3\n",
      "4\n",
      "0\n",
      "1\n",
      "2\n",
      "3\n",
      "4\n"
     ]
    }
   ],
   "source": [
    "def subproc(n: int):\n",
    "    [print(i) for i in range(n)]\n",
    "    \n",
    "thread1 = Thread(target=subproc, args=(5,), daemon=True)\n",
    "thread2 = Thread(target=subproc, args=(5,), daemon=True)\n",
    "\n",
    "thread1.start()\n",
    "thread2.start()\n",
    "thread1.join()\n",
    "thread2.join()"
   ]
  },
  {
   "cell_type": "markdown",
   "metadata": {},
   "source": [
    "### GIL (Global Interpreter Lock)\n",
    "\n",
    "GIL — глобальный lock интерпретатора. Это особенность реализации Python из-за которой нельзя одновременно использовать несколько процессоров для потоков. Все параллельные вычисления в Python реализуются с помощью модулей."
   ]
  },
  {
   "cell_type": "markdown",
   "metadata": {},
   "source": [
    "### Почитать\n",
    "- [Как устроен GIL в Python](https://habr.com/en/post/84629/)"
   ]
  },
  {
   "cell_type": "markdown",
   "metadata": {},
   "source": [
    "### Блокировка ресурсов"
   ]
  },
  {
   "cell_type": "markdown",
   "metadata": {},
   "source": [
    "#### Мьютекс"
   ]
  },
  {
   "cell_type": "code",
   "execution_count": 41,
   "metadata": {},
   "outputs": [],
   "source": [
    "from threading import Lock"
   ]
  },
  {
   "cell_type": "code",
   "execution_count": 47,
   "metadata": {},
   "outputs": [
    {
     "name": "stdout",
     "output_type": "stream",
     "text": [
      "<locked _thread.lock object at 0x109b52a80>\n",
      "<unlocked _thread.lock object at 0x109b52a80>\n"
     ]
    }
   ],
   "source": [
    "mutex = Lock()\n",
    "\n",
    "mutex.acquire()\n",
    "print(mutex)\n",
    "# Работа с общими ресурсами\n",
    "mutex.release()\n",
    "print(mutex)"
   ]
  },
  {
   "cell_type": "code",
   "execution_count": 64,
   "metadata": {},
   "outputs": [
    {
     "name": "stdout",
     "output_type": "stream",
     "text": [
      "0\n"
     ]
    }
   ],
   "source": [
    "x = 0\n",
    "def fun_inc(n:int):\n",
    "    global x\n",
    "    for _ in range(n):\n",
    "        x += 1\n",
    "    \n",
    "def fun_dec(n:int):\n",
    "    global x\n",
    "    for _ in range(n):\n",
    "        x -= 1\n",
    "\n",
    "thread1 = Thread(target=fun_inc, args=(5000,))\n",
    "thread2 = Thread(target=fun_dec, args=(5000,))\n",
    "\n",
    "thread1.start()\n",
    "thread2.start()\n",
    "thread1.join()\n",
    "thread2.join()\n",
    "\n",
    "print(x)"
   ]
  },
  {
   "cell_type": "code",
   "execution_count": 76,
   "metadata": {},
   "outputs": [],
   "source": [
    "try:\n",
    "    mutex.acquire()\n",
    "    # Работа с общими ресурсами\n",
    "\n",
    "except:\n",
    "    # Обрабатываем исключения\n",
    "    pass\n",
    "\n",
    "finally:\n",
    "    mutex.release()"
   ]
  },
  {
   "cell_type": "code",
   "execution_count": null,
   "metadata": {},
   "outputs": [],
   "source": [
    "with"
   ]
  },
  {
   "cell_type": "markdown",
   "metadata": {},
   "source": [
    "#### Рекурсивный мьютекс"
   ]
  },
  {
   "cell_type": "code",
   "execution_count": 74,
   "metadata": {},
   "outputs": [],
   "source": [
    "from threading import RLock"
   ]
  },
  {
   "cell_type": "markdown",
   "metadata": {},
   "source": [
    "#### Семафор"
   ]
  },
  {
   "cell_type": "code",
   "execution_count": 67,
   "metadata": {},
   "outputs": [],
   "source": [
    "from threading import Semaphore"
   ]
  },
  {
   "cell_type": "code",
   "execution_count": 69,
   "metadata": {},
   "outputs": [
    {
     "name": "stdout",
     "output_type": "stream",
     "text": [
      "<threading.Semaphore object at 0x109c6ceb8>\n",
      "<threading.Semaphore object at 0x109c6ceb8>\n"
     ]
    }
   ],
   "source": [
    "s = Semaphore(10)\n",
    "\n",
    "s.acquire()\n",
    "print(s)\n",
    "# Работа с общими ресурсами\n",
    "s.release()\n",
    "print(s)"
   ]
  },
  {
   "cell_type": "markdown",
   "metadata": {},
   "source": [
    "#### События"
   ]
  },
  {
   "cell_type": "code",
   "execution_count": 70,
   "metadata": {},
   "outputs": [],
   "source": [
    "from threading import Event"
   ]
  },
  {
   "cell_type": "code",
   "execution_count": 73,
   "metadata": {},
   "outputs": [
    {
     "name": "stdout",
     "output_type": "stream",
     "text": [
      "<threading.Event object at 0x109c6c080>\n",
      "<threading.Event object at 0x109c6c080>\n",
      "<threading.Event object at 0x109c6c080>\n"
     ]
    }
   ],
   "source": [
    "e = Event()\n",
    "\n",
    "#e.wait() # Ждём, когда кто-нибудь захватит флаг\n",
    "print(e)\n",
    "e.set() # Ставим флаг\n",
    "print(e)\n",
    "# Работа с общими ресурсами\n",
    "e.clear() # Снимаем флаг и ждём нового\n",
    "print(e)"
   ]
  },
  {
   "cell_type": "markdown",
   "metadata": {},
   "source": [
    "#### Условия"
   ]
  },
  {
   "cell_type": "markdown",
   "metadata": {},
   "source": [
    "## 3. Processes"
   ]
  },
  {
   "cell_type": "markdown",
   "metadata": {},
   "source": [
    "## 4. MPI"
   ]
  },
  {
   "cell_type": "markdown",
   "metadata": {},
   "source": [
    "## Бонус: аппаратный взгляд на паралелизм"
   ]
  },
  {
   "cell_type": "markdown",
   "metadata": {},
   "source": [
    "### Классификация Флина"
   ]
  },
  {
   "cell_type": "markdown",
   "metadata": {},
   "source": [
    "[Классификация Флина](https://en.wikipedia.org/wiki/Flynn%27s_taxonomy)\n",
    "\n",
    "![Flynn's Taxonomy](img/parallel-architectures.png)"
   ]
  }
 ],
 "metadata": {
  "kernelspec": {
   "display_name": "Python 3",
   "language": "python",
   "name": "python3"
  },
  "language_info": {
   "codemirror_mode": {
    "name": "ipython",
    "version": 3
   },
   "file_extension": ".py",
   "mimetype": "text/x-python",
   "name": "python",
   "nbconvert_exporter": "python",
   "pygments_lexer": "ipython3",
   "version": "3.7.4"
  }
 },
 "nbformat": 4,
 "nbformat_minor": 2
}
