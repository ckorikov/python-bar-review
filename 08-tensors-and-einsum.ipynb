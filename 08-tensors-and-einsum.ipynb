{
 "cells": [
  {
   "cell_type": "markdown",
   "id": "3b58b46f-863d-48b1-bb8e-5933f1a61f04",
   "metadata": {},
   "source": [
    "[GitHub Python Bar Review](https://github.com/ckorikov/python-bar-review)"
   ]
  },
  {
   "cell_type": "markdown",
   "id": "0da27244-44ca-4472-80c4-788d8d04f5b4",
   "metadata": {},
   "source": [
    "# Тензоры и нотация Эйнштейна"
   ]
  },
  {
   "cell_type": "markdown",
   "id": "89dbc843-2d76-4c54-8866-958b3193c08c",
   "metadata": {},
   "source": [
    "Две части:\n",
    "- математическая\n",
    "- программная"
   ]
  },
  {
   "cell_type": "markdown",
   "id": "e898d7b2-b9d7-4080-93ab-e618ffa58dc1",
   "metadata": {},
   "source": [
    "## 1. Математическая часть"
   ]
  },
  {
   "cell_type": "markdown",
   "id": "b55a781f-0111-4199-9791-a4524be8beeb",
   "metadata": {},
   "source": [
    "####  Некоторые объекты линейной алгебры"
   ]
  },
  {
   "cell_type": "markdown",
   "id": "afd67edc-b1a5-455e-9ecc-c2fad51637de",
   "metadata": {},
   "source": [
    "\n",
    "| Название | Абстрактный язык | Язык чисел (базис) | Язык матриц |\n",
    "| ---- | ---- | ---- | ---- |\n",
    "| Базис | $$\\vec{e_0}, \\vec{e_1}$$ |  | $$\\epsilon=\\left\\{\\vec{e_0}, \\vec{e_1}\\right\\}$$ |\n",
    "| Элемент | $$\\vec{x}$$ | $$\\vec{x}=\\sum_{i=0}^{n-1} x_i \\vec{e_i}$$ | $$\\vec{x}=\\epsilon X$$$$\\vec{x}=\\left\\{\\vec{e_0}, \\vec{e_1}\\right\\}\\begin{bmatrix}x_0\\\\ x_1\\end{bmatrix}$$<br><br><br> |\n",
    "| Линейная функция (форма) | $$f(\\vec{x})$$ | $$f(\\vec{x})=\\sum_{i=0}^{n-1} x_i f(\\vec{e_i})=\\sum_{i=0}^{n-1} x_i f_i = (\\vec{x},\\vec{f})$$ | $$f(\\vec{x})=X^T F$$$$f(\\vec{x})=\\begin{bmatrix}x_0 & x_1\\end{bmatrix}\\begin{bmatrix}f_0\\\\ f_1\\end{bmatrix}$$ |\n",
    "| Билинейная форма | $$b(\\vec{x},\\vec{y})$$ | $$b(\\vec{x},\\vec{y})=\\sum_{i,j=0}^{n-1} x_i y_j b(\\vec{e_i},\\vec{e_j})=\\sum_{i,j=0}^{n-1} x_i y_j b_{ij}$$ | $$b(\\vec{x},\\vec{y})=X^T B Y$$$$b(\\vec{x},\\vec{y})=\\begin{bmatrix}x_0 & x_1\\end{bmatrix}\\begin{bmatrix}b_{00} & b_{01}\\\\ b_{10} & b_{11}\\end{bmatrix}\\begin{bmatrix}y_0\\\\ y_1\\end{bmatrix}$$ |\n",
    "| Оператор | $$\\vec{y} = \\hat A \\vec{x}$$ | $$\\hat A \\vec{x}=\\sum_{i=0}^{n-1} x_i \\hat A\\vec{e_i}=\\sum_{i=0}^{n-1} x_i \\sum_{j=0}^{n-1} a_{ji}\\vec{e_j}$$ | $$Y=AX$$$$Y=\\begin{bmatrix}a_{00} & a_{01}\\\\ a_{10} & a_{11}\\end{bmatrix}\\begin{bmatrix}x_0\\\\ x_1\\end{bmatrix}$$ |\n"
   ]
  },
  {
   "cell_type": "markdown",
   "id": "6a8e556f-e0ad-451d-b69f-44c246c806fe",
   "metadata": {},
   "source": [
    "### Преобразование базиса"
   ]
  },
  {
   "cell_type": "markdown",
   "id": "1f304901-7413-4cda-8865-4d8da8aac585",
   "metadata": {},
   "source": [
    "\n",
    "| Название | В базисе $\\epsilon$ | Переход  $\\epsilon \\to\\phi$ | Обратный переход $\\phi \\to\\epsilon$ | Вместе с базисом |\n",
    "| ---- | ---- | ---- | ---- | ---- |\n",
    "| Базис | $$\\epsilon=\\left\\{\\vec{e_0}, \\vec{e_1}\\right\\}$$ | $$\\phi = \\epsilon T $$ | $$\\epsilon = \\phi T^{-1} $$ | + |\n",
    "| Элемент | $$\\vec{x}=\\epsilon X_\\epsilon$$<br><br><br> | $$X_\\phi=T^{-1}X_\\epsilon$$ | $$X_\\epsilon=T X_\\phi$$ | - |\n",
    "| Линейная функция (форма) | $$f(\\vec{x})=X_\\epsilon^T F_\\epsilon$$ | $$F_\\phi=T^{T}F_\\epsilon$$ | $$F_\\epsilon=(T^{-1})^TF_\\phi$$ | + |\n",
    "| Билинейная форма | $$b(\\vec{x},\\vec{y})=X_\\epsilon^T B_\\epsilon Y_\\epsilon$$ | $$B_\\phi = T^T B_\\epsilon T$$ | $$B_\\epsilon = (T^{-1})^T B_\\phi T^{-1}$$ | +/- |\n",
    "| Оператор | $$Y_\\epsilon=A_\\epsilon X_\\epsilon$$ | $$A_\\phi = T^{-1} A_\\epsilon T$$ | $$A_\\epsilon = T A_\\phi T^{-1}$$ | +/- |\n",
    "\n"
   ]
  },
  {
   "cell_type": "markdown",
   "id": "d09f78b6-a712-4af5-b610-fc7a608716a5",
   "metadata": {},
   "source": [
    "#### Тензорный язык"
   ]
  },
  {
   "cell_type": "markdown",
   "id": "3cee9fe5-dab2-4f68-a5bf-34f4cf127b6d",
   "metadata": {},
   "source": [
    "| Название | Переход  $\\epsilon \\to\\phi$ | Преобразование компоненты | Преобразование компоненты в нотации Эйнштейна |\n",
    "| ---- | ---- | ---- | ---- |\n",
    "| Базис | $$\\phi = \\epsilon T $$ | $$\\vec{f}_j=[T]_{ij}\\vec{e}_i$$ | $$\\vec{f}_j=[T]^i_j\\vec{e}_i$$ |\n",
    "| Элемент | $$X_\\phi=T^{-1}X_\\epsilon$$ | $$[x_\\phi]_i=\\sum_{j=0}^{n-1}[T^{-1}]_{ij} [x_\\epsilon]_j$$ | $$\\underset{\\phi}{x^j} = [T^{-1}]^j_i \\underset{\\epsilon}{x^i}$$ |\n",
    "| Линейная функция (форма) | $$F_\\phi=T^{T}F_\\epsilon$$ | $$[f_\\phi]_i = \\sum_{j=0}^{n-1}[T]_{ji} [f_\\epsilon]_j$$ | $$\\underset{\\phi}{f_j}=[T]^i_j \\underset{\\epsilon}{f_i}$$ |\n",
    "| Билинейная форма | $$B_\\phi = T^T B_\\epsilon T$$ | $$[B_\\phi]_{ij}=\\sum_{p=0}^{n-1}\\sum_{k=0}^{n-1}[T]_{ip} [T]_{kj} [B_\\epsilon]_{pk}$$ | $$\\underset{\\phi}{B_{ij}}=[T]^p_i [T]^k_j \\underset{\\epsilon}{B_{pk}} $$ |\n",
    "| Оператор | $$A_\\phi = T^{-1} A_\\epsilon T$$ | $$[A_\\phi]_{ij}=\\sum_{p=0}^{n-1}\\sum_{k=0}^{n-1} [T^{-1}]_{jp} [T]_{ik} [A_\\epsilon]_{pk} $$ | $$\\underset{\\phi}{A^j_i}=[T^{-1}]^j_p [T]^k_i \\underset{\\epsilon}{A^p_k} $$ |"
   ]
  },
  {
   "cell_type": "markdown",
   "id": "530d8e24-100c-4fc6-94a4-e5bb45c48007",
   "metadata": {},
   "source": [
    "##### Общий вид тензора"
   ]
  },
  {
   "cell_type": "markdown",
   "id": "417b32da-26f8-4e7b-ac8c-57d794c4ba1c",
   "metadata": {},
   "source": [
    "$$\n",
    "\\underset{\\phi}{a^{p_1p_2 \\ldots p_m}_{s_1s_2 \\ldots s_l}} = [T^{-1}]^{p_1}_{i_1} \\ldots [T^{-1}]^{p_m}_{i_m} [T]^{j_1}_{s_1} \\ldots [T]^{j_l}_{s_l}  \\underset{\\epsilon}{a^{i_1i_2 \\ldots i_m}_{j_1j_2 \\ldots j_l}} \n",
    "$$"
   ]
  },
  {
   "cell_type": "markdown",
   "id": "33f1efa8-3660-4d38-9100-977b1acb48d1",
   "metadata": {},
   "source": [
    "##### Тензорные операции\n",
    "- Сложение\n",
    "- Свёртка\n",
    "- Умножение\n",
    "    - Внешнее (тензорное)\n",
    "    - Внутреннее (скалярное)"
   ]
  },
  {
   "cell_type": "markdown",
   "id": "7aa05402-fbc5-4ff4-8217-cfc804ee2bca",
   "metadata": {},
   "source": [
    "##### Нотация Эйнштейна\n",
    "\n",
    "1. Суммируем по одинаковым верхним и нижним индексам (немой индекс) от начала до $n$\n",
    "2. Дубли сверху и снизу в индексах запрещены\n",
    "3. Остальные индексы свободные"
   ]
  },
  {
   "cell_type": "markdown",
   "id": "dd6632b8-7f40-463e-ba81-293550586a4c",
   "metadata": {},
   "source": [
    "###### Классическая запись\n",
    "\n",
    "$$\n",
    "b_i = \\sum_{i=0}^{n-1} A_{ij} v_j\n",
    "$$"
   ]
  },
  {
   "cell_type": "markdown",
   "id": "b04e4004-f606-455b-9355-d1aa91353c6b",
   "metadata": {},
   "source": [
    "###### Программная запись"
   ]
  },
  {
   "cell_type": "code",
   "execution_count": null,
   "id": "e6cacdba-25d5-4a97-b267-18f837e9bde7",
   "metadata": {},
   "outputs": [],
   "source": [
    "for i in range(n): # свободный\n",
    "    for j in range(n): # немой\n",
    "        b[i] += A[i, j] * v[j]"
   ]
  },
  {
   "cell_type": "markdown",
   "id": "422833ad-d64f-4d20-b641-09ef85b25bbc",
   "metadata": {},
   "source": [
    "###### Запись в нотации Эйнштейна\n",
    "\n",
    "$$\n",
    "b^i = \\sum_{i=0}^{n-1} A^i_j v^j = A^i_j v^j\n",
    "$$"
   ]
  },
  {
   "cell_type": "markdown",
   "id": "250b97b7-bccd-467d-83f7-7430de327fb9",
   "metadata": {},
   "source": [
    "## 2. Программная часть"
   ]
  },
  {
   "cell_type": "code",
   "execution_count": 49,
   "id": "0664224c-0b22-4789-ac58-16c03641c68c",
   "metadata": {},
   "outputs": [],
   "source": [
    "import numpy as np\n",
    "from numpyarray_to_latex.jupyter import to_jup"
   ]
  },
  {
   "cell_type": "markdown",
   "id": "e7a5f114-7c07-49c0-9c11-eee3b5cbc708",
   "metadata": {},
   "source": [
    "### Формат\n",
    "\n",
    "- Ковариантность и контрвариантность игнорируется\n",
    "- Произведение по повторяющимся индексам (фиктивным)\n",
    "- Суммирование по отсутсвующим индексам в результате\n",
    "- Индексы можно менять местами\n",
    "- Шаблон\n",
    "```\n",
    "индексы первого тензора, индексы второго тензора, индексы третьего тензора, ... -> индексы результата\n",
    "```"
   ]
  },
  {
   "cell_type": "markdown",
   "id": "64f03ce5-3baa-4d34-8c8a-f6341ba0ad39",
   "metadata": {},
   "source": [
    "### Элементарные операции"
   ]
  },
  {
   "cell_type": "markdown",
   "id": "8b1d5df1-45e4-4704-a710-ebc923313600",
   "metadata": {},
   "source": [
    "Создадим тензор"
   ]
  },
  {
   "cell_type": "code",
   "execution_count": 111,
   "id": "f44934fe-6be3-4275-8814-353dbc94cf20",
   "metadata": {},
   "outputs": [
    {
     "data": {
      "text/latex": [
       "$\\displaystyle \\left(\n",
       "\\begin{array}{}\n",
       "    0.00 &    1.00 &    2.00\\\\\n",
       "    3.00 &    4.00 &    5.00\n",
       "\\end{array}\n",
       "\\right)$"
      ],
      "text/plain": [
       "<IPython.core.display.Math object>"
      ]
     },
     "metadata": {},
     "output_type": "display_data"
    }
   ],
   "source": [
    "a = np.arange(6).reshape(2, 3)\n",
    "to_jup(a)"
   ]
  },
  {
   "cell_type": "markdown",
   "id": "34170166-38ec-404a-bf46-697bb4af3074",
   "metadata": {},
   "source": [
    "#### Транспонирование"
   ]
  },
  {
   "cell_type": "code",
   "execution_count": 52,
   "id": "dcd99cab-f08f-4abe-bb66-568a7ee7d437",
   "metadata": {},
   "outputs": [
    {
     "data": {
      "text/latex": [
       "$\\displaystyle \\left(\n",
       "\\begin{array}{}\n",
       "    0.00 &    3.00\\\\\n",
       "    1.00 &    4.00\\\\\n",
       "    2.00 &    5.00\n",
       "\\end{array}\n",
       "\\right)$"
      ],
      "text/plain": [
       "<IPython.core.display.Math object>"
      ]
     },
     "metadata": {},
     "output_type": "display_data"
    }
   ],
   "source": [
    "to_jup(np.einsum('ij->ji', a))"
   ]
  },
  {
   "cell_type": "markdown",
   "id": "1cad5196-91bd-4d20-aa7c-67baac76acaa",
   "metadata": {},
   "source": [
    "#### След"
   ]
  },
  {
   "cell_type": "code",
   "execution_count": 127,
   "id": "ef70adfb-ccb4-4b4e-b79f-4fceb538f4e6",
   "metadata": {},
   "outputs": [
    {
     "data": {
      "text/latex": [
       "$\\displaystyle \\left(\n",
       "\\begin{array}{}\n",
       "    0.00 &    1.00 &    2.00\\\\\n",
       "    3.00 &    4.00 &    5.00\\\\\n",
       "    6.00 &    7.00 &    8.00\n",
       "\\end{array}\n",
       "\\right)$"
      ],
      "text/plain": [
       "<IPython.core.display.Math object>"
      ]
     },
     "metadata": {},
     "output_type": "display_data"
    }
   ],
   "source": [
    "a = np.arange(9).reshape(3, 3)\n",
    "to_jup(a)"
   ]
  },
  {
   "cell_type": "code",
   "execution_count": 141,
   "id": "52e5e4a4-21c5-4188-9878-cbe3b2eb0cfc",
   "metadata": {},
   "outputs": [
    {
     "data": {
      "text/plain": [
       "12"
      ]
     },
     "execution_count": 141,
     "metadata": {},
     "output_type": "execute_result"
    }
   ],
   "source": [
    "np.einsum('ii->', a)"
   ]
  },
  {
   "cell_type": "code",
   "execution_count": 129,
   "id": "81294162-972b-4418-83b1-bcf9d3407ad9",
   "metadata": {},
   "outputs": [
    {
     "data": {
      "text/plain": [
       "12"
      ]
     },
     "execution_count": 129,
     "metadata": {},
     "output_type": "execute_result"
    }
   ],
   "source": [
    "np.trace(a)"
   ]
  },
  {
   "cell_type": "markdown",
   "id": "207ee88c-e7f8-4f4f-9b0f-f0ca5ab81387",
   "metadata": {},
   "source": [
    "Бонус: диагональ"
   ]
  },
  {
   "cell_type": "code",
   "execution_count": 142,
   "id": "498bb842-b1ba-4932-bd3f-b97eb316ae5f",
   "metadata": {},
   "outputs": [
    {
     "data": {
      "text/plain": [
       "array([0, 4, 8])"
      ]
     },
     "execution_count": 142,
     "metadata": {},
     "output_type": "execute_result"
    }
   ],
   "source": [
    "np.einsum('ii->i', a)"
   ]
  },
  {
   "cell_type": "markdown",
   "id": "a21a1a54-89c4-4457-99e7-5614c71ff272",
   "metadata": {},
   "source": [
    "#### Суммирование элементов 1 тензора"
   ]
  },
  {
   "cell_type": "markdown",
   "id": "e3f27007-5d7e-4720-b6e7-ef42d250d8bc",
   "metadata": {},
   "source": [
    "Всех"
   ]
  },
  {
   "cell_type": "code",
   "execution_count": 54,
   "id": "49606db3-f037-438a-9027-793d8c64479e",
   "metadata": {},
   "outputs": [
    {
     "data": {
      "text/plain": [
       "15"
      ]
     },
     "execution_count": 54,
     "metadata": {},
     "output_type": "execute_result"
    }
   ],
   "source": [
    "np.einsum('ij->', a)"
   ]
  },
  {
   "cell_type": "markdown",
   "id": "4a6d401b-6128-453d-ab18-ce404c7342c6",
   "metadata": {},
   "source": [
    "По столбцам"
   ]
  },
  {
   "cell_type": "code",
   "execution_count": 55,
   "id": "8d4b2675-7408-4dd2-ab7c-56da55ce3cc4",
   "metadata": {},
   "outputs": [
    {
     "data": {
      "text/latex": [
       "$\\displaystyle \\left(\n",
       "\\begin{array}{}\n",
       "    3.00 &    5.00 &    7.00\n",
       "\\end{array}\n",
       "\\right)$"
      ],
      "text/plain": [
       "<IPython.core.display.Math object>"
      ]
     },
     "metadata": {},
     "output_type": "display_data"
    }
   ],
   "source": [
    "to_jup(np.einsum('ij->j', a))"
   ]
  },
  {
   "cell_type": "markdown",
   "id": "4681ead6-ad9f-4c23-8fd1-1a532eec3c63",
   "metadata": {},
   "source": [
    "По строкам"
   ]
  },
  {
   "cell_type": "code",
   "execution_count": 56,
   "id": "762472b9-3d96-42cf-8550-bf41c7155c5f",
   "metadata": {},
   "outputs": [
    {
     "data": {
      "text/latex": [
       "$\\displaystyle \\left(\n",
       "\\begin{array}{}\n",
       "    3.00 &   12.00\n",
       "\\end{array}\n",
       "\\right)$"
      ],
      "text/plain": [
       "<IPython.core.display.Math object>"
      ]
     },
     "metadata": {},
     "output_type": "display_data"
    }
   ],
   "source": [
    "to_jup(np.einsum('ij->i', a))"
   ]
  },
  {
   "cell_type": "markdown",
   "id": "c4e2fdb3-84e4-4044-bead-27043b6917c4",
   "metadata": {},
   "source": [
    "### Свёртка тензора"
   ]
  },
  {
   "cell_type": "markdown",
   "id": "330105de-6932-45f0-b387-e285bab0c137",
   "metadata": {},
   "source": [
    "Понижение размерности на 2"
   ]
  },
  {
   "cell_type": "markdown",
   "id": "893581dc-cb94-4298-b84f-9adb4ce65b51",
   "metadata": {},
   "source": [
    "#### Простой пример"
   ]
  },
  {
   "cell_type": "code",
   "execution_count": 96,
   "id": "179df591-d2a1-4d4a-8b0c-07e525d49a14",
   "metadata": {},
   "outputs": [
    {
     "data": {
      "text/latex": [
       "$\\displaystyle \\left(\n",
       "\\begin{array}{}\n",
       "    0.00 &    1.00 &    2.00\\\\\n",
       "    3.00 &    4.00 &    5.00\n",
       "\\end{array}\n",
       "\\right)$"
      ],
      "text/plain": [
       "<IPython.core.display.Math object>"
      ]
     },
     "metadata": {},
     "output_type": "display_data"
    },
    {
     "data": {
      "text/latex": [
       "$\\displaystyle \\left(\n",
       "\\begin{array}{}\n",
       "    0.00 &    1.00 &    2.00 &    3.00 &    4.00\\\\\n",
       "    5.00 &    6.00 &    7.00 &    8.00 &    9.00\\\\\n",
       "   10.00 &   11.00 &   12.00 &   13.00 &   14.00\n",
       "\\end{array}\n",
       "\\right)$"
      ],
      "text/plain": [
       "<IPython.core.display.Math object>"
      ]
     },
     "metadata": {},
     "output_type": "display_data"
    }
   ],
   "source": [
    "a = np.arange(6).reshape(2, 3)\n",
    "b = np.arange(15).reshape(3, 5)\n",
    "to_jup(a)\n",
    "to_jup(b)"
   ]
  },
  {
   "cell_type": "code",
   "execution_count": 95,
   "id": "c93c2cbc-ecb0-48d9-b86e-0dda0f2ae6cb",
   "metadata": {},
   "outputs": [
    {
     "data": {
      "text/latex": [
       "$\\displaystyle \\left(\n",
       "\\begin{array}{}\n",
       "   25.00 &   28.00 &   31.00 &   34.00 &   37.00\\\\\n",
       "   70.00 &   82.00 &   94.00 &  106.00 &  118.00\n",
       "\\end{array}\n",
       "\\right)$"
      ],
      "text/plain": [
       "<IPython.core.display.Math object>"
      ]
     },
     "metadata": {},
     "output_type": "display_data"
    }
   ],
   "source": [
    "to_jup(np.einsum('pq,qt->pt', a, b))"
   ]
  },
  {
   "cell_type": "markdown",
   "id": "7f03dc51-f917-4a07-a2a7-f23e0e39052c",
   "metadata": {},
   "source": [
    "#### Пример посложнее"
   ]
  },
  {
   "cell_type": "code",
   "execution_count": 98,
   "id": "80569457-22a9-4e4f-8f77-0c5704280acf",
   "metadata": {},
   "outputs": [
    {
     "data": {
      "text/plain": [
       "(2, 11, 5, 2, 7)"
      ]
     },
     "execution_count": 98,
     "metadata": {},
     "output_type": "execute_result"
    }
   ],
   "source": [
    "a = np.arange(66).reshape(2, 3, 11)\n",
    "b = np.arange(210).reshape(3, 5, 2, 7)\n",
    "np.einsum('pqr,qtsi->prtsi', a, b).shape"
   ]
  },
  {
   "cell_type": "markdown",
   "id": "2077e436-7a4f-43a1-b661-b7831a457b52",
   "metadata": {},
   "source": [
    "### Умножение "
   ]
  },
  {
   "cell_type": "markdown",
   "id": "d328fb62-ed05-4129-9ee9-4ca8f6ff1bac",
   "metadata": {},
   "source": [
    "#### Матрица на вектор"
   ]
  },
  {
   "cell_type": "code",
   "execution_count": 59,
   "id": "c84d70b6-234e-4b9f-9654-6aed28fa40e9",
   "metadata": {},
   "outputs": [
    {
     "data": {
      "text/latex": [
       "$\\displaystyle \\left(\n",
       "\\begin{array}{}\n",
       "    0.00 &    1.00 &    2.00\\\\\n",
       "    3.00 &    4.00 &    5.00\n",
       "\\end{array}\n",
       "\\right)$"
      ],
      "text/plain": [
       "<IPython.core.display.Math object>"
      ]
     },
     "metadata": {},
     "output_type": "display_data"
    },
    {
     "data": {
      "text/latex": [
       "$\\displaystyle \\left(\n",
       "\\begin{array}{}\n",
       "    0.00 &    1.00 &    2.00\n",
       "\\end{array}\n",
       "\\right)$"
      ],
      "text/plain": [
       "<IPython.core.display.Math object>"
      ]
     },
     "metadata": {},
     "output_type": "display_data"
    }
   ],
   "source": [
    "a = np.arange(6).reshape(2, 3)\n",
    "b = np.arange(3)\n",
    "to_jup(a)\n",
    "to_jup(b)"
   ]
  },
  {
   "cell_type": "code",
   "execution_count": 60,
   "id": "facf0c5a-927d-4414-b54c-3131191d2c65",
   "metadata": {},
   "outputs": [
    {
     "data": {
      "text/latex": [
       "$\\displaystyle \\left(\n",
       "\\begin{array}{}\n",
       "    5.00 &   14.00\n",
       "\\end{array}\n",
       "\\right)$"
      ],
      "text/plain": [
       "<IPython.core.display.Math object>"
      ]
     },
     "metadata": {},
     "output_type": "display_data"
    }
   ],
   "source": [
    "to_jup(np.einsum('ik,k->i', a, b))"
   ]
  },
  {
   "cell_type": "markdown",
   "id": "4a53eec8-874d-46ab-bcaa-9726b9e7f41f",
   "metadata": {},
   "source": [
    "#### Матрица на матрицу"
   ]
  },
  {
   "cell_type": "code",
   "execution_count": 61,
   "id": "5b0c9490-30b8-44d2-8501-76d0ae1c4158",
   "metadata": {},
   "outputs": [
    {
     "data": {
      "text/latex": [
       "$\\displaystyle \\left(\n",
       "\\begin{array}{}\n",
       "    0.00 &    1.00 &    2.00\\\\\n",
       "    3.00 &    4.00 &    5.00\n",
       "\\end{array}\n",
       "\\right)$"
      ],
      "text/plain": [
       "<IPython.core.display.Math object>"
      ]
     },
     "metadata": {},
     "output_type": "display_data"
    },
    {
     "data": {
      "text/latex": [
       "$\\displaystyle \\left(\n",
       "\\begin{array}{}\n",
       "    0.00 &    1.00 &    2.00 &    3.00 &    4.00\\\\\n",
       "    5.00 &    6.00 &    7.00 &    8.00 &    9.00\\\\\n",
       "   10.00 &   11.00 &   12.00 &   13.00 &   14.00\n",
       "\\end{array}\n",
       "\\right)$"
      ],
      "text/plain": [
       "<IPython.core.display.Math object>"
      ]
     },
     "metadata": {},
     "output_type": "display_data"
    }
   ],
   "source": [
    "a = np.arange(6).reshape(2, 3)\n",
    "b = np.arange(15).reshape(3, 5)\n",
    "to_jup(a)\n",
    "to_jup(b)"
   ]
  },
  {
   "cell_type": "code",
   "execution_count": 62,
   "id": "1d9fb91e-d2c7-476d-be64-ce0b85c2774d",
   "metadata": {},
   "outputs": [
    {
     "data": {
      "text/latex": [
       "$\\displaystyle \\left(\n",
       "\\begin{array}{}\n",
       "   25.00 &   28.00 &   31.00 &   34.00 &   37.00\\\\\n",
       "   70.00 &   82.00 &   94.00 &  106.00 &  118.00\n",
       "\\end{array}\n",
       "\\right)$"
      ],
      "text/plain": [
       "<IPython.core.display.Math object>"
      ]
     },
     "metadata": {},
     "output_type": "display_data"
    }
   ],
   "source": [
    "to_jup(np.einsum('ik,kj->ij', a, b))"
   ]
  },
  {
   "cell_type": "markdown",
   "id": "21ffaf34-6840-4da7-93c6-6e602e86d38e",
   "metadata": {},
   "source": [
    "##### Матрица на матрицу в батче"
   ]
  },
  {
   "cell_type": "code",
   "execution_count": 103,
   "id": "4cfb9e6f-f1e7-43fc-a13a-ff94fe5a1a3d",
   "metadata": {},
   "outputs": [
    {
     "data": {
      "text/plain": [
       "(2, 2, 5)"
      ]
     },
     "execution_count": 103,
     "metadata": {},
     "output_type": "execute_result"
    }
   ],
   "source": [
    "a = np.arange(2*6).reshape(2, 2, 3)\n",
    "b = np.arange(2*15).reshape(2, 3, 5)\n",
    "np.einsum('bik,bkj->bij', a, b).shape"
   ]
  },
  {
   "cell_type": "markdown",
   "id": "6a2c7d9a-812e-4a8c-961d-5e1a94fd1100",
   "metadata": {},
   "source": [
    "#### Адамара (поэлементное)"
   ]
  },
  {
   "cell_type": "code",
   "execution_count": 71,
   "id": "dcacb944-dc57-405d-b1a6-c196e7193991",
   "metadata": {},
   "outputs": [
    {
     "data": {
      "text/latex": [
       "$\\displaystyle \\left(\n",
       "\\begin{array}{}\n",
       "    0.00 &    1.00 &    2.00\\\\\n",
       "    3.00 &    4.00 &    5.00\n",
       "\\end{array}\n",
       "\\right)$"
      ],
      "text/plain": [
       "<IPython.core.display.Math object>"
      ]
     },
     "metadata": {},
     "output_type": "display_data"
    },
    {
     "data": {
      "text/latex": [
       "$\\displaystyle \\left(\n",
       "\\begin{array}{}\n",
       "    6.00 &    7.00 &    8.00\\\\\n",
       "    9.00 &   10.00 &   11.00\n",
       "\\end{array}\n",
       "\\right)$"
      ],
      "text/plain": [
       "<IPython.core.display.Math object>"
      ]
     },
     "metadata": {},
     "output_type": "display_data"
    }
   ],
   "source": [
    "a = np.arange(6).reshape(2, 3)\n",
    "b = np.arange(6,12).reshape(2, 3)\n",
    "to_jup(a)\n",
    "to_jup(b)"
   ]
  },
  {
   "cell_type": "code",
   "execution_count": 72,
   "id": "370e3c23-8ad6-44f2-bee3-50e4273ce852",
   "metadata": {},
   "outputs": [
    {
     "data": {
      "text/latex": [
       "$\\displaystyle \\left(\n",
       "\\begin{array}{}\n",
       "    0.00 &    7.00 &   16.00\\\\\n",
       "   27.00 &   40.00 &   55.00\n",
       "\\end{array}\n",
       "\\right)$"
      ],
      "text/plain": [
       "<IPython.core.display.Math object>"
      ]
     },
     "metadata": {},
     "output_type": "display_data"
    }
   ],
   "source": [
    "to_jup(np.einsum('ij,ij->ij', a, b))"
   ]
  },
  {
   "cell_type": "markdown",
   "id": "ef911bfc-a89d-43aa-9aaf-65fa6bbda4a0",
   "metadata": {},
   "source": [
    "#### Внунтренее (cкалярное)"
   ]
  },
  {
   "cell_type": "markdown",
   "id": "f8ab4504-ffcb-4996-89b1-e7f2d9da4a3f",
   "metadata": {},
   "source": [
    "##### Для векторов"
   ]
  },
  {
   "cell_type": "code",
   "execution_count": 63,
   "id": "8f053599-73a2-4517-acd4-1031055e53ed",
   "metadata": {},
   "outputs": [
    {
     "data": {
      "text/latex": [
       "$\\displaystyle \\left(\n",
       "\\begin{array}{}\n",
       "    0.00 &    1.00 &    2.00\n",
       "\\end{array}\n",
       "\\right)$"
      ],
      "text/plain": [
       "<IPython.core.display.Math object>"
      ]
     },
     "metadata": {},
     "output_type": "display_data"
    },
    {
     "data": {
      "text/latex": [
       "$\\displaystyle \\left(\n",
       "\\begin{array}{}\n",
       "    3.00 &    4.00 &    5.00\n",
       "\\end{array}\n",
       "\\right)$"
      ],
      "text/plain": [
       "<IPython.core.display.Math object>"
      ]
     },
     "metadata": {},
     "output_type": "display_data"
    }
   ],
   "source": [
    "a = np.arange(3)\n",
    "b = np.arange(3,6)\n",
    "to_jup(a)\n",
    "to_jup(b)"
   ]
  },
  {
   "cell_type": "code",
   "execution_count": 64,
   "id": "13666003-cba1-427c-ad04-5bdfb511784b",
   "metadata": {},
   "outputs": [
    {
     "data": {
      "text/plain": [
       "14"
      ]
     },
     "execution_count": 64,
     "metadata": {},
     "output_type": "execute_result"
    }
   ],
   "source": [
    "np.einsum('i,i->', a, b)"
   ]
  },
  {
   "cell_type": "markdown",
   "id": "f35b3abd-903f-4339-b5e8-844f1119d86c",
   "metadata": {},
   "source": [
    "##### Для матриц"
   ]
  },
  {
   "cell_type": "code",
   "execution_count": 65,
   "id": "9c69371f-442b-4249-9255-248fa751a151",
   "metadata": {},
   "outputs": [
    {
     "data": {
      "text/latex": [
       "$\\displaystyle \\left(\n",
       "\\begin{array}{}\n",
       "    0.00 &    1.00 &    2.00\\\\\n",
       "    3.00 &    4.00 &    5.00\n",
       "\\end{array}\n",
       "\\right)$"
      ],
      "text/plain": [
       "<IPython.core.display.Math object>"
      ]
     },
     "metadata": {},
     "output_type": "display_data"
    },
    {
     "data": {
      "text/latex": [
       "$\\displaystyle \\left(\n",
       "\\begin{array}{}\n",
       "    6.00 &    7.00 &    8.00\\\\\n",
       "    9.00 &   10.00 &   11.00\n",
       "\\end{array}\n",
       "\\right)$"
      ],
      "text/plain": [
       "<IPython.core.display.Math object>"
      ]
     },
     "metadata": {},
     "output_type": "display_data"
    }
   ],
   "source": [
    "a = np.arange(6).reshape(2, 3)\n",
    "b = np.arange(6,12).reshape(2, 3)\n",
    "to_jup(a)\n",
    "to_jup(b)"
   ]
  },
  {
   "cell_type": "code",
   "execution_count": 68,
   "id": "724109e8-9e16-40a5-bf9a-11122114c9aa",
   "metadata": {},
   "outputs": [
    {
     "data": {
      "text/plain": [
       "145"
      ]
     },
     "execution_count": 68,
     "metadata": {},
     "output_type": "execute_result"
    }
   ],
   "source": [
    "np.einsum('ij,ij->', a, b)"
   ]
  },
  {
   "cell_type": "markdown",
   "id": "accb31ae-506d-4bc6-9619-855d48bae8ef",
   "metadata": {},
   "source": [
    "#### Внешнее (тензорное)"
   ]
  },
  {
   "cell_type": "markdown",
   "id": "225c7221-d383-4899-8fb8-023bbd463da9",
   "metadata": {},
   "source": [
    "aka Кронокерово произведение"
   ]
  },
  {
   "cell_type": "code",
   "execution_count": 69,
   "id": "3965e8c5-072b-4968-a3b5-ac5a7bb1761b",
   "metadata": {},
   "outputs": [
    {
     "data": {
      "text/latex": [
       "$\\displaystyle \\left(\n",
       "\\begin{array}{}\n",
       "    0.00 &    1.00 &    2.00\n",
       "\\end{array}\n",
       "\\right)$"
      ],
      "text/plain": [
       "<IPython.core.display.Math object>"
      ]
     },
     "metadata": {},
     "output_type": "display_data"
    },
    {
     "data": {
      "text/latex": [
       "$\\displaystyle \\left(\n",
       "\\begin{array}{}\n",
       "    3.00 &    4.00 &    5.00 &    6.00\n",
       "\\end{array}\n",
       "\\right)$"
      ],
      "text/plain": [
       "<IPython.core.display.Math object>"
      ]
     },
     "metadata": {},
     "output_type": "display_data"
    }
   ],
   "source": [
    "a = np.arange(3)\n",
    "b = np.arange(3,7)\n",
    "to_jup(a)\n",
    "to_jup(b)"
   ]
  },
  {
   "cell_type": "code",
   "execution_count": 70,
   "id": "7dfbefc9-69ec-4a98-a84d-bebcf167ed6d",
   "metadata": {},
   "outputs": [
    {
     "data": {
      "text/latex": [
       "$\\displaystyle \\left(\n",
       "\\begin{array}{}\n",
       "    0.00 &    0.00 &    0.00 &    0.00\\\\\n",
       "    3.00 &    4.00 &    5.00 &    6.00\\\\\n",
       "    6.00 &    8.00 &   10.00 &   12.00\n",
       "\\end{array}\n",
       "\\right)$"
      ],
      "text/plain": [
       "<IPython.core.display.Math object>"
      ]
     },
     "metadata": {},
     "output_type": "display_data"
    }
   ],
   "source": [
    "to_jup(np.einsum('i,j->ij', a, b))"
   ]
  },
  {
   "cell_type": "markdown",
   "id": "da81ad8b-cb3d-4eb1-9077-b3559fbde46f",
   "metadata": {},
   "source": [
    "### Большие тензоры"
   ]
  },
  {
   "cell_type": "markdown",
   "id": "d1c5f131-23d5-4bab-ace5-12331e478d80",
   "metadata": {},
   "source": [
    "Не надо выдумывать имена для всех индексов"
   ]
  },
  {
   "cell_type": "code",
   "execution_count": 168,
   "id": "0bcadb5f-6974-4949-b77b-6d74249611bb",
   "metadata": {},
   "outputs": [
    {
     "data": {
      "text/plain": [
       "(2, 3, 4, 5, 6, 7)"
      ]
     },
     "execution_count": 168,
     "metadata": {},
     "output_type": "execute_result"
    }
   ],
   "source": [
    "a = np.arange(2*3*4*5*6*7).reshape(2, 3, 4, 5, 6, 7)\n",
    "a.shape"
   ]
  },
  {
   "cell_type": "code",
   "execution_count": 169,
   "id": "e3b90d8c-c62b-41ea-a4e4-f926f742060f",
   "metadata": {},
   "outputs": [
    {
     "data": {
      "text/plain": [
       "(2, 3, 4, 5, 7, 6)"
      ]
     },
     "execution_count": 169,
     "metadata": {},
     "output_type": "execute_result"
    }
   ],
   "source": [
    "np.einsum('...ij->...ji', a).shape"
   ]
  },
  {
   "cell_type": "markdown",
   "id": "662a1fd6-cc7e-4502-a245-49e991aba9f7",
   "metadata": {},
   "source": [
    "### Особенности"
   ]
  },
  {
   "cell_type": "markdown",
   "id": "0d261df4-b95c-45ce-88b5-dae50872964b",
   "metadata": {},
   "source": [
    "#### Осторожно с типами данных"
   ]
  },
  {
   "cell_type": "code",
   "execution_count": 144,
   "id": "a14cf7a1-8d88-4ea4-810a-98fe87c42857",
   "metadata": {},
   "outputs": [
    {
     "data": {
      "text/plain": [
       "44"
      ]
     },
     "execution_count": 144,
     "metadata": {},
     "output_type": "execute_result"
    }
   ],
   "source": [
    "a = np.ones(300, dtype=np.int8)\n",
    "np.einsum('i->', a) # должно быть 300"
   ]
  },
  {
   "cell_type": "markdown",
   "id": "239b8f10-6f6b-4809-baf5-cc63a304a023",
   "metadata": {},
   "source": [
    "#### След прямоугольной матрицы"
   ]
  },
  {
   "cell_type": "code",
   "execution_count": 147,
   "id": "ec980e21-f497-4bca-9f55-4d7603de35cc",
   "metadata": {},
   "outputs": [
    {
     "data": {
      "text/latex": [
       "$\\displaystyle \\left(\n",
       "\\begin{array}{}\n",
       "    0.00 &    1.00 &    2.00\\\\\n",
       "    3.00 &    4.00 &    5.00\n",
       "\\end{array}\n",
       "\\right)$"
      ],
      "text/plain": [
       "<IPython.core.display.Math object>"
      ]
     },
     "metadata": {},
     "output_type": "display_data"
    }
   ],
   "source": [
    "a = np.arange(6).reshape(2, 3)\n",
    "to_jup(a)"
   ]
  },
  {
   "cell_type": "code",
   "execution_count": 148,
   "id": "c096d86b-ef07-44ce-a815-c5cf5bf11bb7",
   "metadata": {},
   "outputs": [
    {
     "data": {
      "text/plain": [
       "4"
      ]
     },
     "execution_count": 148,
     "metadata": {},
     "output_type": "execute_result"
    }
   ],
   "source": [
    "np.trace(a)"
   ]
  },
  {
   "cell_type": "code",
   "execution_count": 149,
   "id": "97937f77-9d72-43a9-bb37-1c5debf3e55f",
   "metadata": {},
   "outputs": [
    {
     "ename": "ValueError",
     "evalue": "dimensions in operand 0 for collapsing index 'i' don't match (2 != 3)",
     "output_type": "error",
     "traceback": [
      "\u001b[0;31m---------------------------------------------------------------------------\u001b[0m",
      "\u001b[0;31mValueError\u001b[0m                                Traceback (most recent call last)",
      "Cell \u001b[0;32mIn[149], line 1\u001b[0m\n\u001b[0;32m----> 1\u001b[0m \u001b[43mnp\u001b[49m\u001b[38;5;241;43m.\u001b[39;49m\u001b[43meinsum\u001b[49m\u001b[43m(\u001b[49m\u001b[38;5;124;43m'\u001b[39;49m\u001b[38;5;124;43mii->\u001b[39;49m\u001b[38;5;124;43m'\u001b[39;49m\u001b[43m,\u001b[49m\u001b[43m \u001b[49m\u001b[43ma\u001b[49m\u001b[43m)\u001b[49m \n",
      "File \u001b[0;32m~/miniconda3/envs/python-bar-review/lib/python3.11/site-packages/numpy/core/einsumfunc.py:1371\u001b[0m, in \u001b[0;36meinsum\u001b[0;34m(out, optimize, *operands, **kwargs)\u001b[0m\n\u001b[1;32m   1369\u001b[0m     \u001b[38;5;28;01mif\u001b[39;00m specified_out:\n\u001b[1;32m   1370\u001b[0m         kwargs[\u001b[38;5;124m'\u001b[39m\u001b[38;5;124mout\u001b[39m\u001b[38;5;124m'\u001b[39m] \u001b[38;5;241m=\u001b[39m out\n\u001b[0;32m-> 1371\u001b[0m     \u001b[38;5;28;01mreturn\u001b[39;00m \u001b[43mc_einsum\u001b[49m\u001b[43m(\u001b[49m\u001b[38;5;241;43m*\u001b[39;49m\u001b[43moperands\u001b[49m\u001b[43m,\u001b[49m\u001b[43m \u001b[49m\u001b[38;5;241;43m*\u001b[39;49m\u001b[38;5;241;43m*\u001b[39;49m\u001b[43mkwargs\u001b[49m\u001b[43m)\u001b[49m\n\u001b[1;32m   1373\u001b[0m \u001b[38;5;66;03m# Check the kwargs to avoid a more cryptic error later, without having to\u001b[39;00m\n\u001b[1;32m   1374\u001b[0m \u001b[38;5;66;03m# repeat default values here\u001b[39;00m\n\u001b[1;32m   1375\u001b[0m valid_einsum_kwargs \u001b[38;5;241m=\u001b[39m [\u001b[38;5;124m'\u001b[39m\u001b[38;5;124mdtype\u001b[39m\u001b[38;5;124m'\u001b[39m, \u001b[38;5;124m'\u001b[39m\u001b[38;5;124morder\u001b[39m\u001b[38;5;124m'\u001b[39m, \u001b[38;5;124m'\u001b[39m\u001b[38;5;124mcasting\u001b[39m\u001b[38;5;124m'\u001b[39m]\n",
      "\u001b[0;31mValueError\u001b[0m: dimensions in operand 0 for collapsing index 'i' don't match (2 != 3)"
     ]
    }
   ],
   "source": [
    "np.einsum('ii->', a) "
   ]
  },
  {
   "cell_type": "markdown",
   "id": "a0e1ff0c-d02b-480f-8b5d-e27c8d34d241",
   "metadata": {},
   "source": [
    "#### View"
   ]
  },
  {
   "cell_type": "code",
   "execution_count": 158,
   "id": "4fa8b1a0-c206-44ef-8a64-eda09af6089a",
   "metadata": {},
   "outputs": [
    {
     "data": {
      "text/plain": [
       "array([0, 1, 2, 3, 4, 5])"
      ]
     },
     "execution_count": 158,
     "metadata": {},
     "output_type": "execute_result"
    }
   ],
   "source": [
    "a = np.arange(6)\n",
    "a"
   ]
  },
  {
   "cell_type": "code",
   "execution_count": 157,
   "id": "b55daea6-3003-46ee-aa2f-a5944db7216b",
   "metadata": {},
   "outputs": [
    {
     "data": {
      "text/plain": [
       "array([0, 1, 2, 3, 4, 5])"
      ]
     },
     "execution_count": 157,
     "metadata": {},
     "output_type": "execute_result"
    }
   ],
   "source": [
    "np.einsum('i', a)"
   ]
  },
  {
   "cell_type": "code",
   "execution_count": 165,
   "id": "ab7f43c4-bf3e-450c-af35-8ecf2475cfb5",
   "metadata": {},
   "outputs": [
    {
     "data": {
      "text/plain": [
       "{'data': (105553164518192, False),\n",
       " 'strides': None,\n",
       " 'descr': [('', '<i8')],\n",
       " 'typestr': '<i8',\n",
       " 'shape': (6,),\n",
       " 'version': 3}"
      ]
     },
     "execution_count": 165,
     "metadata": {},
     "output_type": "execute_result"
    }
   ],
   "source": [
    "np.einsum('i', a).__array_interface__"
   ]
  },
  {
   "cell_type": "code",
   "execution_count": 166,
   "id": "7c9ab1e6-3270-4c14-90f6-644de288ee6b",
   "metadata": {},
   "outputs": [
    {
     "data": {
      "text/plain": [
       "{'data': (105553164518192, False),\n",
       " 'strides': None,\n",
       " 'descr': [('', '<i8')],\n",
       " 'typestr': '<i8',\n",
       " 'shape': (6,),\n",
       " 'version': 3}"
      ]
     },
     "execution_count": 166,
     "metadata": {},
     "output_type": "execute_result"
    }
   ],
   "source": [
    "a.__array_interface__"
   ]
  },
  {
   "cell_type": "markdown",
   "id": "477d7d61-80e3-4128-99c5-a2299c76f824",
   "metadata": {},
   "source": [
    "#### Performance"
   ]
  },
  {
   "cell_type": "code",
   "execution_count": 183,
   "id": "1891c292-431a-4c62-b8e1-f2b5ef42a594",
   "metadata": {},
   "outputs": [
    {
     "name": "stdout",
     "output_type": "stream",
     "text": [
      "CPU times: user 778 ms, sys: 4.11 ms, total: 782 ms\n",
      "Wall time: 784 ms\n"
     ]
    }
   ],
   "source": [
    "def calc():\n",
    "    a = np.ones(64).reshape(2,4,8)\n",
    "    for iteration in range(500):\n",
    "        _ = np.einsum('ijk,ilm,njm,nlk,abc->',a,a,a,a,a)\n",
    "\n",
    "%time calc()"
   ]
  },
  {
   "cell_type": "code",
   "execution_count": 184,
   "id": "53df7914-f94b-4dce-83a4-218a68499cf6",
   "metadata": {},
   "outputs": [
    {
     "name": "stdout",
     "output_type": "stream",
     "text": [
      "CPU times: user 150 ms, sys: 4.81 ms, total: 155 ms\n",
      "Wall time: 153 ms\n"
     ]
    }
   ],
   "source": [
    "def calc():\n",
    "    a = np.ones(64).reshape(2,4,8)\n",
    "    for iteration in range(500):\n",
    "        _ = np.einsum('ijk,ilm,njm,nlk,abc->',a,a,a,a,a, optimize='optimal')\n",
    "\n",
    "%time calc()"
   ]
  },
  {
   "cell_type": "code",
   "execution_count": 185,
   "id": "817ea8a3-22e0-479f-8920-8c3141f0f595",
   "metadata": {},
   "outputs": [
    {
     "name": "stdout",
     "output_type": "stream",
     "text": [
      "CPU times: user 55.8 ms, sys: 4.15 ms, total: 60 ms\n",
      "Wall time: 57.4 ms\n"
     ]
    }
   ],
   "source": [
    "def calc():\n",
    "    a = np.ones(64).reshape(2,4,8)\n",
    "    for iteration in range(500):\n",
    "        _ = np.einsum('ijk,ilm,njm,nlk,abc->',a,a,a,a,a, optimize='greedy')\n",
    "\n",
    "%time calc()"
   ]
  },
  {
   "cell_type": "code",
   "execution_count": 187,
   "id": "802766d3-76e4-4fdd-ab9c-9b9e43583ae9",
   "metadata": {},
   "outputs": [
    {
     "name": "stdout",
     "output_type": "stream",
     "text": [
      "CPU times: user 41.5 ms, sys: 2.49 ms, total: 44 ms\n",
      "Wall time: 43.1 ms\n"
     ]
    }
   ],
   "source": [
    "def calc():\n",
    "    a = np.ones(64).reshape(2,4,8)\n",
    "    path = np.einsum_path('ijk,ilm,njm,nlk,abc->',a,a,a,a,a, optimize='optimal')[0]\n",
    "    for iteration in range(500):\n",
    "        _ = np.einsum('ijk,ilm,njm,nlk,abc->',a,a,a,a,a, optimize=path)\n",
    "\n",
    "%time calc()"
   ]
  },
  {
   "cell_type": "markdown",
   "id": "b29d733c-c635-4ea2-8d35-bc39b5857822",
   "metadata": {},
   "source": [
    "### Einops"
   ]
  },
  {
   "cell_type": "code",
   "execution_count": 214,
   "id": "50fdf614-5ab4-433e-af95-20f4ee31cd4e",
   "metadata": {},
   "outputs": [],
   "source": [
    "from einops import rearrange, reduce, repeat"
   ]
  },
  {
   "cell_type": "markdown",
   "id": "0049b191-4523-497d-b27e-7698d850ef5f",
   "metadata": {},
   "source": [
    "#### Flatten"
   ]
  },
  {
   "cell_type": "code",
   "execution_count": 206,
   "id": "9607dbf8-43ff-42ea-90a0-71fc2b2a1753",
   "metadata": {},
   "outputs": [
    {
     "data": {
      "text/plain": [
       "array([[[ 0,  1,  2],\n",
       "        [ 3,  4,  5]],\n",
       "\n",
       "       [[ 6,  7,  8],\n",
       "        [ 9, 10, 11]]])"
      ]
     },
     "execution_count": 206,
     "metadata": {},
     "output_type": "execute_result"
    }
   ],
   "source": [
    "a = np.arange(2*2*3).reshape(2, 2, 3)\n",
    "a"
   ]
  },
  {
   "cell_type": "code",
   "execution_count": 198,
   "id": "85427f1b-19dd-4e2c-94f3-12cc935c4110",
   "metadata": {},
   "outputs": [
    {
     "data": {
      "text/plain": [
       "array([[ 0,  1,  2,  3,  4,  5],\n",
       "       [ 6,  7,  8,  9, 10, 11]])"
      ]
     },
     "execution_count": 198,
     "metadata": {},
     "output_type": "execute_result"
    }
   ],
   "source": [
    "rearrange(a, 'b h w -> b (h w)')"
   ]
  },
  {
   "cell_type": "markdown",
   "id": "7c6a5a3c-a65d-4c6b-9e03-58647c078d52",
   "metadata": {},
   "source": [
    "#### Split"
   ]
  },
  {
   "cell_type": "code",
   "execution_count": 207,
   "id": "5acf0c90-a324-40a9-a25f-8f1f53c28434",
   "metadata": {},
   "outputs": [
    {
     "data": {
      "text/plain": [
       "(2, 2, 3, 2)"
      ]
     },
     "execution_count": 207,
     "metadata": {},
     "output_type": "execute_result"
    }
   ],
   "source": [
    "a = np.arange(2*2*2*3).reshape(2, 2, 6)\n",
    "rearrange(a, 'b q (h d) -> b q h d', d=2).shape"
   ]
  },
  {
   "cell_type": "code",
   "execution_count": 213,
   "id": "dea38678-6b78-45cb-968b-009ac35804cf",
   "metadata": {},
   "outputs": [
    {
     "data": {
      "text/plain": [
       "array([[[ 0.5,  2.5,  4.5],\n",
       "        [ 6.5,  8.5, 10.5]],\n",
       "\n",
       "       [[12.5, 14.5, 16.5],\n",
       "        [18.5, 20.5, 22.5]]], dtype=float32)"
      ]
     },
     "execution_count": 213,
     "metadata": {},
     "output_type": "execute_result"
    }
   ],
   "source": [
    "a = np.arange(2*2*2*3, dtype=np.float32).reshape(2, 2, 3, 2)\n",
    "reduce(a, 'b q h d -> b q h', 'mean')"
   ]
  },
  {
   "cell_type": "markdown",
   "id": "064ab5c3-d08f-4063-b0fd-088af3bcf165",
   "metadata": {},
   "source": [
    "#### Repeat"
   ]
  },
  {
   "cell_type": "code",
   "execution_count": 219,
   "id": "c990ffc5-a8bc-4669-be5d-d24d0823784e",
   "metadata": {},
   "outputs": [
    {
     "data": {
      "text/plain": [
       "array([[[[0, 1, 2],\n",
       "         [3, 4, 5]],\n",
       "\n",
       "        [[0, 1, 2],\n",
       "         [3, 4, 5]]]])"
      ]
     },
     "execution_count": 219,
     "metadata": {},
     "output_type": "execute_result"
    }
   ],
   "source": [
    "a = np.arange(1*2*3).reshape(1, 2, 3)\n",
    "repeat(a, 'b h d -> b 2 h d')"
   ]
  },
  {
   "cell_type": "markdown",
   "id": "4de9338f-601b-4269-8ba6-9c72758f3ad3",
   "metadata": {},
   "source": [
    "## Почитать\n",
    "- https://obilaniu6266h16.wordpress.com/2016/02/04/einstein-summation-in-numpy/\n",
    "- https://ajcr.net/Basic-guide-to-einsum/\n",
    "- https://ejenner.com/post/einsum/\n",
    "- https://rockt.github.io/2018/04/30/einsum\n",
    "- http://einops.rocks/1-einops-basics/\n",
    "- http://einops.rocks/2-einops-for-deep-learning/"
   ]
  },
  {
   "cell_type": "code",
   "execution_count": 190,
   "id": "21f0a123-7488-4016-9013-ba60e6156335",
   "metadata": {},
   "outputs": [
    {
     "name": "stdout",
     "output_type": "stream",
     "text": [
      "The watermark extension is already loaded. To reload it, use:\n",
      "  %reload_ext watermark\n",
      "Last updated: 2023-12-29\n",
      "\n",
      "Python implementation: CPython\n",
      "Python version       : 3.11.4\n",
      "IPython version      : 8.14.0\n",
      "\n",
      "numpy : 1.25.1\n",
      "einops: 0.7.0\n",
      "\n"
     ]
    }
   ],
   "source": [
    "%load_ext watermark\n",
    "%watermark -d -u -v -iv"
   ]
  },
  {
   "cell_type": "code",
   "execution_count": null,
   "id": "f77baf97-f6c6-4b96-b836-c1fa436a8bd7",
   "metadata": {},
   "outputs": [],
   "source": []
  }
 ],
 "metadata": {
  "kernelspec": {
   "display_name": "Python 3 (ipykernel)",
   "language": "python",
   "name": "python3"
  },
  "language_info": {
   "codemirror_mode": {
    "name": "ipython",
    "version": 3
   },
   "file_extension": ".py",
   "mimetype": "text/x-python",
   "name": "python",
   "nbconvert_exporter": "python",
   "pygments_lexer": "ipython3",
   "version": "3.11.4"
  }
 },
 "nbformat": 4,
 "nbformat_minor": 5
}
