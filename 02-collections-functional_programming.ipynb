{
 "cells": [
  {
   "cell_type": "markdown",
   "metadata": {},
   "source": [
    "# Итераторы, генераторы и функциональное программирование"
   ]
  },
  {
   "cell_type": "markdown",
   "metadata": {},
   "source": [
    "## 1. Итераторы — потоки данных"
   ]
  },
  {
   "cell_type": "markdown",
   "metadata": {},
   "source": [
    "**Итератор** — объект в Python, который является объектным представлением потока данных. Говорят, что объект реализует протокол итератора, если объект:\n",
    "- имеет метод `__iter__()`, который возвращает объект с методом `__next__()`,\n",
    "- `__next__()` вызывает исключение `StopIteration`, когда поток данных закончился.\n",
    "\n",
    "О таком объекте говоря, что он итерируемый (`iterable`). Итерируемый объект возвращает через `__iter__()` итератор (`iterator`).\n",
    "\n",
    "Например, список итерируемый. У него можно найти `__iter__()`."
   ]
  },
  {
   "cell_type": "code",
   "execution_count": 89,
   "metadata": {},
   "outputs": [
    {
     "data": {
      "text/plain": [
       "[('__add__', <method-wrapper '__add__' of list object at 0x10e755608>),\n",
       " ('__class__', list),\n",
       " ('__contains__',\n",
       "  <method-wrapper '__contains__' of list object at 0x10e755608>),\n",
       " ('__delattr__', <method-wrapper '__delattr__' of list object at 0x10e755608>),\n",
       " ('__delitem__', <method-wrapper '__delitem__' of list object at 0x10e755608>),\n",
       " ('__dir__', <function list.__dir__()>),\n",
       " ('__doc__',\n",
       "  'Built-in mutable sequence.\\n\\nIf no argument is given, the constructor creates a new empty list.\\nThe argument must be an iterable if specified.'),\n",
       " ('__eq__', <method-wrapper '__eq__' of list object at 0x10e755608>),\n",
       " ('__format__', <function list.__format__(format_spec, /)>),\n",
       " ('__ge__', <method-wrapper '__ge__' of list object at 0x10e755608>),\n",
       " ('__getattribute__',\n",
       "  <method-wrapper '__getattribute__' of list object at 0x10e755608>),\n",
       " ('__getitem__', <function list.__getitem__>),\n",
       " ('__gt__', <method-wrapper '__gt__' of list object at 0x10e755608>),\n",
       " ('__hash__', None),\n",
       " ('__iadd__', <method-wrapper '__iadd__' of list object at 0x10e755608>),\n",
       " ('__imul__', <method-wrapper '__imul__' of list object at 0x10e755608>),\n",
       " ('__init__', <method-wrapper '__init__' of list object at 0x10e755608>),\n",
       " ('__init_subclass__', <function list.__init_subclass__>),\n",
       " ('__iter__', <method-wrapper '__iter__' of list object at 0x10e755608>),\n",
       " ('__le__', <method-wrapper '__le__' of list object at 0x10e755608>),\n",
       " ('__len__', <method-wrapper '__len__' of list object at 0x10e755608>),\n",
       " ('__lt__', <method-wrapper '__lt__' of list object at 0x10e755608>),\n",
       " ('__mul__', <method-wrapper '__mul__' of list object at 0x10e755608>),\n",
       " ('__ne__', <method-wrapper '__ne__' of list object at 0x10e755608>),\n",
       " ('__new__', <function list.__new__(*args, **kwargs)>),\n",
       " ('__reduce__', <function list.__reduce__()>),\n",
       " ('__reduce_ex__', <function list.__reduce_ex__(protocol, /)>),\n",
       " ('__repr__', <method-wrapper '__repr__' of list object at 0x10e755608>),\n",
       " ('__reversed__', <function list.__reversed__()>),\n",
       " ('__rmul__', <method-wrapper '__rmul__' of list object at 0x10e755608>),\n",
       " ('__setattr__', <method-wrapper '__setattr__' of list object at 0x10e755608>),\n",
       " ('__setitem__', <method-wrapper '__setitem__' of list object at 0x10e755608>),\n",
       " ('__sizeof__', <function list.__sizeof__()>),\n",
       " ('__str__', <method-wrapper '__str__' of list object at 0x10e755608>),\n",
       " ('__subclasshook__', <function list.__subclasshook__>),\n",
       " ('append', <function list.append(object, /)>),\n",
       " ('clear', <function list.clear()>),\n",
       " ('copy', <function list.copy()>),\n",
       " ('count', <function list.count(value, /)>),\n",
       " ('extend', <function list.extend(iterable, /)>),\n",
       " ('index', <function list.index(value, start=0, stop=9223372036854775807, /)>),\n",
       " ('insert', <function list.insert(index, object, /)>),\n",
       " ('pop', <function list.pop(index=-1, /)>),\n",
       " ('remove', <function list.remove(value, /)>),\n",
       " ('reverse', <function list.reverse()>),\n",
       " ('sort', <function list.sort(*, key=None, reverse=False)>)]"
      ]
     },
     "execution_count": 89,
     "metadata": {},
     "output_type": "execute_result"
    }
   ],
   "source": [
    "# Список итерируемый\n",
    "import inspect\n",
    "inspect.getmembers([1,2,3])"
   ]
  },
  {
   "cell_type": "markdown",
   "metadata": {},
   "source": [
    "Для работы с итераторами в Python есть две вспомогательные функции: `iter` и `next`. Первая возвращает итератор, вторая — следующее значение итератора."
   ]
  },
  {
   "cell_type": "code",
   "execution_count": 90,
   "metadata": {},
   "outputs": [
    {
     "data": {
      "text/plain": [
       "(1, 2, 3)"
      ]
     },
     "execution_count": 90,
     "metadata": {},
     "output_type": "execute_result"
    }
   ],
   "source": [
    "# Вспомогательные функции для работы с итераторами\n",
    "lst = [1,2,3]\n",
    "itr = iter(lst)\n",
    "next(itr), next(itr), next(itr)"
   ]
  },
  {
   "cell_type": "code",
   "execution_count": 91,
   "metadata": {},
   "outputs": [
    {
     "ename": "StopIteration",
     "evalue": "",
     "output_type": "error",
     "traceback": [
      "\u001b[0;31m---------------------------------------------------------------------------\u001b[0m",
      "\u001b[0;31mStopIteration\u001b[0m                             Traceback (most recent call last)",
      "\u001b[0;32m<ipython-input-91-1fa880664e34>\u001b[0m in \u001b[0;36m<module>\u001b[0;34m\u001b[0m\n\u001b[1;32m      1\u001b[0m \u001b[0;31m# Если поток закончился, то next вызовет исключение (должн быть ошибка)\u001b[0m\u001b[0;34m\u001b[0m\u001b[0;34m\u001b[0m\u001b[0;34m\u001b[0m\u001b[0m\n\u001b[0;32m----> 2\u001b[0;31m \u001b[0mnext\u001b[0m\u001b[0;34m(\u001b[0m\u001b[0mitr\u001b[0m\u001b[0;34m)\u001b[0m\u001b[0;34m\u001b[0m\u001b[0;34m\u001b[0m\u001b[0m\n\u001b[0m",
      "\u001b[0;31mStopIteration\u001b[0m: "
     ]
    }
   ],
   "source": [
    "# Если поток закончился, то next вызовет исключение (должн быть ошибка)\n",
    "next(itr)"
   ]
  },
  {
   "cell_type": "markdown",
   "metadata": {},
   "source": [
    "### Пример своего итерируемого объекта"
   ]
  },
  {
   "cell_type": "markdown",
   "metadata": {},
   "source": [
    "Опишем объект, который возвращает целые числа от `value` до «бесконечности» с шагом `step`. Здесь сам объект имеет метод `__next__()`, поэтому в `__iter__()` он возвращает сам себя. При этом объект и итерируемый и итератор одновременно."
   ]
  },
  {
   "cell_type": "code",
   "execution_count": 95,
   "metadata": {},
   "outputs": [
    {
     "data": {
      "text/plain": [
       "(2, 4, 6)"
      ]
     },
     "execution_count": 95,
     "metadata": {},
     "output_type": "execute_result"
    }
   ],
   "source": [
    "# Пример итерируемого объекта\n",
    "class Counts:\n",
    "    def __init__(self, start=0, step=1):\n",
    "        self.value = start\n",
    "        self.step = step\n",
    "    def __iter__(self):\n",
    "        return self\n",
    "    def __next__(self):\n",
    "        self.value += self.step\n",
    "        return self.value\n",
    "    \n",
    "s = Counts(step=2)\n",
    "next(s), next(s), next(s)"
   ]
  },
  {
   "cell_type": "markdown",
   "metadata": {},
   "source": [
    "**NB!** Итератор `Counts` уже реализован в модуле [itertools](https://docs.python.org/3.7/library/itertools.html#module-itertools)."
   ]
  },
  {
   "cell_type": "markdown",
   "metadata": {},
   "source": [
    "## 2. Генераторы — упрощенные итераторы"
   ]
  },
  {
   "cell_type": "markdown",
   "metadata": {},
   "source": [
    "**Генератор** — «синтаксический сахар» для итератора. С точки зрения синтаксиса, генератор — функция с ключевым словом `yield` внутри.\n",
    "\n",
    "Чтобы сгенерировать значение, надо в `next` передать генератор. Внутри происходит следующее:\n",
    "1. функция-генератор выполняется до первой инструкции `yield val`,\n",
    "2. вычисление функции ставится на паузу,\n",
    "3. возвращается значение `val`.\n",
    "\n",
    "Для примера перепишем итератор `Counts` как генератор."
   ]
  },
  {
   "cell_type": "code",
   "execution_count": 96,
   "metadata": {},
   "outputs": [
    {
     "data": {
      "text/plain": [
       "(generator, 2, 4, 6)"
      ]
     },
     "execution_count": 96,
     "metadata": {},
     "output_type": "execute_result"
    }
   ],
   "source": [
    "def counts(value=0, step=1):\n",
    "    while 1:\n",
    "        value += step\n",
    "        yield value\n",
    "    \n",
    "g = counts(step=2)\n",
    "type(g), next(g), next(g), next(g)"
   ]
  },
  {
   "cell_type": "markdown",
   "metadata": {},
   "source": [
    "## 3. Включения в список и выражения-генераторы"
   ]
  },
  {
   "cell_type": "markdown",
   "metadata": {},
   "source": [
    "Включения в список (англ. list comprehensions) — «синтаксический сахар» для создания списков.\n",
    "Выражения-генераторы (англ. generator expressions) — «синтаксический сахар» для создания генераторов.\n",
    "\n",
    "Синтаксически конструкции похожи."
   ]
  },
  {
   "cell_type": "code",
   "execution_count": 82,
   "metadata": {},
   "outputs": [
    {
     "data": {
      "text/plain": [
       "(list, [0, 1, 4, 9, 16, 25, 36, 49, 64, 81])"
      ]
     },
     "execution_count": 82,
     "metadata": {},
     "output_type": "execute_result"
    }
   ],
   "source": [
    "# Включение в список\n",
    "lstcomp = [x*x for x in range(10)]\n",
    "type(lstcomp), lstcomp"
   ]
  },
  {
   "cell_type": "code",
   "execution_count": 86,
   "metadata": {},
   "outputs": [
    {
     "data": {
      "text/plain": [
       "(generator, 0, 1, 4)"
      ]
     },
     "execution_count": 86,
     "metadata": {},
     "output_type": "execute_result"
    }
   ],
   "source": [
    "# Выражение-генератор\n",
    "genexpr = (x*x for x in range(10))\n",
    "type(genexpr), next(genexpr), next(genexpr), next(genexpr)"
   ]
  },
  {
   "cell_type": "markdown",
   "metadata": {},
   "source": [
    "Генератор — это процедура получения значений последовательности данных. Поэтому размер генератора меньше, чем непосредственно списка значений последовательности данных."
   ]
  },
  {
   "cell_type": "code",
   "execution_count": 105,
   "metadata": {},
   "outputs": [
    {
     "data": {
      "text/plain": [
       "(8697464, 120)"
      ]
     },
     "execution_count": 105,
     "metadata": {},
     "output_type": "execute_result"
    }
   ],
   "source": [
    "# Размер списка vs размер генератора\n",
    "from sys import getsizeof\n",
    "\n",
    "data_a = [i for i in range(1000000)]\n",
    "data_b = (i for i in range(1000000))\n",
    "\n",
    "getsizeof(data_a), getsizeof(data_b)"
   ]
  },
  {
   "cell_type": "markdown",
   "metadata": {},
   "source": [
    "Сравнение производительности."
   ]
  },
  {
   "cell_type": "code",
   "execution_count": 106,
   "metadata": {},
   "outputs": [
    {
     "name": "stdout",
     "output_type": "stream",
     "text": [
      "74.7 ms ± 4.4 ms per loop (mean ± std. dev. of 7 runs, 10 loops each)\n"
     ]
    }
   ],
   "source": [
    "%timeit [i for i in range(1000000)]"
   ]
  },
  {
   "cell_type": "code",
   "execution_count": 107,
   "metadata": {},
   "outputs": [
    {
     "name": "stdout",
     "output_type": "stream",
     "text": [
      "682 ns ± 14 ns per loop (mean ± std. dev. of 7 runs, 1000000 loops each)\n"
     ]
    }
   ],
   "source": [
    "%timeit (i for i in range(1000000))"
   ]
  },
  {
   "cell_type": "markdown",
   "metadata": {},
   "source": [
    "## 4. Функциональное программирование"
   ]
  },
  {
   "cell_type": "markdown",
   "metadata": {},
   "source": [
    "Python — мультипарадигменный язык прораммирования. На нем можно писать в\n",
    "- процедурном,\n",
    "- объектно-ориентированном\n",
    "- или функциональном стиле. "
   ]
  },
  {
   "cell_type": "markdown",
   "metadata": {},
   "source": [
    "![Paradigms](img/paradigms.png)"
   ]
  },
  {
   "cell_type": "markdown",
   "metadata": {},
   "source": [
    "Программа в **функциональном стиле** выглядит как последовательное применение функций к входным данным. Результат каждой их этих функций зависит только от её аргументов. Такие функции называют **чистыми функциями**. У нечистых функции есть [побочные эффекты](https://ru.wikipedia.org/wiki/Побочный_эффект_(программирование)).\n",
    "\n",
    "Обычно, если язык программирования поддерживает функциональный стиль, то в нём реализованы:\n",
    "- анонимные функции (лямбда-функции)\n",
    "- функции высших порядков."
   ]
  },
  {
   "cell_type": "markdown",
   "metadata": {},
   "source": [
    "## 5. Лямбда-функция — функции одного выражения"
   ]
  },
  {
   "cell_type": "markdown",
   "metadata": {},
   "source": [
    "Лямбда-функция определеяются с помощью ключевого слова `lambda`. Объявление лямбда-функции аналогично объявлению функции с помощью `def`, только\n",
    "- в одну строчку,\n",
    "- без имени,\n",
    "- с неявным `return`."
   ]
  },
  {
   "cell_type": "code",
   "execution_count": 33,
   "metadata": {},
   "outputs": [
    {
     "data": {
      "text/plain": [
       "function"
      ]
     },
     "execution_count": 33,
     "metadata": {},
     "output_type": "execute_result"
    }
   ],
   "source": [
    "# Лябда-функция\n",
    "type(lambda x: x*x)"
   ]
  },
  {
   "cell_type": "code",
   "execution_count": 32,
   "metadata": {},
   "outputs": [
    {
     "data": {
      "text/plain": [
       "5"
      ]
     },
     "execution_count": 32,
     "metadata": {},
     "output_type": "execute_result"
    }
   ],
   "source": [
    "# Применение лябда-функции\n",
    "(lambda x, y: x+y)(2,3)"
   ]
  },
  {
   "cell_type": "code",
   "execution_count": 34,
   "metadata": {},
   "outputs": [
    {
     "data": {
      "text/plain": [
       "5"
      ]
     },
     "execution_count": 34,
     "metadata": {},
     "output_type": "execute_result"
    }
   ],
   "source": [
    "# Применение лябда-функции как обычной функции\n",
    "f=lambda x, y: x+y\n",
    "f(2,3)"
   ]
  },
  {
   "cell_type": "markdown",
   "metadata": {},
   "source": [
    "#### Где применять лямбда-функции?\n",
    "\n",
    "Например:\n",
    "- для компактного описания замыканий,\n",
    "- для конфигурирования функций высшего порядка (см. следующий раздел)."
   ]
  },
  {
   "cell_type": "code",
   "execution_count": 37,
   "metadata": {},
   "outputs": [
    {
     "data": {
      "text/plain": [
       "6"
      ]
     },
     "execution_count": 37,
     "metadata": {},
     "output_type": "execute_result"
    }
   ],
   "source": [
    "# Лябда-функция в замыканиях\n",
    "def gen_mul(a):\n",
    "    return lambda b: a*b\n",
    "\n",
    "double=gen_mul(2)\n",
    "double(3)"
   ]
  },
  {
   "cell_type": "markdown",
   "metadata": {},
   "source": [
    "**NB!** Если беглым взглядом непонятно что делает лямбда-функция, то лучше ее реализовтаь как обычную функцию."
   ]
  },
  {
   "cell_type": "markdown",
   "metadata": {},
   "source": [
    "## 6. Функции высшего порядка"
   ]
  },
  {
   "cell_type": "markdown",
   "metadata": {},
   "source": [
    "### Map, Reduce и Filter"
   ]
  },
  {
   "cell_type": "markdown",
   "metadata": {},
   "source": [
    "Функции `map` и `filter` встроены в язык, а `reduce` находится в модуле `functools`.\n",
    "![Map, Filter, Reduce](img/map-filter-reduce-in-a-tweet.png)"
   ]
  },
  {
   "cell_type": "markdown",
   "metadata": {},
   "source": [
    "Функция `map` выполняет отображение одной последовательности в другую, применяя к каждом элементу одну и ту же фукнцию.\n",
    "\n",
    "Условно `map` работает так:\n",
    "```\n",
    "[a,b,c] -> [f(a),f(b),f(c)]\n",
    "```"
   ]
  },
  {
   "cell_type": "code",
   "execution_count": 9,
   "metadata": {},
   "outputs": [
    {
     "data": {
      "text/plain": [
       "<map at 0x10e2842b0>"
      ]
     },
     "execution_count": 9,
     "metadata": {},
     "output_type": "execute_result"
    }
   ],
   "source": [
    "# Пример: взять для каждого элемента квадрат\n",
    "map(lambda x: x*x, [1,2,3])"
   ]
  },
  {
   "cell_type": "markdown",
   "metadata": {},
   "source": [
    "`map` возвращает итератор. Удобно преобразовать к списку:"
   ]
  },
  {
   "cell_type": "code",
   "execution_count": 109,
   "metadata": {},
   "outputs": [
    {
     "data": {
      "text/plain": [
       "[1, 4, 9]"
      ]
     },
     "execution_count": 109,
     "metadata": {},
     "output_type": "execute_result"
    }
   ],
   "source": [
    "# Пример: взять для каждого элемента квадрат\n",
    "list(map(lambda x: x*x, [1,2,3]))"
   ]
  },
  {
   "cell_type": "markdown",
   "metadata": {},
   "source": [
    "Функция `filter` выполняет фильтрацию входной последовательности, оставляя только те элементы, которые удовлетворяют критерию.\n",
    "\n",
    "Условно `filter` работает так:\n",
    "```\n",
    "[a,b,c] -> {x != b} -> [a,c]\n",
    "```"
   ]
  },
  {
   "cell_type": "code",
   "execution_count": 24,
   "metadata": {},
   "outputs": [
    {
     "data": {
      "text/plain": [
       "[3]"
      ]
     },
     "execution_count": 24,
     "metadata": {},
     "output_type": "execute_result"
    }
   ],
   "source": [
    "# Пример: оставить элементы только больше 2\n",
    "list(filter(lambda x: x>2, [1,2,3]))"
   ]
  },
  {
   "cell_type": "markdown",
   "metadata": {},
   "source": [
    "Функция `reduce` выполняет сворачивание входной последовательности к одному значению, применяя последовательно функцию.\n",
    "\n",
    "Условно `reduce` работает так:\n",
    "```\n",
    "[a,b,c] -> f[f[a,b],c]\n",
    "```"
   ]
  },
  {
   "cell_type": "code",
   "execution_count": 108,
   "metadata": {},
   "outputs": [
    {
     "data": {
      "text/plain": [
       "6"
      ]
     },
     "execution_count": 108,
     "metadata": {},
     "output_type": "execute_result"
    }
   ],
   "source": [
    "# Пример 1: сумма элементов последовательности\n",
    "from functools import reduce\n",
    "reduce(lambda x,y: x+y, [1,2,3], 0)"
   ]
  },
  {
   "cell_type": "code",
   "execution_count": 110,
   "metadata": {},
   "outputs": [
    {
     "data": {
      "text/plain": [
       "18"
      ]
     },
     "execution_count": 110,
     "metadata": {},
     "output_type": "execute_result"
    }
   ],
   "source": [
    "# Пример 2: скалярное произведение\n",
    "from functools import reduce\n",
    "a = [1,2,3]\n",
    "b = [6,0,4]\n",
    "reduce(lambda x,y: x+y[0]*y[1], zip(a,b), 0)"
   ]
  },
  {
   "cell_type": "markdown",
   "metadata": {},
   "source": [
    "Здесь `zip` — вспомогательная функция высшего порядка, которая собирает из двух последовательностей одну по такому правилу:\n",
    "```\n",
    "zip([a1,a2,a3],[b1,b2,b3]) -> [(a1,b1), (a2,b2), (a3,b3)]\n",
    "```"
   ]
  }
 ],
 "metadata": {
  "kernelspec": {
   "display_name": "Python 3",
   "language": "python",
   "name": "python3"
  },
  "language_info": {
   "codemirror_mode": {
    "name": "ipython",
    "version": 3
   },
   "file_extension": ".py",
   "mimetype": "text/x-python",
   "name": "python",
   "nbconvert_exporter": "python",
   "pygments_lexer": "ipython3",
   "version": "3.7.1"
  }
 },
 "nbformat": 4,
 "nbformat_minor": 2
}
