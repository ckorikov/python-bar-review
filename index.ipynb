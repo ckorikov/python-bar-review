{
 "cells": [
  {
   "cell_type": "markdown",
   "metadata": {},
   "source": [
    "![](img/promo.png)"
   ]
  },
  {
   "cell_type": "markdown",
   "metadata": {},
   "source": [
    "- [Вложенные функции, замыкания и декораторы](01-nested_functions-closures-decorators.html)\n",
    "- [Итераторы, генераторы и функциональное программирование](02-iterators-generators-functional_programming.html)\n",
    "- [Контейнеры 1](03-containers-1.html)\n",
    "- [Контейнеры 2](04-containers-2.html)"
   ]
  },
  {
   "cell_type": "markdown",
   "metadata": {},
   "source": [
    "[Fork me on GitHub](https://github.com/ckorikov/python-bar-review)"
   ]
  }
 ],
 "metadata": {
  "kernelspec": {
   "display_name": "Python 3",
   "language": "python",
   "name": "python3"
  },
  "language_info": {
   "codemirror_mode": {
    "name": "ipython",
    "version": 3
   },
   "file_extension": ".py",
   "mimetype": "text/x-python",
   "name": "python",
   "nbconvert_exporter": "python",
   "pygments_lexer": "ipython3",
   "version": "3.8.0"
  }
 },
 "nbformat": 4,
 "nbformat_minor": 4
}
