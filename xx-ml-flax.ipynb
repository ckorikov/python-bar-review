{
 "cells": [
  {
   "cell_type": "code",
   "execution_count": 1,
   "id": "7206a102-6123-409e-a9a2-879d81907ec8",
   "metadata": {},
   "outputs": [],
   "source": [
    "from torchvision.datasets import MNIST\n",
    "from torch.utils.data import DataLoader\n",
    "\n",
    "from ml_collections import ConfigDict\n",
    "\n",
    "import jax\n",
    "import numpy as np\n",
    "import jax.numpy as jnp\n",
    "\n",
    "import optax\n",
    "from flax import linen as nn\n",
    "from flax.training import train_state\n",
    "\n",
    "from rich.progress import Progress\n",
    "from rich.jupyter import print\n",
    "\n",
    "from plotly.subplots import make_subplots\n",
    "import plotly.graph_objs as go\n",
    "\n",
    "from IPython.display import display"
   ]
  },
  {
   "cell_type": "code",
   "execution_count": 2,
   "id": "d6c41e04-e83a-4812-98b5-8d38eebb3f03",
   "metadata": {},
   "outputs": [],
   "source": [
    "jax.config.update('jax_platform_name', 'cpu')"
   ]
  },
  {
   "cell_type": "markdown",
   "id": "ddc7c4cb-f53f-4d58-b03e-5fe80760e11e",
   "metadata": {},
   "source": [
    "## Config"
   ]
  },
  {
   "cell_type": "code",
   "execution_count": 3,
   "id": "03cdf103-ab0a-4a92-b5a7-ca2b6f88d8bb",
   "metadata": {},
   "outputs": [],
   "source": [
    "config = ConfigDict()\n",
    "config.seed = 0\n",
    "config.epochs = 2\n",
    "config.batch_size = 100\n",
    "config.learning_rate = 1e-4"
   ]
  },
  {
   "cell_type": "markdown",
   "id": "6fb674cb-76fa-4984-8a79-289dc65ff4a3",
   "metadata": {},
   "source": [
    "## Data"
   ]
  },
  {
   "cell_type": "code",
   "execution_count": 4,
   "id": "01fa80df-de40-4db5-8507-31ddb998f765",
   "metadata": {},
   "outputs": [],
   "source": [
    "class ToNumPy:\n",
    "  def __call__(self, pic):\n",
    "    return np.array(pic, dtype=jnp.float32)"
   ]
  },
  {
   "cell_type": "code",
   "execution_count": 5,
   "id": "95aee00f-d4d5-49ef-91d6-cef777cd619d",
   "metadata": {},
   "outputs": [],
   "source": [
    "def one_hot(x, k=10, dtype=jnp.float32):\n",
    "  return jnp.array(x[:, None] == jnp.arange(k), dtype)\n",
    "# one_hot = jax.nn.one_hot(labels, 10)"
   ]
  },
  {
   "cell_type": "code",
   "execution_count": 6,
   "id": "2822541c-f158-446b-a1e1-1a975cabf3aa",
   "metadata": {},
   "outputs": [],
   "source": [
    "def numpy_collate(batch):\n",
    "  if isinstance(batch[0], np.ndarray):\n",
    "    return np.stack(batch)\n",
    "  elif isinstance(batch[0], (tuple,list)):\n",
    "    transposed = zip(*batch)\n",
    "    return [numpy_collate(samples) for samples in transposed]\n",
    "  else:\n",
    "    return np.array(batch)\n",
    "      \n",
    "def dict_collate(batch):\n",
    "    input, target = numpy_collate(batch)\n",
    "    target_one_hot = one_hot(target)\n",
    "    input = input.reshape(-1,28,28,1)\n",
    "    return {\"input\": input, \"target\": target_one_hot, \"target_nums\": target}"
   ]
  },
  {
   "cell_type": "code",
   "execution_count": 7,
   "id": "4544db04-a8c9-4f21-a738-2b6e99fbf33b",
   "metadata": {},
   "outputs": [],
   "source": [
    "def get_datasets(batch_size:int, shaffle: bool = False):\n",
    "    ds_train = MNIST(root=\".\", train=True, download=True, transform=ToNumPy())\n",
    "    ds_test = MNIST(root=\".\", train=False, download=True, transform=ToNumPy())\n",
    "    loader_train = DataLoader(ds_train, batch_size=batch_size, shuffle=shaffle, collate_fn=dict_collate)\n",
    "    loader_test = DataLoader(ds_test, batch_size=batch_size, shuffle=shaffle, collate_fn=dict_collate)\n",
    "    return loader_train, loader_test"
   ]
  },
  {
   "cell_type": "markdown",
   "id": "8ce6ce28-6159-44e4-abf1-f5ae54c8fadf",
   "metadata": {},
   "source": [
    "## Model"
   ]
  },
  {
   "cell_type": "code",
   "execution_count": 8,
   "id": "05dd543a-010b-461f-b2b6-c2c4f69a946a",
   "metadata": {},
   "outputs": [],
   "source": [
    "class CNN(nn.Module):\n",
    "  @nn.compact\n",
    "  def __call__(self, x):\n",
    "    x = nn.Conv(features=32, kernel_size=(3, 3))(x)\n",
    "    x = nn.relu(x)\n",
    "    x = nn.avg_pool(x, window_shape=(2, 2), strides=(2, 2))\n",
    "    x = nn.Conv(features=64, kernel_size=(3, 3))(x)\n",
    "    x = nn.relu(x)\n",
    "    x = nn.avg_pool(x, window_shape=(2, 2), strides=(2, 2))\n",
    "    x = x.reshape((x.shape[0], -1))  # flatten\n",
    "    x = nn.Dense(features=256)(x)\n",
    "    x = nn.relu(x)\n",
    "    x = nn.Dense(features=10)(x)\n",
    "    return x"
   ]
  },
  {
   "cell_type": "code",
   "execution_count": 9,
   "id": "49376bc0-6320-4f95-9b7d-297bf52f3995",
   "metadata": {},
   "outputs": [],
   "source": [
    "def create_train_state(rng, config):\n",
    "  cnn = CNN()\n",
    "  params = cnn.init(rng, jnp.ones([1, 28, 28, 1]))['params']\n",
    "  tx = optax.adam(config.learning_rate)\n",
    "  return train_state.TrainState.create(apply_fn=cnn.apply, params=params, tx=tx)"
   ]
  },
  {
   "cell_type": "code",
   "execution_count": 10,
   "id": "36bea1bf-b2e9-4cff-a353-7b11b8778661",
   "metadata": {},
   "outputs": [],
   "source": [
    "@jax.jit\n",
    "def apply_model(state, images, labels):\n",
    "    def loss_fn(params):\n",
    "        logits = state.apply_fn({'params': params}, images)\n",
    "        loss = jnp.mean(optax.softmax_cross_entropy(logits=logits, labels=labels))\n",
    "        return loss, logits\n",
    "    \n",
    "    grad_fn = jax.value_and_grad(loss_fn, has_aux=True)\n",
    "    (loss, logits), grads = grad_fn(state.params)\n",
    "    accuracy = jnp.mean(jnp.argmax(logits, -1) == jnp.argmax(labels, -1))*100\n",
    "    return grads, loss, accuracy"
   ]
  },
  {
   "cell_type": "code",
   "execution_count": 11,
   "id": "8cfcca74-10c1-43df-9787-5f8a11ff805a",
   "metadata": {},
   "outputs": [],
   "source": [
    "@jax.jit\n",
    "def update_model(state, grads):\n",
    "    return state.apply_gradients(grads=grads)"
   ]
  },
  {
   "cell_type": "markdown",
   "id": "72fa60d7-6459-4e5d-93d4-9071a0d633aa",
   "metadata": {},
   "source": [
    "## Training"
   ]
  },
  {
   "cell_type": "markdown",
   "id": "ea3f7556-c040-4fac-9490-6196a34cc819",
   "metadata": {},
   "source": [
    "### Visualization"
   ]
  },
  {
   "cell_type": "code",
   "execution_count": 12,
   "id": "b70e5723-7cf2-48ef-9ac9-c77812fb8dff",
   "metadata": {},
   "outputs": [],
   "source": [
    "class Monitor():\n",
    "    def __init__(self, config, train_data):\n",
    "        self.train_loss = []\n",
    "        self.train_acc = []\n",
    "        self.eval_loss = []\n",
    "        self.eval_acc = []\n",
    "\n",
    "        self.steps_per_epoch = len(train_data)\n",
    "        self.steps_total = self.steps_per_epoch*config.epochs\n",
    "\n",
    "        self.x_range = [1, self.steps_total]\n",
    "\n",
    "        self._create_fig()\n",
    "        self._create_tbl()\n",
    "\n",
    "    def _create_fig(self, use_y_log: bool = True):\n",
    "        subplots = make_subplots(rows=1, cols=2)\n",
    "        subplots.add_scatter(x=[], y=[], row=1, col=1, name=\"loss\")\n",
    "        subplots.add_scatter(x=[], y=[], row=1, col=2, name=\"accuracy\")\n",
    "        \n",
    "        self.fig = go.FigureWidget(subplots)\n",
    "        \n",
    "        self.fig.layout.title=\"Training\"\n",
    "        self.fig.update_xaxes(title_text=\"Step\", range=self.x_range, row=1, col=1)\n",
    "        self.fig.update_xaxes(title_text=\"Step\", range=self.x_range, row=1, col=2)\n",
    "        if use_y_log:\n",
    "            self.fig.update_yaxes(title_text=\"Loss\", type=\"log\", row=1, col=1)\n",
    "            self.fig.update_yaxes(title_text=\"Accuracy, %\", type=\"log\", row=1, col=2)\n",
    "\n",
    "    def _create_tbl(self):\n",
    "        header = dict(values=['Epoch', 'Accuracy,%'], fill_color='paleturquoise', align='left')\n",
    "        cells = dict(values=[[],[]], fill_color='lavender', align='left')\n",
    "        table = go.Table(header=header, cells=cells)\n",
    "        \n",
    "        self.table = go.FigureWidget(data=[table])\n",
    "        self.table.layout.update(title=\"Evaluation\")\n",
    "\n",
    "    def update_table(self):\n",
    "        n = len(self.eval_acc)\n",
    "        epoch_idx_list = [x for x in range(1, n+1)]\n",
    "        self.table.data[0].cells.values = [epoch_idx_list, self.eval_acc]\n",
    "\n",
    "    def update_fig(self):\n",
    "        x_range = [x for x in range(1, len(self.train_loss)+1)]\n",
    "        with self.fig.batch_update():\n",
    "            scatt_loss = self.fig.data[0]\n",
    "            scatt_acc = self.fig.data[1]\n",
    "            scatt_loss.x = x_range\n",
    "            scatt_loss.y = tuple(self.train_loss)\n",
    "            scatt_acc.x = x_range\n",
    "            scatt_acc.y = tuple(self.train_acc)\n",
    "\n",
    "    def _draw_line(self, step):\n",
    "        self.fig.add_vline(x=step, line_width=3, line_dash=\"dash\", line_color=\"green\")\n",
    "\n",
    "    def add_eval_acc(self, val):\n",
    "        self.eval_acc.append(val)\n",
    "        self.update_table()\n",
    "\n",
    "    def add_train_loss_acc(self, loss, acc):\n",
    "        self.train_loss.append(loss)\n",
    "        self.train_acc.append(acc)\n",
    "        self.update_fig()\n",
    "\n",
    "        curr_step = len(self.train_loss)\n",
    "        if curr_step % self.steps_per_epoch == 0:\n",
    "            self._draw_line(curr_step)\n",
    "    \n",
    "    def show(self):\n",
    "        display(self.fig)\n",
    "        display(self.table)"
   ]
  },
  {
   "cell_type": "markdown",
   "id": "fbeb0eae-4fc3-486b-ab25-f8cf62c6e8a5",
   "metadata": {},
   "source": [
    "### Main procedures"
   ]
  },
  {
   "cell_type": "code",
   "execution_count": 13,
   "id": "53c43b6d-54a4-4ccc-8d66-8527c73fbf2d",
   "metadata": {},
   "outputs": [],
   "source": [
    "def train_epoch(state, loader_train, epoch, monitor = None, progress = None):\n",
    "    if progress:\n",
    "        loader_train = progress.track(loader_train, description=f\"Train {epoch:02d}.\")\n",
    "    \n",
    "    for data in loader_train:\n",
    "        grads, loss, accuracy = apply_model(state, data[\"input\"], data[\"target\"])\n",
    "        state = update_model(state, grads)\n",
    "        if monitor is not None:\n",
    "            monitor.add_train_loss_acc(loss, accuracy)\n",
    "\n",
    "    return state"
   ]
  },
  {
   "cell_type": "code",
   "execution_count": 14,
   "id": "d1f8b93f-07e0-4088-9dcb-4330fb5fa316",
   "metadata": {},
   "outputs": [],
   "source": [
    "def eval_epoch(state, loader_test, epoch, monitor = None, progress = None):\n",
    "    if progress:\n",
    "        loader_test = progress.track(loader_test, description=f\" Eval {epoch:02d}.\")\n",
    "    accuracy_list = []\n",
    "    for data in loader_test:\n",
    "        _, _, accuracy = apply_model(state, data[\"input\"], data[\"target\"])\n",
    "        accuracy_list.append(accuracy)\n",
    "    if monitor is not None:\n",
    "        acc_avg = np.mean(accuracy_list)\n",
    "        monitor.add_eval_acc(acc_avg)"
   ]
  },
  {
   "cell_type": "markdown",
   "id": "2fc58210-becc-4314-a039-79c71669b344",
   "metadata": {},
   "source": [
    "### Run"
   ]
  },
  {
   "cell_type": "code",
   "execution_count": 15,
   "id": "609946f1-59e5-44aa-881b-ae11607b4e11",
   "metadata": {},
   "outputs": [],
   "source": [
    "loader_train, loader_test = get_datasets(config.batch_size)"
   ]
  },
  {
   "cell_type": "code",
   "execution_count": 16,
   "id": "a0362638-0720-4213-be41-865f8d565cae",
   "metadata": {},
   "outputs": [
    {
     "name": "stdout",
     "output_type": "stream",
     "text": [
      "Metal device set to: Apple M1 Pro\n"
     ]
    }
   ],
   "source": [
    "rng = jax.random.PRNGKey(config.seed)\n",
    "rng, init_rng = jax.random.split(rng)\n",
    "\n",
    "state = create_train_state(init_rng, config)"
   ]
  },
  {
   "cell_type": "code",
   "execution_count": 17,
   "id": "d679db30-c22d-4a4c-a55f-563fa6f18c2c",
   "metadata": {},
   "outputs": [
    {
     "data": {
      "application/vnd.jupyter.widget-view+json": {
       "model_id": "de421419eef345ca845a19716842bec4",
       "version_major": 2,
       "version_minor": 0
      },
      "text/plain": [
       "FigureWidget({\n",
       "    'data': [{'name': 'loss',\n",
       "              'type': 'scatter',\n",
       "              'uid': 'b8c38684-a222-4951-aa4e-dded8c81e75e',\n",
       "              'x': [],\n",
       "              'xaxis': 'x',\n",
       "              'y': [],\n",
       "              'yaxis': 'y'},\n",
       "             {'name': 'accuracy',\n",
       "              'type': 'scatter',\n",
       "              'uid': '3e195307-4323-465e-b258-bd0fb843f008',\n",
       "              'x': [],\n",
       "              'xaxis': 'x2',\n",
       "              'y': [],\n",
       "              'yaxis': 'y2'}],\n",
       "    'layout': {'template': '...',\n",
       "               'title': {'text': 'Training'},\n",
       "               'xaxis': {'anchor': 'y', 'domain': [0.0, 0.45], 'range': [1, 1200], 'title': {'text': 'Step'}},\n",
       "               'xaxis2': {'anchor': 'y2', 'domain': [0.55, 1.0], 'range': [1, 1200], 'title': {'text': 'Step'}},\n",
       "               'yaxis': {'anchor': 'x', 'domain': [0.0, 1.0], 'title': {'text': 'Loss'}, 'type': 'log'},\n",
       "               'yaxis2': {'anchor': 'x2', 'domain': [0.0, 1.0], 'title': {'text': 'Accuracy, %'}, 'type': 'log'}}\n",
       "})"
      ]
     },
     "metadata": {},
     "output_type": "display_data"
    },
    {
     "data": {
      "application/vnd.jupyter.widget-view+json": {
       "model_id": "0f0c2b5936b84ba6a4d271ef969b8ae3",
       "version_major": 2,
       "version_minor": 0
      },
      "text/plain": [
       "FigureWidget({\n",
       "    'data': [{'cells': {'align': 'left', 'fill': {'color': 'lavender'}, 'values': [[], []]},\n",
       "              'header': {'align': 'left', 'fill': {'color': 'paleturquoise'}, 'values': ['Epoch', 'Accuracy,%']},\n",
       "              'type': 'table',\n",
       "              'uid': 'a0fe0cda-8d46-487e-8b11-fae6deb21e54'}],\n",
       "    'layout': {'template': '...', 'title': {'text': 'Evaluation'}}\n",
       "})"
      ]
     },
     "metadata": {},
     "output_type": "display_data"
    }
   ],
   "source": [
    "monitor = Monitor(config, loader_train)\n",
    "monitor.show()"
   ]
  },
  {
   "cell_type": "code",
   "execution_count": 18,
   "id": "395a8afc-9fd3-4282-a13f-7f5bd1ec9900",
   "metadata": {},
   "outputs": [
    {
     "data": {
      "application/vnd.jupyter.widget-view+json": {
       "model_id": "cbedc61ba5ff4cfa93eff1e07ab0d645",
       "version_major": 2,
       "version_minor": 0
      },
      "text/plain": [
       "Output()"
      ]
     },
     "metadata": {},
     "output_type": "display_data"
    },
    {
     "data": {
      "text/html": [
       "<pre style=\"white-space:pre;overflow-x:auto;line-height:normal;font-family:Menlo,'DejaVu Sans Mono',consolas,'Courier New',monospace\"></pre>\n"
      ],
      "text/plain": []
     },
     "metadata": {},
     "output_type": "display_data"
    },
    {
     "data": {
      "text/html": [
       "<pre style=\"white-space:pre;overflow-x:auto;line-height:normal;font-family:Menlo,'DejaVu Sans Mono',consolas,'Courier New',monospace\">\n",
       "</pre>\n"
      ],
      "text/plain": [
       "\n"
      ]
     },
     "metadata": {},
     "output_type": "display_data"
    }
   ],
   "source": [
    "with Progress() as progress:\n",
    "    for epoch in range(1, config.epochs+1):\n",
    "        state = train_epoch(state, loader_train, epoch, monitor, progress)\n",
    "        eval_epoch(state, loader_test, epoch, monitor, progress)"
   ]
  },
  {
   "cell_type": "code",
   "execution_count": 19,
   "id": "79548d1e-5414-460e-b2bc-ccb079f2bdaf",
   "metadata": {},
   "outputs": [
    {
     "name": "stdout",
     "output_type": "stream",
     "text": [
      "Last updated: 2023-07-29\n",
      "\n",
      "Python implementation: CPython\n",
      "Python version       : 3.11.4\n",
      "IPython version      : 8.14.0\n",
      "\n",
      "flax  : 0.7.0\n",
      "jax   : 0.4.11\n",
      "numpy : 1.25.1\n",
      "optax : 0.1.5\n",
      "plotly: 5.15.0\n",
      "\n"
     ]
    }
   ],
   "source": [
    "%load_ext watermark\n",
    "%watermark -d -u -v -iv"
   ]
  },
  {
   "cell_type": "code",
   "execution_count": null,
   "id": "bdd1a40d-47d4-468f-b5df-d99b11eecd1d",
   "metadata": {},
   "outputs": [],
   "source": []
  }
 ],
 "metadata": {
  "kernelspec": {
   "display_name": "Python 3 (ipykernel)",
   "language": "python",
   "name": "python3"
  },
  "language_info": {
   "codemirror_mode": {
    "name": "ipython",
    "version": 3
   },
   "file_extension": ".py",
   "mimetype": "text/x-python",
   "name": "python",
   "nbconvert_exporter": "python",
   "pygments_lexer": "ipython3",
   "version": "3.11.4"
  }
 },
 "nbformat": 4,
 "nbformat_minor": 5
}
