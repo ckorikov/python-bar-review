{
 "cells": [
  {
   "cell_type": "markdown",
   "metadata": {},
   "source": [
    "#  Вложенные функции, замыкания и декораторы"
   ]
  },
  {
   "cell_type": "markdown",
   "metadata": {},
   "source": [
    "## 1. Функции"
   ]
  },
  {
   "cell_type": "markdown",
   "metadata": {},
   "source": [
    "**Функция** — часть программы, которую можно вызвать из другого места программы.\n",
    "\n",
    "Все в Python объекты. И даже функции. Это значит, что у функций есть\n",
    "- атрибуты\n",
    "- и методы.\n",
    "\n",
    "От остальных объектов функции отличаются тем, что их можно вызвать*. Объекты, которые можно вызвать, называют `Callable`-объектами. У них есть метод `__call__()`.\n",
    "\n",
    "\\* С точки зрения синтаксиса еще можно вызывать классы"
   ]
  },
  {
   "cell_type": "markdown",
   "metadata": {},
   "source": [
    "### Как определить функцию"
   ]
  },
  {
   "cell_type": "code",
   "execution_count": 36,
   "metadata": {},
   "outputs": [],
   "source": [
    "# Функция определяется таким синтаксисом\n",
    "def plus_one(x: int) -> int:\n",
    "    \"\"\"Функция возвращает увеличенное на 1 целое число\"\"\"\n",
    "    return x+1"
   ]
  },
  {
   "cell_type": "markdown",
   "metadata": {},
   "source": [
    "Это избыточное определение. Из избыточного здесь использованы:\n",
    "- строка документирования — `docsting`,\n",
    "- и анотация функции.\n",
    "\n",
    "На самом деле можно описать эту же функцию компактней. "
   ]
  },
  {
   "cell_type": "code",
   "execution_count": 51,
   "metadata": {},
   "outputs": [],
   "source": [
    "# Функция plus_one без анотаций и документации\n",
    "def plus_one_simple(x): return x+1"
   ]
  },
  {
   "cell_type": "markdown",
   "metadata": {},
   "source": [
    "### Функция как объект"
   ]
  },
  {
   "cell_type": "markdown",
   "metadata": {},
   "source": [
    "Как у любого объекта в python, у функции есть:\n",
    "- идентификатор,\n",
    "- тип."
   ]
  },
  {
   "cell_type": "code",
   "execution_count": 47,
   "metadata": {},
   "outputs": [
    {
     "data": {
      "text/plain": [
       "(4510970608, function)"
      ]
     },
     "execution_count": 47,
     "metadata": {},
     "output_type": "execute_result"
    }
   ],
   "source": [
    "# У функции plus_one эти параметры выглядят так\n",
    "id(plus_one), type(plus_one)"
   ]
  },
  {
   "cell_type": "markdown",
   "metadata": {},
   "source": [
    "В CPython идентификатор — **адрес объекта** в виртуальной памяти"
   ]
  },
  {
   "cell_type": "code",
   "execution_count": 48,
   "metadata": {},
   "outputs": [
    {
     "data": {
      "text/plain": [
       "'0x10cdff2f0'"
      ]
     },
     "execution_count": 48,
     "metadata": {},
     "output_type": "execute_result"
    }
   ],
   "source": [
    "# Идентификатор в шестнадцатиричном формате — адрес функции plus_one\n",
    "hex(id(plus_one))"
   ]
  },
  {
   "cell_type": "markdown",
   "metadata": {},
   "source": [
    "Все атрибуты и методы функции как объекта можно посмотреть:"
   ]
  },
  {
   "cell_type": "code",
   "execution_count": 45,
   "metadata": {
    "scrolled": true
   },
   "outputs": [
    {
     "data": {
      "text/plain": [
       "[('__annotations__', {'x': int, 'return': int}),\n",
       " ('__call__', <method-wrapper '__call__' of function object at 0x10cdff2f0>),\n",
       " ('__class__', function),\n",
       " ('__closure__', None),\n",
       " ('__code__',\n",
       "  <code object plus_one at 0x10d59f780, file \"<ipython-input-36-59ce0af9670a>\", line 2>),\n",
       " ('__defaults__', None),\n",
       " ('__delattr__',\n",
       "  <method-wrapper '__delattr__' of function object at 0x10cdff2f0>),\n",
       " ('__dict__', {}),\n",
       " ('__dir__', <function function.__dir__()>),\n",
       " ('__doc__', 'Функция возвращает увеличенное на 1 целое число'),\n",
       " ('__eq__', <method-wrapper '__eq__' of function object at 0x10cdff2f0>),\n",
       " ('__format__', <function function.__format__(format_spec, /)>),\n",
       " ('__ge__', <method-wrapper '__ge__' of function object at 0x10cdff2f0>),\n",
       " ('__get__', <method-wrapper '__get__' of function object at 0x10cdff2f0>),\n",
       " ('__getattribute__',\n",
       "  <method-wrapper '__getattribute__' of function object at 0x10cdff2f0>),\n",
       " ('__gt__', <method-wrapper '__gt__' of function object at 0x10cdff2f0>),\n",
       " ('__hash__', <method-wrapper '__hash__' of function object at 0x10cdff2f0>),\n",
       " ('__init__', <method-wrapper '__init__' of function object at 0x10cdff2f0>),\n",
       " ('__init_subclass__', <function function.__init_subclass__>),\n",
       " ('__kwdefaults__', None),\n",
       " ('__le__', <method-wrapper '__le__' of function object at 0x10cdff2f0>),\n",
       " ('__lt__', <method-wrapper '__lt__' of function object at 0x10cdff2f0>),\n",
       " ('__module__', '__main__'),\n",
       " ('__name__', 'plus_one'),\n",
       " ('__ne__', <method-wrapper '__ne__' of function object at 0x10cdff2f0>),\n",
       " ('__new__', <function function.__new__(*args, **kwargs)>),\n",
       " ('__qualname__', 'plus_one'),\n",
       " ('__reduce__', <function function.__reduce__()>),\n",
       " ('__reduce_ex__', <function function.__reduce_ex__(protocol, /)>),\n",
       " ('__repr__', <method-wrapper '__repr__' of function object at 0x10cdff2f0>),\n",
       " ('__setattr__',\n",
       "  <method-wrapper '__setattr__' of function object at 0x10cdff2f0>),\n",
       " ('__sizeof__', <function function.__sizeof__()>),\n",
       " ('__str__', <method-wrapper '__str__' of function object at 0x10cdff2f0>),\n",
       " ('__subclasshook__', <function function.__subclasshook__>)]"
      ]
     },
     "execution_count": 45,
     "metadata": {},
     "output_type": "execute_result"
    }
   ],
   "source": [
    "import inspect\n",
    "list(filter(lambda x: x[0] != \"__globals__\", sorted(inspect.getmembers(plus_one))))\n",
    "# Здесь мы выбросили поле \"__globals__\", чтобы не засорять вывод"
   ]
  },
  {
   "cell_type": "markdown",
   "metadata": {},
   "source": [
    "### Как вызвать функцию"
   ]
  },
  {
   "cell_type": "code",
   "execution_count": 39,
   "metadata": {},
   "outputs": [
    {
     "data": {
      "text/plain": [
       "2"
      ]
     },
     "execution_count": 39,
     "metadata": {},
     "output_type": "execute_result"
    }
   ],
   "source": [
    "#  Вызов функции, ожидаем ответ 2\n",
    "plus_one(1)"
   ]
  },
  {
   "cell_type": "code",
   "execution_count": 40,
   "metadata": {},
   "outputs": [
    {
     "data": {
      "text/plain": [
       "2"
      ]
     },
     "execution_count": 40,
     "metadata": {},
     "output_type": "execute_result"
    }
   ],
   "source": [
    "#  Можно явно вызвать метод call, ожидаем ответ 2\n",
    "plus_one.__call__(1)"
   ]
  },
  {
   "cell_type": "markdown",
   "metadata": {},
   "source": [
    "### Как функции устроены"
   ]
  },
  {
   "cell_type": "code",
   "execution_count": 41,
   "metadata": {},
   "outputs": [
    {
     "data": {
      "text/plain": [
       "b'|\\x00d\\x01\\x17\\x00S\\x00'"
      ]
     },
     "execution_count": 41,
     "metadata": {},
     "output_type": "execute_result"
    }
   ],
   "source": [
    "# Байт-код функции function_name\n",
    "plus_one.__code__.co_code"
   ]
  },
  {
   "cell_type": "code",
   "execution_count": 42,
   "metadata": {},
   "outputs": [
    {
     "name": "stdout",
     "output_type": "stream",
     "text": [
      "  4           0 LOAD_FAST                0 (x)\n",
      "              2 LOAD_CONST               1 (1)\n",
      "              4 BINARY_ADD\n",
      "              6 RETURN_VALUE\n"
     ]
    }
   ],
   "source": [
    "# Дизассемблированное тело функции function_name\n",
    "import dis\n",
    "dis.dis(plus_one)"
   ]
  },
  {
   "cell_type": "markdown",
   "metadata": {},
   "source": [
    "Если заглянуть во внутренности интерпретатора (CPython), то функция описывается следующей струтурой: https://github.com/python/cpython/blob/3.7/Include/funcobject.h"
   ]
  },
  {
   "cell_type": "markdown",
   "metadata": {},
   "source": [
    "### Почитать\n",
    "1. [The Python Language Reference. Data model](https://docs.python.org/3/reference/datamodel.html#objects-values-and-types)\n",
    "2. [The Python Language Reference. Inspect live objects](https://docs.python.org/3/library/inspect.html)\n",
    "3. [PEP 3107 -- Function Annotations](https://www.python.org/dev/peps/pep-3107/)\n",
    "4. [PEP 257 -- Docstring Conventions](https://www.python.org/dev/peps/pep-0257/)"
   ]
  },
  {
   "cell_type": "markdown",
   "metadata": {},
   "source": [
    "## 2. Вложенные функции"
   ]
  },
  {
   "cell_type": "markdown",
   "metadata": {},
   "source": [
    "**Вложенная функция** — функция, которая определена внутри другой функции.\n",
    "\n",
    "При работе с вложенными функциями надо учитывать области видимости."
   ]
  },
  {
   "cell_type": "markdown",
   "metadata": {},
   "source": [
    "### Область видимости в Python — LEGB"
   ]
  },
  {
   "cell_type": "markdown",
   "metadata": {},
   "source": [
    "В Python есть 4 области видимости. Расположены они как показано на рисунке.\n",
    "\n",
    "![title](img/LEGB.png)\n",
    "\n",
    "Стрелки на рисунке показывают в какой последовательности Python обходит области видимости. Следующий код показывает как распределены области относительно вложенной функции inner."
   ]
  },
  {
   "cell_type": "code",
   "execution_count": 64,
   "metadata": {},
   "outputs": [],
   "source": [
    "# (built-in) — область системных имен\n",
    "\n",
    "# global — область модуля\n",
    "def outer():\n",
    "    # enclosed — область функции-обёртки \n",
    "    def inner():\n",
    "        # local — область внутри функции\n",
    "        pass"
   ]
  },
  {
   "cell_type": "markdown",
   "metadata": {},
   "source": [
    "### Зачем нужны вложенные функции?"
   ]
  },
  {
   "cell_type": "markdown",
   "metadata": {},
   "source": [
    "Зачем это может быть нужно? Можно выделить 3 примера:\n",
    "1. чтобы скрыть функцию в глобальной области видимости,\n",
    "2. чтобы вынести «лишний» код из функцию в обёртку,\n",
    "3. чтобы реализовать замыкания (см. следующий раздел)."
   ]
  },
  {
   "cell_type": "markdown",
   "metadata": {},
   "source": [
    "#### Пример 1. Чтобы скрыть функцию — инкапсуляция"
   ]
  },
  {
   "cell_type": "code",
   "execution_count": 53,
   "metadata": {},
   "outputs": [],
   "source": [
    "# Вложенная функция inner внутри plus_one_outer\n",
    "def plus_one_outer(x: int) -> int:\n",
    "    \"\"\"Функция возвращает увеличенное на 1 целое число\"\"\"\n",
    "    def inner(y: int) -> int: return y+1\n",
    "    return inner(x)\n",
    "    "
   ]
  },
  {
   "cell_type": "code",
   "execution_count": 55,
   "metadata": {},
   "outputs": [
    {
     "data": {
      "text/plain": [
       "2"
      ]
     },
     "execution_count": 55,
     "metadata": {},
     "output_type": "execute_result"
    }
   ],
   "source": [
    "#  Вызов функции, ожидаем ответ 2\n",
    "plus_one_outer(1)"
   ]
  },
  {
   "cell_type": "code",
   "execution_count": 57,
   "metadata": {},
   "outputs": [
    {
     "ename": "NameError",
     "evalue": "name 'inner' is not defined",
     "output_type": "error",
     "traceback": [
      "\u001b[0;31m---------------------------------------------------------------------------\u001b[0m",
      "\u001b[0;31mNameError\u001b[0m                                 Traceback (most recent call last)",
      "\u001b[0;32m<ipython-input-57-cd85ef7e0184>\u001b[0m in \u001b[0;36m<module>\u001b[0;34m\u001b[0m\n\u001b[0;32m----> 1\u001b[0;31m \u001b[0minner\u001b[0m\u001b[0;34m(\u001b[0m\u001b[0;36m1\u001b[0m\u001b[0;34m)\u001b[0m\u001b[0;34m\u001b[0m\u001b[0;34m\u001b[0m\u001b[0m\n\u001b[0m",
      "\u001b[0;31mNameError\u001b[0m: name 'inner' is not defined"
     ]
    }
   ],
   "source": [
    "# Вложенная функция недоступна (должна быть ошибка)\n",
    "inner(1)"
   ]
  },
  {
   "cell_type": "markdown",
   "metadata": {},
   "source": [
    "Вложенные функции дают накладные расходы"
   ]
  },
  {
   "cell_type": "code",
   "execution_count": 56,
   "metadata": {},
   "outputs": [
    {
     "name": "stdout",
     "output_type": "stream",
     "text": [
      "  4           0 LOAD_GLOBAL              0 (int)\n",
      "              2 LOAD_GLOBAL              0 (int)\n",
      "              4 LOAD_CONST               1 (('y', 'return'))\n",
      "              6 BUILD_CONST_KEY_MAP      2\n",
      "              8 LOAD_CONST               2 (<code object inner at 0x10d59fc00, file \"<ipython-input-53-07493295d00f>\", line 4>)\n",
      "             10 LOAD_CONST               3 ('plus_one_outer.<locals>.inner')\n",
      "             12 MAKE_FUNCTION            4\n",
      "             14 STORE_FAST               1 (inner)\n",
      "\n",
      "  5          16 LOAD_FAST                1 (inner)\n",
      "             18 LOAD_FAST                0 (x)\n",
      "             20 CALL_FUNCTION            1\n",
      "             22 RETURN_VALUE\n",
      "\n",
      "Disassembly of <code object inner at 0x10d59fc00, file \"<ipython-input-53-07493295d00f>\", line 4>:\n",
      "  4           0 LOAD_FAST                0 (y)\n",
      "              2 LOAD_CONST               1 (1)\n",
      "              4 BINARY_ADD\n",
      "              6 RETURN_VALUE\n"
     ]
    }
   ],
   "source": [
    "import dis\n",
    "dis.dis(plus_one_outer)"
   ]
  },
  {
   "cell_type": "markdown",
   "metadata": {},
   "source": [
    "#### Пример 2. Чтобы вынести «лишний» код из функции в обёртку"
   ]
  },
  {
   "cell_type": "code",
   "execution_count": 59,
   "metadata": {},
   "outputs": [],
   "source": [
    "def factorial(x: int) -> int:\n",
    "    \"\"\"Функция вычисляет факториал целого числа\"\"\"\n",
    "    def calc_factorial(y: int) -> int: return y * calc_factorial(y-1) if y!=0 else 1\n",
    "    if x<0:\n",
    "        return -1\n",
    "    return calc_factorial(x)\n",
    "    "
   ]
  },
  {
   "cell_type": "code",
   "execution_count": 62,
   "metadata": {},
   "outputs": [
    {
     "data": {
      "text/plain": [
       "24"
      ]
     },
     "execution_count": 62,
     "metadata": {},
     "output_type": "execute_result"
    }
   ],
   "source": [
    "factorial(4)"
   ]
  },
  {
   "cell_type": "markdown",
   "metadata": {},
   "source": [
    "## 3. Замыкания"
   ]
  },
  {
   "cell_type": "markdown",
   "metadata": {},
   "source": [
    "**Замыкание** — вложенная функция, которая запоминает значения окружения, с которым она была вызвана. Говорят, что функция «замыкается» на значения переменных окружения."
   ]
  },
  {
   "cell_type": "markdown",
   "metadata": {},
   "source": [
    "## 4. Декораторы"
   ]
  },
  {
   "cell_type": "markdown",
   "metadata": {},
   "source": [
    "**Декоратор** — функция, которая принимает другую функцию и что-то возвращает."
   ]
  }
 ],
 "metadata": {
  "kernelspec": {
   "display_name": "Python 3",
   "language": "python",
   "name": "python3"
  },
  "language_info": {
   "codemirror_mode": {
    "name": "ipython",
    "version": 3
   },
   "file_extension": ".py",
   "mimetype": "text/x-python",
   "name": "python",
   "nbconvert_exporter": "python",
   "pygments_lexer": "ipython3",
   "version": "3.7.1"
  }
 },
 "nbformat": 4,
 "nbformat_minor": 1
}
