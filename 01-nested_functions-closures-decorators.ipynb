{
 "cells": [
  {
   "cell_type": "markdown",
   "metadata": {},
   "source": [
    "#  Вложенные функции, замыкания и декораторы"
   ]
  },
  {
   "cell_type": "markdown",
   "metadata": {},
   "source": [
    "## 1. Функции"
   ]
  },
  {
   "cell_type": "markdown",
   "metadata": {},
   "source": [
    "**Функция** — часть программы, которую можно вызвать из другого места программы.\n",
    "\n",
    "Все в Python объекты. И даже функции. Это значит, что у функций есть\n",
    "- атрибуты\n",
    "- и методы.\n",
    "\n",
    "От остальных объектов функции отличаются тем, что их можно вызвать*. Объекты, которые можно вызвать, называют `Callable`-объектами. У них есть метод `__call__()`.\n",
    "\n",
    "\\* С точки зрения синтаксиса еще можно вызывать классы"
   ]
  },
  {
   "cell_type": "markdown",
   "metadata": {},
   "source": [
    "### Как определить функцию"
   ]
  },
  {
   "cell_type": "code",
   "execution_count": 36,
   "metadata": {},
   "outputs": [],
   "source": [
    "# Функция определяется таким синтаксисом\n",
    "def plus_one(x: int) -> int:\n",
    "    \"\"\"Функция возвращает увеличенное на 1 целое число\"\"\"\n",
    "    return x+1"
   ]
  },
  {
   "cell_type": "markdown",
   "metadata": {},
   "source": [
    "Это избыточное определение. Из избыточного здесь использованы:\n",
    "- строка документирования — `docsting`,\n",
    "- и анотация функции.\n",
    "\n",
    "На самом деле можно описать эту же функцию компактней. "
   ]
  },
  {
   "cell_type": "code",
   "execution_count": 51,
   "metadata": {},
   "outputs": [],
   "source": [
    "# Функция plus_one без анотаций и документации\n",
    "def plus_one_simple(x): return x+1"
   ]
  },
  {
   "cell_type": "markdown",
   "metadata": {},
   "source": [
    "### Функция как объект"
   ]
  },
  {
   "cell_type": "markdown",
   "metadata": {},
   "source": [
    "Как у любого объекта в python, у функции есть:\n",
    "- идентификатор,\n",
    "- тип."
   ]
  },
  {
   "cell_type": "code",
   "execution_count": 47,
   "metadata": {},
   "outputs": [
    {
     "data": {
      "text/plain": [
       "(4510970608, function)"
      ]
     },
     "execution_count": 47,
     "metadata": {},
     "output_type": "execute_result"
    }
   ],
   "source": [
    "# У функции plus_one эти параметры выглядят так\n",
    "id(plus_one), type(plus_one)"
   ]
  },
  {
   "cell_type": "markdown",
   "metadata": {},
   "source": [
    "В CPython идентификатор — **адрес объекта** в виртуальной памяти"
   ]
  },
  {
   "cell_type": "code",
   "execution_count": 48,
   "metadata": {},
   "outputs": [
    {
     "data": {
      "text/plain": [
       "'0x10cdff2f0'"
      ]
     },
     "execution_count": 48,
     "metadata": {},
     "output_type": "execute_result"
    }
   ],
   "source": [
    "# Идентификатор в шестнадцатиричном формате — адрес функции plus_one\n",
    "hex(id(plus_one))"
   ]
  },
  {
   "cell_type": "markdown",
   "metadata": {},
   "source": [
    "Все атрибуты и методы функции как объекта можно посмотреть:"
   ]
  },
  {
   "cell_type": "code",
   "execution_count": 45,
   "metadata": {
    "scrolled": true
   },
   "outputs": [
    {
     "data": {
      "text/plain": [
       "[('__annotations__', {'x': int, 'return': int}),\n",
       " ('__call__', <method-wrapper '__call__' of function object at 0x10cdff2f0>),\n",
       " ('__class__', function),\n",
       " ('__closure__', None),\n",
       " ('__code__',\n",
       "  <code object plus_one at 0x10d59f780, file \"<ipython-input-36-59ce0af9670a>\", line 2>),\n",
       " ('__defaults__', None),\n",
       " ('__delattr__',\n",
       "  <method-wrapper '__delattr__' of function object at 0x10cdff2f0>),\n",
       " ('__dict__', {}),\n",
       " ('__dir__', <function function.__dir__()>),\n",
       " ('__doc__', 'Функция возвращает увеличенное на 1 целое число'),\n",
       " ('__eq__', <method-wrapper '__eq__' of function object at 0x10cdff2f0>),\n",
       " ('__format__', <function function.__format__(format_spec, /)>),\n",
       " ('__ge__', <method-wrapper '__ge__' of function object at 0x10cdff2f0>),\n",
       " ('__get__', <method-wrapper '__get__' of function object at 0x10cdff2f0>),\n",
       " ('__getattribute__',\n",
       "  <method-wrapper '__getattribute__' of function object at 0x10cdff2f0>),\n",
       " ('__gt__', <method-wrapper '__gt__' of function object at 0x10cdff2f0>),\n",
       " ('__hash__', <method-wrapper '__hash__' of function object at 0x10cdff2f0>),\n",
       " ('__init__', <method-wrapper '__init__' of function object at 0x10cdff2f0>),\n",
       " ('__init_subclass__', <function function.__init_subclass__>),\n",
       " ('__kwdefaults__', None),\n",
       " ('__le__', <method-wrapper '__le__' of function object at 0x10cdff2f0>),\n",
       " ('__lt__', <method-wrapper '__lt__' of function object at 0x10cdff2f0>),\n",
       " ('__module__', '__main__'),\n",
       " ('__name__', 'plus_one'),\n",
       " ('__ne__', <method-wrapper '__ne__' of function object at 0x10cdff2f0>),\n",
       " ('__new__', <function function.__new__(*args, **kwargs)>),\n",
       " ('__qualname__', 'plus_one'),\n",
       " ('__reduce__', <function function.__reduce__()>),\n",
       " ('__reduce_ex__', <function function.__reduce_ex__(protocol, /)>),\n",
       " ('__repr__', <method-wrapper '__repr__' of function object at 0x10cdff2f0>),\n",
       " ('__setattr__',\n",
       "  <method-wrapper '__setattr__' of function object at 0x10cdff2f0>),\n",
       " ('__sizeof__', <function function.__sizeof__()>),\n",
       " ('__str__', <method-wrapper '__str__' of function object at 0x10cdff2f0>),\n",
       " ('__subclasshook__', <function function.__subclasshook__>)]"
      ]
     },
     "execution_count": 45,
     "metadata": {},
     "output_type": "execute_result"
    }
   ],
   "source": [
    "import inspect\n",
    "list(filter(lambda x: x[0] != \"__globals__\", sorted(inspect.getmembers(plus_one))))\n",
    "# Здесь мы выбросили поле \"__globals__\", чтобы не засорять вывод"
   ]
  },
  {
   "cell_type": "markdown",
   "metadata": {},
   "source": [
    "### Как вызвать функцию"
   ]
  },
  {
   "cell_type": "code",
   "execution_count": 39,
   "metadata": {},
   "outputs": [
    {
     "data": {
      "text/plain": [
       "2"
      ]
     },
     "execution_count": 39,
     "metadata": {},
     "output_type": "execute_result"
    }
   ],
   "source": [
    "#  Вызов функции, ожидаем ответ 2\n",
    "plus_one(1)"
   ]
  },
  {
   "cell_type": "code",
   "execution_count": 40,
   "metadata": {},
   "outputs": [
    {
     "data": {
      "text/plain": [
       "2"
      ]
     },
     "execution_count": 40,
     "metadata": {},
     "output_type": "execute_result"
    }
   ],
   "source": [
    "#  Можно явно вызвать метод call, ожидаем ответ 2\n",
    "plus_one.__call__(1)"
   ]
  },
  {
   "cell_type": "markdown",
   "metadata": {},
   "source": [
    "### Как функции устроены"
   ]
  },
  {
   "cell_type": "code",
   "execution_count": 41,
   "metadata": {},
   "outputs": [
    {
     "data": {
      "text/plain": [
       "b'|\\x00d\\x01\\x17\\x00S\\x00'"
      ]
     },
     "execution_count": 41,
     "metadata": {},
     "output_type": "execute_result"
    }
   ],
   "source": [
    "# Байт-код функции function_name\n",
    "plus_one.__code__.co_code"
   ]
  },
  {
   "cell_type": "code",
   "execution_count": 42,
   "metadata": {},
   "outputs": [
    {
     "name": "stdout",
     "output_type": "stream",
     "text": [
      "  4           0 LOAD_FAST                0 (x)\n",
      "              2 LOAD_CONST               1 (1)\n",
      "              4 BINARY_ADD\n",
      "              6 RETURN_VALUE\n"
     ]
    }
   ],
   "source": [
    "# Дизассемблированное тело функции function_name\n",
    "import dis\n",
    "dis.dis(plus_one)"
   ]
  },
  {
   "cell_type": "markdown",
   "metadata": {},
   "source": [
    "Если заглянуть во внутренности интерпретатора (CPython), то функция описывается следующей струтурой: https://github.com/python/cpython/blob/3.7/Include/funcobject.h"
   ]
  },
  {
   "cell_type": "markdown",
   "metadata": {},
   "source": [
    "### Почитать\n",
    "1. [The Python Language Reference. Data model](https://docs.python.org/3/reference/datamodel.html#objects-values-and-types)\n",
    "2. [The Python Language Reference. Inspect live objects](https://docs.python.org/3/library/inspect.html)\n",
    "3. [PEP 3107 -- Function Annotations](https://www.python.org/dev/peps/pep-3107/)\n",
    "4. [PEP 257 -- Docstring Conventions](https://www.python.org/dev/peps/pep-0257/)"
   ]
  },
  {
   "cell_type": "markdown",
   "metadata": {},
   "source": [
    "## 2. Вложенные функции"
   ]
  },
  {
   "cell_type": "markdown",
   "metadata": {},
   "source": [
    "**Вложенная функция** — функция, которая определена внутри другой функции.\n",
    "\n",
    "При работе с вложенными функциями надо учитывать области видимости."
   ]
  },
  {
   "cell_type": "markdown",
   "metadata": {},
   "source": [
    "### Область видимости в Python — LEGB"
   ]
  },
  {
   "cell_type": "markdown",
   "metadata": {},
   "source": [
    "В Python есть 4 области видимости. Расположены они как показано на рисунке.\n",
    "\n",
    "![title](img/LEGB.png)\n",
    "\n",
    "Стрелки на рисунке показывают в какой последовательности Python обходит области видимости. Следующий код показывает как распределены области относительно вложенной функции inner."
   ]
  },
  {
   "cell_type": "code",
   "execution_count": 64,
   "metadata": {},
   "outputs": [],
   "source": [
    "# (built-in) — область системных имен\n",
    "\n",
    "# global — область модуля\n",
    "def outer():\n",
    "    # enclosed — область функции-обёртки \n",
    "    def inner():\n",
    "        # local — область внутри функции\n",
    "        pass"
   ]
  },
  {
   "cell_type": "markdown",
   "metadata": {},
   "source": [
    "### Зачем нужны вложенные функции?"
   ]
  },
  {
   "cell_type": "markdown",
   "metadata": {},
   "source": [
    "Зачем это может быть нужно? Можно выделить 3 примера:\n",
    "1. чтобы скрыть функцию в глобальной области видимости,\n",
    "2. чтобы вынести «лишний» код из функцию в обёртку,\n",
    "3. чтобы реализовать замыкания (см. следующий раздел)."
   ]
  },
  {
   "cell_type": "markdown",
   "metadata": {},
   "source": [
    "#### Пример 1. Чтобы скрыть функцию — инкапсуляция"
   ]
  },
  {
   "cell_type": "code",
   "execution_count": 53,
   "metadata": {},
   "outputs": [],
   "source": [
    "# Вложенная функция inner внутри plus_one_outer\n",
    "def plus_one_outer(x: int) -> int:\n",
    "    \"\"\"Функция возвращает увеличенное на 1 целое число\"\"\"\n",
    "    def inner(y: int) -> int: return y+1\n",
    "    return inner(x)\n",
    "    "
   ]
  },
  {
   "cell_type": "code",
   "execution_count": 55,
   "metadata": {},
   "outputs": [
    {
     "data": {
      "text/plain": [
       "2"
      ]
     },
     "execution_count": 55,
     "metadata": {},
     "output_type": "execute_result"
    }
   ],
   "source": [
    "#  Вызов функции, ожидаем ответ 2\n",
    "plus_one_outer(1)"
   ]
  },
  {
   "cell_type": "code",
   "execution_count": 57,
   "metadata": {},
   "outputs": [
    {
     "ename": "NameError",
     "evalue": "name 'inner' is not defined",
     "output_type": "error",
     "traceback": [
      "\u001b[0;31m---------------------------------------------------------------------------\u001b[0m",
      "\u001b[0;31mNameError\u001b[0m                                 Traceback (most recent call last)",
      "\u001b[0;32m<ipython-input-57-cd85ef7e0184>\u001b[0m in \u001b[0;36m<module>\u001b[0;34m\u001b[0m\n\u001b[0;32m----> 1\u001b[0;31m \u001b[0minner\u001b[0m\u001b[0;34m(\u001b[0m\u001b[0;36m1\u001b[0m\u001b[0;34m)\u001b[0m\u001b[0;34m\u001b[0m\u001b[0;34m\u001b[0m\u001b[0m\n\u001b[0m",
      "\u001b[0;31mNameError\u001b[0m: name 'inner' is not defined"
     ]
    }
   ],
   "source": [
    "# Вложенная функция недоступна (должна быть ошибка)\n",
    "inner(1)"
   ]
  },
  {
   "cell_type": "markdown",
   "metadata": {},
   "source": [
    "Вложенные функции дают накладные расходы"
   ]
  },
  {
   "cell_type": "code",
   "execution_count": 56,
   "metadata": {},
   "outputs": [
    {
     "name": "stdout",
     "output_type": "stream",
     "text": [
      "  4           0 LOAD_GLOBAL              0 (int)\n",
      "              2 LOAD_GLOBAL              0 (int)\n",
      "              4 LOAD_CONST               1 (('y', 'return'))\n",
      "              6 BUILD_CONST_KEY_MAP      2\n",
      "              8 LOAD_CONST               2 (<code object inner at 0x10d59fc00, file \"<ipython-input-53-07493295d00f>\", line 4>)\n",
      "             10 LOAD_CONST               3 ('plus_one_outer.<locals>.inner')\n",
      "             12 MAKE_FUNCTION            4\n",
      "             14 STORE_FAST               1 (inner)\n",
      "\n",
      "  5          16 LOAD_FAST                1 (inner)\n",
      "             18 LOAD_FAST                0 (x)\n",
      "             20 CALL_FUNCTION            1\n",
      "             22 RETURN_VALUE\n",
      "\n",
      "Disassembly of <code object inner at 0x10d59fc00, file \"<ipython-input-53-07493295d00f>\", line 4>:\n",
      "  4           0 LOAD_FAST                0 (y)\n",
      "              2 LOAD_CONST               1 (1)\n",
      "              4 BINARY_ADD\n",
      "              6 RETURN_VALUE\n"
     ]
    }
   ],
   "source": [
    "import dis\n",
    "dis.dis(plus_one_outer)"
   ]
  },
  {
   "cell_type": "markdown",
   "metadata": {},
   "source": [
    "#### Пример 2. Чтобы вынести «лишний» код из функции в обёртку"
   ]
  },
  {
   "cell_type": "code",
   "execution_count": 59,
   "metadata": {},
   "outputs": [],
   "source": [
    "def factorial(x: int) -> int:\n",
    "    \"\"\"Функция вычисляет факториал целого числа\"\"\"\n",
    "    def calc_factorial(y: int) -> int: return y * calc_factorial(y-1) if y!=0 else 1\n",
    "    if x<0:\n",
    "        return -1\n",
    "    return calc_factorial(x)\n",
    "    "
   ]
  },
  {
   "cell_type": "code",
   "execution_count": 62,
   "metadata": {},
   "outputs": [
    {
     "data": {
      "text/plain": [
       "24"
      ]
     },
     "execution_count": 62,
     "metadata": {},
     "output_type": "execute_result"
    }
   ],
   "source": [
    "factorial(4)"
   ]
  },
  {
   "cell_type": "markdown",
   "metadata": {},
   "source": [
    "## 3. Замыкания"
   ]
  },
  {
   "cell_type": "markdown",
   "metadata": {},
   "source": [
    "**Замыкание** — вложенная функция, которая запоминает значения окружения, с которым она была вызвана. Говорят, что функция «замыкается» на значения переменных окружения. По сути это техника параметризированной генерации функций.\n",
    "\n",
    "Рассмотрим простой пример замыкания"
   ]
  },
  {
   "cell_type": "code",
   "execution_count": 83,
   "metadata": {},
   "outputs": [],
   "source": [
    "from typing import Callable\n",
    "\n",
    "# Функция-обёртка принимает возвращает внутренную функцию, которая «замкнута» на значение a\n",
    "def gen_mul(a: int) -> Callable[[int], int]:\n",
    "    def inner(b: int) -> int:\n",
    "        return a*b\n",
    "    return inner"
   ]
  },
  {
   "cell_type": "code",
   "execution_count": 84,
   "metadata": {},
   "outputs": [],
   "source": [
    "# gen_mul возвращает функцию, которая будет всегда умножать на 2\n",
    "double = generate_mul(2)"
   ]
  },
  {
   "cell_type": "code",
   "execution_count": 85,
   "metadata": {},
   "outputs": [
    {
     "data": {
      "text/plain": [
       "6"
      ]
     },
     "execution_count": 85,
     "metadata": {},
     "output_type": "execute_result"
    }
   ],
   "source": [
    "# Проверим (должно быть 6)\n",
    "double(3)"
   ]
  },
  {
   "cell_type": "code",
   "execution_count": 86,
   "metadata": {},
   "outputs": [
    {
     "data": {
      "text/plain": [
       "6"
      ]
     },
     "execution_count": 86,
     "metadata": {},
     "output_type": "execute_result"
    }
   ],
   "source": [
    "# Можно возвращаемую функцию не сохранять\n",
    "gen_mul(2)(3)"
   ]
  },
  {
   "cell_type": "markdown",
   "metadata": {},
   "source": [
    "Функции, которые возвращают другие функции, называются **«фабриками функций»**."
   ]
  },
  {
   "cell_type": "markdown",
   "metadata": {},
   "source": [
    "## 4. Декораторы"
   ]
  },
  {
   "cell_type": "markdown",
   "metadata": {},
   "source": [
    "**Декоратор** — «синтаксический сахар» для функции-обёртки вокруг другой функции. Обычно декоратор используют, чтобы добавить новое поведение другой функции без изменения ее тела."
   ]
  },
  {
   "cell_type": "code",
   "execution_count": 93,
   "metadata": {},
   "outputs": [
    {
     "data": {
      "text/plain": [
       "25"
      ]
     },
     "execution_count": 93,
     "metadata": {},
     "output_type": "execute_result"
    }
   ],
   "source": [
    "# Возьмем простую функцию возведения в квадрат\n",
    "def sqr(x: int) -> int: return x*x\n",
    "sqr(5)"
   ]
  },
  {
   "cell_type": "markdown",
   "metadata": {},
   "source": [
    "### Пример элементарного декоратора"
   ]
  },
  {
   "cell_type": "markdown",
   "metadata": {},
   "source": [
    "Мы хотим обёрнуть функцию возведения в квадрат другой функцией, чтобы добавить новые возможности.\n",
    "Ниже приведен пример фабрики функций, которая возвращает функцию-обёртку. Эта функция-обёртка выполняет новый код\n",
    "и вызывает оборачивемую функцию."
   ]
  },
  {
   "cell_type": "code",
   "execution_count": 185,
   "metadata": {},
   "outputs": [],
   "source": [
    "from time import perf_counter_ns\n",
    "from typing import Callable\n",
    "\n",
    "# Фабрика функций, которая генерирует обернутые функции func для отладки вызова и результата\n",
    "def make_debugable(func: Callable[[int], int]) -> Callable[[int], int]:\n",
    "    def wrapper(x: int) -> int:\n",
    "        print(f\"[DEBUG] Launch function {func} with x={x}\")\n",
    "        start_time_ns = perf_counter_ns()\n",
    "        result = func(x)\n",
    "        stop_time_ns = perf_counter_ns()\n",
    "        duration_ns = stop_time_ns-start_time_ns\n",
    "        print(f\"[DEBUG] Time: {duration_ns}ns\")\n",
    "        return result\n",
    "    return wrapper"
   ]
  },
  {
   "cell_type": "markdown",
   "metadata": {},
   "source": [
    "Обернём функцию sqr, сгенерированное значение будем хранить в sqrt2."
   ]
  },
  {
   "cell_type": "code",
   "execution_count": 186,
   "metadata": {},
   "outputs": [
    {
     "name": "stdout",
     "output_type": "stream",
     "text": [
      "[DEBUG] Launch function <function sqr at 0x10cefc158> with x=5\n",
      "[DEBUG] Time: 1441ns\n"
     ]
    },
    {
     "data": {
      "text/plain": [
       "25"
      ]
     },
     "execution_count": 186,
     "metadata": {},
     "output_type": "execute_result"
    }
   ],
   "source": [
    "sqrt2 = make_debugable(sqr)\n",
    "sqrt2(5)"
   ]
  },
  {
   "cell_type": "markdown",
   "metadata": {},
   "source": [
    "Синтаксический сахар декораторов позволяет описать такое поведение короче. При этом декоратор генерирует обёрнутую функцию с таким же именем как у обораичиваемой."
   ]
  },
  {
   "cell_type": "code",
   "execution_count": 178,
   "metadata": {},
   "outputs": [
    {
     "name": "stdout",
     "output_type": "stream",
     "text": [
      "[DEBUG] Launch function <function sqr3 at 0x10d2ce730> with x=4\n",
      "[DEBUG] Time: 1208ns\n"
     ]
    },
    {
     "data": {
      "text/plain": [
       "16"
      ]
     },
     "execution_count": 178,
     "metadata": {},
     "output_type": "execute_result"
    }
   ],
   "source": [
    "# Следующий код эквивалентен: sqr3 = make_debugable(sqr3)\n",
    "@make_debugable\n",
    "def sqr3(x: int) -> int: return x*x\n",
    "\n",
    "sqr3(4)"
   ]
  },
  {
   "cell_type": "markdown",
   "metadata": {},
   "source": [
    "#### Практичный пример применения декоратора `make_debugable`"
   ]
  },
  {
   "cell_type": "markdown",
   "metadata": {},
   "source": [
    "Сравним скорость работы встроенной функции `sum` с написанной «руками» с помощью декоратора `make_debugable`."
   ]
  },
  {
   "cell_type": "code",
   "execution_count": 179,
   "metadata": {},
   "outputs": [],
   "source": [
    "@make_debugable\n",
    "def sum_1(n: int) -> int:\n",
    "    \"\"\"Суммирование числе от 1 до n в цикле for\"\"\"\n",
    "    s = 0\n",
    "    for i in range(n):\n",
    "        s += i\n",
    "    return s"
   ]
  },
  {
   "cell_type": "code",
   "execution_count": 180,
   "metadata": {},
   "outputs": [],
   "source": [
    "@make_debugable\n",
    "def sum_2(n: int) -> int:\n",
    "    \"\"\"Суммирование числе от 1 до n встроенной функцией\"\"\"\n",
    "    return sum(range(n))"
   ]
  },
  {
   "cell_type": "code",
   "execution_count": 181,
   "metadata": {},
   "outputs": [
    {
     "name": "stdout",
     "output_type": "stream",
     "text": [
      "[DEBUG] Launch function <function sum_1 at 0x10d2ce158> with x=10000\n",
      "[DEBUG] Time: 590115ns\n"
     ]
    },
    {
     "data": {
      "text/plain": [
       "49995000"
      ]
     },
     "execution_count": 181,
     "metadata": {},
     "output_type": "execute_result"
    }
   ],
   "source": [
    "sum_1(10000)"
   ]
  },
  {
   "cell_type": "code",
   "execution_count": 182,
   "metadata": {},
   "outputs": [
    {
     "name": "stdout",
     "output_type": "stream",
     "text": [
      "[DEBUG] Launch function <function sum_2 at 0x10cdefc80> with x=10000\n",
      "[DEBUG] Time: 214377ns\n"
     ]
    },
    {
     "data": {
      "text/plain": [
       "49995000"
      ]
     },
     "execution_count": 182,
     "metadata": {},
     "output_type": "execute_result"
    }
   ],
   "source": [
    "sum_2(10000)"
   ]
  },
  {
   "cell_type": "markdown",
   "metadata": {},
   "source": [
    "Наглядно видно, что встроенная функция производительней."
   ]
  },
  {
   "cell_type": "markdown",
   "metadata": {},
   "source": [
    "### Пример рабочего декоратора"
   ]
  },
  {
   "cell_type": "markdown",
   "metadata": {},
   "source": [
    "По сути декоратор возвращает другую функцию. Если проверить документацию к функции:"
   ]
  },
  {
   "cell_type": "code",
   "execution_count": 168,
   "metadata": {},
   "outputs": [
    {
     "name": "stdout",
     "output_type": "stream",
     "text": [
      "Help on function wrapper in module __main__:\n",
      "\n",
      "wrapper(x: int) -> int\n",
      "\n"
     ]
    }
   ],
   "source": [
    "# Проверка справки (не должен вернуть строку)\n",
    "help(sum_1)"
   ]
  },
  {
   "cell_type": "markdown",
   "metadata": {},
   "source": [
    "Чтобы возвращаемая функция была похожа на оборачиваемую надо скопировать внутреннии атрибуты."
   ]
  },
  {
   "cell_type": "code",
   "execution_count": 184,
   "metadata": {},
   "outputs": [],
   "source": [
    "from functools import wraps\n",
    "from time import perf_counter_ns\n",
    "from typing import Callable\n",
    "\n",
    "# Улучшенная фабрика функций, которая генерирует обернутые функции func для отладки вызова и результата\n",
    "def make_debugable_real(func: Callable[[int], int]) -> Callable[[int], int]:\n",
    "    @wraps(func) # Декоратор из библиотеки для копирования внутренних атрибутов\n",
    "    def wrapper(x: int) -> int:\n",
    "        print(f\"[DEBUG] Launch function {func} with x={x}\")\n",
    "        start_time_ns = perf_counter_ns()\n",
    "        result = func(x)\n",
    "        stop_time_ns = perf_counter_ns()\n",
    "        duration_ns = stop_time_ns-start_time_ns\n",
    "        print(f\"[DEBUG] Time: {duration_ns}ns\")\n",
    "        return result\n",
    "    return wrapper"
   ]
  },
  {
   "cell_type": "code",
   "execution_count": 173,
   "metadata": {},
   "outputs": [],
   "source": [
    "@make_debugable_real\n",
    "def sum_3(n: int) -> int:\n",
    "    \"\"\"Суммирование числе от 1 до n встроенной функцией\"\"\"\n",
    "    return sum(range(n))"
   ]
  },
  {
   "cell_type": "code",
   "execution_count": 183,
   "metadata": {},
   "outputs": [
    {
     "name": "stdout",
     "output_type": "stream",
     "text": [
      "Help on function sum_3 in module __main__:\n",
      "\n",
      "sum_3(n: int) -> int\n",
      "    Суммирование числе от 1 до n встроенной функцией\n",
      "\n"
     ]
    }
   ],
   "source": [
    "# Проверка справки (теперь должен вернуть строку)\n",
    "help(sum_3)"
   ]
  },
  {
   "cell_type": "markdown",
   "metadata": {},
   "source": [
    "### Пример рабочего декоратора с параметрами"
   ]
  },
  {
   "cell_type": "markdown",
   "metadata": {},
   "source": [
    "Чтобы декоратор принимал аргументы, надо сформировать замыкание фабрики обёрток с параметром декоратора."
   ]
  },
  {
   "cell_type": "code",
   "execution_count": 217,
   "metadata": {},
   "outputs": [],
   "source": [
    "from functools import wraps\n",
    "from typing import Callable\n",
    "\n",
    "# Фабарика генераторов функций, которая позволяет использовать параметры, функция умножает результат функции на число.\n",
    "def mul(p: int) -> Callable[[x],  Callable[[], int]]:\n",
    "    def decorator(func: Callable[[], int]) -> Callable[[], int]:\n",
    "        @wraps(func)\n",
    "        def wrapper(*args) -> int: # Упаковали параметры (см. ниже)\n",
    "            return p*func(*args) # Распаковали параметры обратно (см. ниже)\n",
    "        return wrapper\n",
    "    return decorator"
   ]
  },
  {
   "cell_type": "markdown",
   "metadata": {},
   "source": [
    "Объявим функцию с двумя декораторами. Декораторы применяются последовательнос снизу вверх."
   ]
  },
  {
   "cell_type": "code",
   "execution_count": 218,
   "metadata": {},
   "outputs": [],
   "source": [
    "@mul(2)\n",
    "@mul(4)\n",
    "def f(x: int, y: int) -> int:\n",
    "    return x+y"
   ]
  },
  {
   "cell_type": "code",
   "execution_count": 219,
   "metadata": {},
   "outputs": [
    {
     "data": {
      "text/plain": [
       "24"
      ]
     },
     "execution_count": 219,
     "metadata": {},
     "output_type": "execute_result"
    }
   ],
   "source": [
    "# Должно быть 24 так как 2(4(1+2)) = 24\n",
    "f(1,2)"
   ]
  },
  {
   "cell_type": "markdown",
   "metadata": {},
   "source": [
    "#### Упаковка и распаковка параметров"
   ]
  },
  {
   "cell_type": "markdown",
   "metadata": {},
   "source": [
    "При работе с последовательностями можно собирать значения в переменные. Это называется **упаковка**. Синтаксис такой."
   ]
  },
  {
   "cell_type": "code",
   "execution_count": 214,
   "metadata": {},
   "outputs": [],
   "source": [
    "a, *b, c = [2, 7, 5, 6, 3, 4, 1]"
   ]
  },
  {
   "cell_type": "markdown",
   "metadata": {},
   "source": [
    "В `b` теперь список всего того, что не попало в `a` и `c`"
   ]
  },
  {
   "cell_type": "code",
   "execution_count": 215,
   "metadata": {},
   "outputs": [
    {
     "name": "stdout",
     "output_type": "stream",
     "text": [
      "[7, 5, 6, 3, 4]\n"
     ]
    }
   ],
   "source": [
    "print(b)"
   ]
  },
  {
   "cell_type": "markdown",
   "metadata": {},
   "source": [
    "Эти значения можно подставить используя **распаковку**."
   ]
  },
  {
   "cell_type": "code",
   "execution_count": 220,
   "metadata": {},
   "outputs": [
    {
     "name": "stdout",
     "output_type": "stream",
     "text": [
      "7 5 6 3 4\n"
     ]
    }
   ],
   "source": [
    "print(*b)"
   ]
  },
  {
   "cell_type": "markdown",
   "metadata": {},
   "source": [
    "Результат вывода разный. В первом случае вызов эквивалентен `print([b1, b2, b3])`, во втором — `print(b1, b2, b3)`.\n",
    "\n",
    "**NB!** Упаковка и распоковка доступна и для словарей. Для этого используется **."
   ]
  },
  {
   "cell_type": "code",
   "execution_count": null,
   "metadata": {},
   "outputs": [],
   "source": []
  }
 ],
 "metadata": {
  "kernelspec": {
   "display_name": "Python 3",
   "language": "python",
   "name": "python3"
  },
  "language_info": {
   "codemirror_mode": {
    "name": "ipython",
    "version": 3
   },
   "file_extension": ".py",
   "mimetype": "text/x-python",
   "name": "python",
   "nbconvert_exporter": "python",
   "pygments_lexer": "ipython3",
   "version": "3.7.1"
  }
 },
 "nbformat": 4,
 "nbformat_minor": 1
}
