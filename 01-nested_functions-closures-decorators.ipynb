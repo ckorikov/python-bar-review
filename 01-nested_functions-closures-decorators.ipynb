{
 "cells": [
  {
   "cell_type": "markdown",
   "metadata": {},
   "source": [
    "#  Вложенные функции, замыкания и декораторы"
   ]
  },
  {
   "cell_type": "markdown",
   "metadata": {},
   "source": [
    "## 1. Функции"
   ]
  },
  {
   "cell_type": "markdown",
   "metadata": {},
   "source": [
    "**Функция** — часть программы, которую можно вызвать из другого места программы.\n",
    "\n",
    "Все в Python объекты. И даже функции. Это значит, что у функций есть\n",
    "- атрибуты\n",
    "- и методы.\n",
    "\n",
    "От остальных объектов функции отличаются тем, что их можно вызвать*. Объекты, которые можно вызвать, называют `Callable`-объектами.\n",
    "\n",
    "*\\*С точки зрения синтаксиса еще можно вызывать классы*"
   ]
  },
  {
   "cell_type": "markdown",
   "metadata": {},
   "source": [
    "### Как определить функцию"
   ]
  },
  {
   "cell_type": "code",
   "execution_count": 36,
   "metadata": {},
   "outputs": [],
   "source": [
    "# Функция определяется таким синтаксисом\n",
    "def plus_one(x: int) -> int:\n",
    "    \"\"\"Функция возвращает увеличенное на 1 целое число\"\"\"\n",
    "    return x+1"
   ]
  },
  {
   "cell_type": "markdown",
   "metadata": {},
   "source": [
    "Это избыточное определение. Здесь использованы:\n",
    "- строка документирования — docsting,\n",
    "- а также анотация функции.\n",
    "\n",
    "На самом деле можно описать эту же функцию компактней. "
   ]
  },
  {
   "cell_type": "code",
   "execution_count": 51,
   "metadata": {},
   "outputs": [],
   "source": [
    "# Функция plus_one без анотаций и документации\n",
    "def plus_one_simple(x): return x+1"
   ]
  },
  {
   "cell_type": "markdown",
   "metadata": {},
   "source": [
    "Как у любого объекта в python, у функции есть:\n",
    "- идентификатор,\n",
    "- тип."
   ]
  },
  {
   "cell_type": "code",
   "execution_count": 47,
   "metadata": {},
   "outputs": [
    {
     "data": {
      "text/plain": [
       "(4510970608, function)"
      ]
     },
     "execution_count": 47,
     "metadata": {},
     "output_type": "execute_result"
    }
   ],
   "source": [
    "# У функции plus_one эти параметры выглядят так\n",
    "id(plus_one), type(plus_one)"
   ]
  },
  {
   "cell_type": "markdown",
   "metadata": {},
   "source": [
    "В CPython идентификатор — **адрес объекта** в виртуальной памяти"
   ]
  },
  {
   "cell_type": "code",
   "execution_count": 48,
   "metadata": {},
   "outputs": [
    {
     "data": {
      "text/plain": [
       "'0x10cdff2f0'"
      ]
     },
     "execution_count": 48,
     "metadata": {},
     "output_type": "execute_result"
    }
   ],
   "source": [
    "# Идентификатор в шестнадцатиричном формате — адрес функции plus_one\n",
    "hex(id(plus_one))"
   ]
  },
  {
   "cell_type": "markdown",
   "metadata": {},
   "source": [
    "Все атрибуты и методы функции как объекта можно посмотреть:"
   ]
  },
  {
   "cell_type": "code",
   "execution_count": 45,
   "metadata": {
    "scrolled": true
   },
   "outputs": [
    {
     "data": {
      "text/plain": [
       "[('__annotations__', {'x': int, 'return': int}),\n",
       " ('__call__', <method-wrapper '__call__' of function object at 0x10cdff2f0>),\n",
       " ('__class__', function),\n",
       " ('__closure__', None),\n",
       " ('__code__',\n",
       "  <code object plus_one at 0x10d59f780, file \"<ipython-input-36-59ce0af9670a>\", line 2>),\n",
       " ('__defaults__', None),\n",
       " ('__delattr__',\n",
       "  <method-wrapper '__delattr__' of function object at 0x10cdff2f0>),\n",
       " ('__dict__', {}),\n",
       " ('__dir__', <function function.__dir__()>),\n",
       " ('__doc__', 'Функция возвращает увеличенное на 1 целое число'),\n",
       " ('__eq__', <method-wrapper '__eq__' of function object at 0x10cdff2f0>),\n",
       " ('__format__', <function function.__format__(format_spec, /)>),\n",
       " ('__ge__', <method-wrapper '__ge__' of function object at 0x10cdff2f0>),\n",
       " ('__get__', <method-wrapper '__get__' of function object at 0x10cdff2f0>),\n",
       " ('__getattribute__',\n",
       "  <method-wrapper '__getattribute__' of function object at 0x10cdff2f0>),\n",
       " ('__gt__', <method-wrapper '__gt__' of function object at 0x10cdff2f0>),\n",
       " ('__hash__', <method-wrapper '__hash__' of function object at 0x10cdff2f0>),\n",
       " ('__init__', <method-wrapper '__init__' of function object at 0x10cdff2f0>),\n",
       " ('__init_subclass__', <function function.__init_subclass__>),\n",
       " ('__kwdefaults__', None),\n",
       " ('__le__', <method-wrapper '__le__' of function object at 0x10cdff2f0>),\n",
       " ('__lt__', <method-wrapper '__lt__' of function object at 0x10cdff2f0>),\n",
       " ('__module__', '__main__'),\n",
       " ('__name__', 'plus_one'),\n",
       " ('__ne__', <method-wrapper '__ne__' of function object at 0x10cdff2f0>),\n",
       " ('__new__', <function function.__new__(*args, **kwargs)>),\n",
       " ('__qualname__', 'plus_one'),\n",
       " ('__reduce__', <function function.__reduce__()>),\n",
       " ('__reduce_ex__', <function function.__reduce_ex__(protocol, /)>),\n",
       " ('__repr__', <method-wrapper '__repr__' of function object at 0x10cdff2f0>),\n",
       " ('__setattr__',\n",
       "  <method-wrapper '__setattr__' of function object at 0x10cdff2f0>),\n",
       " ('__sizeof__', <function function.__sizeof__()>),\n",
       " ('__str__', <method-wrapper '__str__' of function object at 0x10cdff2f0>),\n",
       " ('__subclasshook__', <function function.__subclasshook__>)]"
      ]
     },
     "execution_count": 45,
     "metadata": {},
     "output_type": "execute_result"
    }
   ],
   "source": [
    "import inspect\n",
    "list(filter(lambda x: x[0] != \"__globals__\", sorted(inspect.getmembers(plus_one))))\n",
    "# Здесь мы выбросили поле \"__globals__\", чтобы не засорять вывод"
   ]
  },
  {
   "cell_type": "markdown",
   "metadata": {},
   "source": [
    "### Как вызвать функцию"
   ]
  },
  {
   "cell_type": "code",
   "execution_count": 39,
   "metadata": {},
   "outputs": [
    {
     "data": {
      "text/plain": [
       "2"
      ]
     },
     "execution_count": 39,
     "metadata": {},
     "output_type": "execute_result"
    }
   ],
   "source": [
    "#  Вызов функции, ожидаем ответ 2\n",
    "plus_one(1)"
   ]
  },
  {
   "cell_type": "code",
   "execution_count": 40,
   "metadata": {},
   "outputs": [
    {
     "data": {
      "text/plain": [
       "2"
      ]
     },
     "execution_count": 40,
     "metadata": {},
     "output_type": "execute_result"
    }
   ],
   "source": [
    "#  Можно явно вызвать метод call, ожидаем ответ 2\n",
    "plus_one.__call__(1)"
   ]
  },
  {
   "cell_type": "markdown",
   "metadata": {},
   "source": [
    "### Как функции устроены"
   ]
  },
  {
   "cell_type": "code",
   "execution_count": 41,
   "metadata": {},
   "outputs": [
    {
     "data": {
      "text/plain": [
       "b'|\\x00d\\x01\\x17\\x00S\\x00'"
      ]
     },
     "execution_count": 41,
     "metadata": {},
     "output_type": "execute_result"
    }
   ],
   "source": [
    "# Байт-код функции function_name\n",
    "plus_one.__code__.co_code"
   ]
  },
  {
   "cell_type": "code",
   "execution_count": 42,
   "metadata": {},
   "outputs": [
    {
     "name": "stdout",
     "output_type": "stream",
     "text": [
      "  4           0 LOAD_FAST                0 (x)\n",
      "              2 LOAD_CONST               1 (1)\n",
      "              4 BINARY_ADD\n",
      "              6 RETURN_VALUE\n"
     ]
    }
   ],
   "source": [
    "# Дизассемблированное тело функции function_name\n",
    "import dis\n",
    "dis.dis(plus_one)"
   ]
  },
  {
   "cell_type": "markdown",
   "metadata": {},
   "source": [
    "Если заглянуть во внутренности интерпретатора (CPython), то функция описывается следующей струтурой: https://github.com/python/cpython/blob/3.7/Include/funcobject.h"
   ]
  },
  {
   "cell_type": "markdown",
   "metadata": {},
   "source": [
    "**Почитать**\n",
    "1. [The Python Language Reference. Data model](https://docs.python.org/3/reference/datamodel.html#objects-values-and-types)\n",
    "2. [The Python Language Reference. Inspect live objects](https://docs.python.org/3/library/inspect.html)\n",
    "3. [PEP 3107 -- Function Annotations](https://www.python.org/dev/peps/pep-3107/)\n",
    "4. [PEP 257 -- Docstring Conventions](https://www.python.org/dev/peps/pep-0257/)"
   ]
  },
  {
   "cell_type": "markdown",
   "metadata": {},
   "source": [
    "## 2. Вложенные функции"
   ]
  },
  {
   "cell_type": "markdown",
   "metadata": {},
   "source": [
    "**Вложенная функция** — функция, которая определена внутри другой функции."
   ]
  },
  {
   "cell_type": "markdown",
   "metadata": {},
   "source": [
    "### Область видимости и LEGB"
   ]
  },
  {
   "attachments": {},
   "cell_type": "markdown",
   "metadata": {},
   "source": [
    "https://www.google.com/url?sa=i&rct=j&q=&esrc=s&source=images&cd=&cad=rja&uact=8&ved=2ahUKEwjumtSs7prgAhWGxIsKHdS2C4QQjRx6BAgBEAU&url=https%3A%2F%2Fsebastianraschka.com%2FArticles%2F2014_python_scope_and_namespaces.html&psig=AOvVaw1Sw3kd_XY-GCz5nsD61FwU&ust=1549121745003362![image.png](attachment:image.png)"
   ]
  },
  {
   "cell_type": "markdown",
   "metadata": {},
   "source": [
    "## 3. Замыкания"
   ]
  },
  {
   "cell_type": "markdown",
   "metadata": {},
   "source": [
    "**Замыкание** — вложенная функция, которая использует локальные переменные внешней функции."
   ]
  },
  {
   "cell_type": "markdown",
   "metadata": {},
   "source": [
    "## 4. Декораторы"
   ]
  },
  {
   "cell_type": "markdown",
   "metadata": {},
   "source": [
    "**Декоратор** — функция, которая принимает другую функцию и что-то возвращает."
   ]
  }
 ],
 "metadata": {
  "kernelspec": {
   "display_name": "Python 3",
   "language": "python",
   "name": "python3"
  },
  "language_info": {
   "codemirror_mode": {
    "name": "ipython",
    "version": 3
   },
   "file_extension": ".py",
   "mimetype": "text/x-python",
   "name": "python",
   "nbconvert_exporter": "python",
   "pygments_lexer": "ipython3",
   "version": "3.7.1"
  }
 },
 "nbformat": 4,
 "nbformat_minor": 1
}
