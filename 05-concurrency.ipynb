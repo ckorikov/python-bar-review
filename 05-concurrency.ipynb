{
 "cells": [
  {
   "cell_type": "markdown",
   "metadata": {},
   "source": [
    "# Конкурентное  программирование"
   ]
  },
  {
   "cell_type": "markdown",
   "metadata": {},
   "source": [
    "## 1. Конкурентное != параллельное"
   ]
  },
  {
   "cell_type": "markdown",
   "metadata": {},
   "source": [
    "Мы говорим о многозадачности, то есть о выполнении нескольких задач в один и тот же период времени. С многозадачностью связывают конкурентное, параллельное и асинхронное выполнение задач.\n",
    "\n",
    "**Конкурентные задачи** (англ. concurrent tasks) — задачи, выполнение которых пересекается во времени. Задачи могут выполняться параллельно, а могут порционно (виртуальный параллелизм).\n",
    "\n",
    "**Параллельные задачи** (англ. parallel tasks) — задачи, которые буквально выполняются одновременно.\n",
    "\n",
    "Из определений видно, что конкурентность и параллелизм различаются. Это две независимые характеристики, которые образуют 4 вида многозадачности.\n",
    "![Concurrency/parallelism types](img/parallel_concurrent_table.png)\n",
    "\n",
    "На рисунке ниже показано различие между последовательным, конкурентным и параллельным выполнением задач. Круги — этапы вычислений, а стрелки показывают последовательность вычислений.\n",
    "\n",
    "![Concurrency vs parallelism vs sequantial](img/parallel_sequential_concurrent.jpg)\n",
    "\n",
    "**Асинхронные задачи** (англ. asynchronous tasks) — задачи, которые запущены без ожидания результата. Таким образом, асинхронная задача не блокирует запускающую систему. Обычно асинхронные задачи по окончанию вызывают функцию обратного вызова (англ. callback function).\n",
    "\n",
    "В противоположность асинхронным задачам ставят синхронные. На рисунке ниже показано время синхронного и асинхронного выполнения задач.\n",
    "\n",
    "![Sync/async types](img/synchronous-asynchronous.png)\n",
    "\n",
    "Организовать выполение задач конкурентно можно двумя сопособами:\n",
    "- решение с общей памятью (англ. shared memory),\n",
    "- решение с передачей сообщений (англ. message passing).\n",
    "\n",
    "Оба подхода могут быть использованы на машинах с разной архитектурой. Но если задачи выполняются на машине с физически разделеённой памятью, то проще огранизовать конкурентую работу на передаче сообщений."
   ]
  },
  {
   "cell_type": "markdown",
   "metadata": {},
   "source": [
    "## 2. Подход с общей памятью"
   ]
  },
  {
   "cell_type": "markdown",
   "metadata": {},
   "source": [
    "В этом подходе конкурентные задачи взаимодействуют через общии участки памяти. Такая система может быть построена на разных сущностях:\n",
    "- процессы,\n",
    "- потоки,\n",
    "- кооперативные потоки: «зелёные потоки», протопотоки, файберы и корутины.\n",
    "\n",
    "### 2.1. Синхронизация\n",
    "\n",
    "#### Критическая секция и «гонки»\n",
    "При этом доступ к общему ресурсу могут возникнуть «гонки» (англ. race condition) — проблема, при которой работа системы или приложения зависит от того, в каком порядке выполняются конкурентные части программы. Эти части, которые могут приводить к «гонкам», называют критическими секциями (англ. critical section). Перед входом в критическую секцию конкурентные задачи надо синхронизовать. \n",
    "\n",
    "![Race condition](img/knock_knock.jpg)\n",
    "\n",
    "Различают следующие классические примитивные способы синхронизации:\n",
    "\n",
    "- Семафор\n",
    "    * Семафор со счётчиком (англ. counting semaphore)\n",
    "    * Бинарный семафор (англ. binary semaphore), он жe lock\n",
    "        - RWLock (=Readers-Writes lock)\n",
    "    * Событие (англ. event)\n",
    "        - Условная переменная (англ. conditional variable)\n",
    "- Мьютекс (англ. mutex = mutual exclusion)\n",
    "    * Рекурсивный мьютекс (англ. recursive mutex)\n",
    "    * Shared-мьютекс (shared mutex)\n",
    "    * Спин-блокировка (англ. spin lock)\n",
    "    * Фьютекс (англ. futex = fast userspace mutex)\n",
    "- Монитор (англ. monitor)\n",
    "- Барьер aka Рандеву\n",
    "\n",
    "**NB!** Избежать синхронизации можно разработкой программы без блокировок."
   ]
  },
  {
   "cell_type": "markdown",
   "metadata": {},
   "source": [
    "### 2.2. Processes\n",
    "\n",
    "Процесс (анг. process) — загруженная в память программа. Процессы относятся к основному механизму многозадачности операционных систем. Процессы запускаются конкурентно и переключение между процессами (англ. scheduling) контролируется операционной системой. Она делает это по таймеру. Такую схему преключения называют вытесняющей многозадачностью.\n",
    "\n",
    "#### Время жизни процессов в Unix. Низкоуровневая работа с процессами\n",
    "\n",
    "Посмотреть список процессов в unix-подобной операционной системе можно следующей командой."
   ]
  },
  {
   "cell_type": "code",
   "execution_count": 100,
   "metadata": {},
   "outputs": [
    {
     "name": "stdout",
     "output_type": "stream",
     "text": [
      "  PID  PPID STAT COMMAND\r\n",
      "    1     0 Ss   sh\r\n",
      "    7     1 Sl   jupyter-noteboo\r\n",
      "   17     7 Ssl  python\r\n",
      "  144    17 R    python\r\n",
      "  209    17 Ss+  sh\r\n",
      "  210   209 R+   ps\r\n"
     ]
    }
   ],
   "source": [
    "!ps xo 'pid ppid stat comm'"
   ]
  },
  {
   "cell_type": "markdown",
   "metadata": {},
   "source": [
    "Здесь `PID` — идентификатор процесса, `PPID` — идентификатор родительского процесса. В unix-системах состояние процессов представляет собой дерево, где в корне находится процесс под номером 1."
   ]
  },
  {
   "cell_type": "markdown",
   "metadata": {},
   "source": [
    "Мы можем создать новый процесс только через клонирование другого процесса. Это делается системным вызовом `fork`. Этим вызовом создётся виртуальное адресное пространство нового процесса и ему присваевается `PID`. Однако, явного копирования памяти родительского процесса в дочерний не происходит. Только если в родительском, либо в дочернем процессе выполняется запись в определённое адресное простраство, то оно копируется. Этот механизм называется copy-on-write.\n",
    "\n",
    "Вызвать `fork` можно с помощью модуля `os`."
   ]
  },
  {
   "cell_type": "code",
   "execution_count": 68,
   "metadata": {},
   "outputs": [
    {
     "name": "stdout",
     "output_type": "stream",
     "text": [
      "pid: 144\n",
      "pid: 0\n"
     ]
    }
   ],
   "source": [
    "import os\n",
    "\n",
    "child = os.fork() # возвращает pid дочернего процесса\n",
    "print(f'pid: {child}')"
   ]
  },
  {
   "cell_type": "markdown",
   "metadata": {},
   "source": [
    "Видно, что `print` выполнился 2 раза. Один раз код был выполнен в child-процессе, а другой — в parent. В child-процессе  `os.fork` возвращает 0, а в parent-процессе — `PID` дочернего процесса. Проверкой на 0 можно понять где мы запущены.\n",
    "\n",
    "Дочерний процесс должен появиться в списке процессов системы с соответвующим `PID`."
   ]
  },
  {
   "cell_type": "code",
   "execution_count": 99,
   "metadata": {},
   "outputs": [
    {
     "name": "stdout",
     "output_type": "stream",
     "text": [
      "  PID  PPID STAT COMMAND\r\n",
      "    1     0 Ss   sh\r\n",
      "    7     1 Sl   jupyter-noteboo\r\n",
      "   17     7 Ssl  python\r\n",
      "  144    17 R    python\r\n",
      "  207    17 Ss+  sh\r\n",
      "  208   207 R+   ps\r\n"
     ]
    }
   ],
   "source": [
    "!ps xo 'pid ppid stat comm'"
   ]
  },
  {
   "cell_type": "markdown",
   "metadata": {},
   "source": [
    "Общение между приложениями и ядром операционной системы выполняется через два механизма:\n",
    "- системные вызовы,\n",
    "- сигналы.\n",
    "\n",
    "![System calls and signals](img/syscall_signal.png)"
   ]
  },
  {
   "cell_type": "markdown",
   "metadata": {},
   "source": [
    "Посмотрим несколько первых сигналов, поддерживаемых в системе"
   ]
  },
  {
   "cell_type": "code",
   "execution_count": 54,
   "metadata": {},
   "outputs": [
    {
     "name": "stdout",
     "output_type": "stream",
     "text": [
      "0\r\n",
      "HUP\r\n",
      "INT\r\n",
      "QUIT\r\n",
      "ILL\r\n",
      "TRAP\r\n",
      "ABRT\r\n",
      "BUS\r\n",
      "FPE\r\n",
      "KILL\r\n"
     ]
    }
   ],
   "source": [
    "!kill -l | head"
   ]
  },
  {
   "cell_type": "code",
   "execution_count": 102,
   "metadata": {},
   "outputs": [],
   "source": [
    "import signal\n",
    "\n",
    "os.kill(child, signal.SIGKILL)"
   ]
  },
  {
   "cell_type": "code",
   "execution_count": 103,
   "metadata": {},
   "outputs": [
    {
     "name": "stdout",
     "output_type": "stream",
     "text": [
      "  PID  PPID STAT COMMAND\r\n",
      "    1     0 Ss   sh\r\n",
      "    7     1 Sl   jupyter-noteboo\r\n",
      "   17     7 Rsl  python\r\n",
      "  144    17 Z    python <defunct>\r\n",
      "  211    17 Ss+  sh\r\n",
      "  212   211 R+   ps\r\n"
     ]
    }
   ],
   "source": [
    "!ps xo 'pid ppid stat comm'"
   ]
  },
  {
   "cell_type": "markdown",
   "metadata": {},
   "source": [
    "`Z` — зомби-процесс, он как бы мёртв, но ядро хранит код возврата и `PID`."
   ]
  },
  {
   "cell_type": "code",
   "execution_count": 104,
   "metadata": {},
   "outputs": [
    {
     "data": {
      "text/plain": [
       "(144, 9)"
      ]
     },
     "execution_count": 104,
     "metadata": {},
     "output_type": "execute_result"
    }
   ],
   "source": [
    "# Читаем код возврата\n",
    "os.waitpid(0, 0)"
   ]
  },
  {
   "cell_type": "code",
   "execution_count": 120,
   "metadata": {},
   "outputs": [
    {
     "name": "stdout",
     "output_type": "stream",
     "text": [
      "  PID  PPID STAT COMMAND\r\n",
      "    1     0 Ss   sh\r\n",
      "    7     1 Sl   jupyter-noteboo\r\n",
      "   17     7 Ssl  python\r\n",
      "  235    17 Z    python <defunct>\r\n",
      "  237    17 Ss+  sh\r\n",
      "  238   237 R+   ps\r\n"
     ]
    }
   ],
   "source": [
    "!ps xo 'pid ppid stat comm'"
   ]
  },
  {
   "cell_type": "markdown",
   "metadata": {},
   "source": [
    "#### Работа с процессами в Python"
   ]
  },
  {
   "cell_type": "code",
   "execution_count": 106,
   "metadata": {},
   "outputs": [
    {
     "name": "stdout",
     "output_type": "stream",
     "text": [
      "Hello from child!\n"
     ]
    }
   ],
   "source": [
    "from multiprocessing import Process\n",
    "\n",
    "def fun_in_child():\n",
    "    print('Hello from child!')\n",
    "    \n",
    "p = Process(target=fun_in_child)\n",
    "p.start()\n",
    "p.join()"
   ]
  },
  {
   "cell_type": "code",
   "execution_count": 127,
   "metadata": {},
   "outputs": [
    {
     "name": "stdout",
     "output_type": "stream",
     "text": [
      "  PID  PPID STAT COMMAND\r\n",
      "    1     0 Ss   sh\r\n",
      "    7     1 Sl   jupyter-noteboo\r\n",
      "   17     7 Rsl  python\r\n",
      "  249    17 Ss+  sh\r\n",
      "  250   249 R+   ps\r\n"
     ]
    }
   ],
   "source": [
    "!ps xo 'pid ppid stat comm'"
   ]
  },
  {
   "cell_type": "markdown",
   "metadata": {},
   "source": [
    "#### Межпроцессное взаимодействие\n",
    "Для параллельной работы процессы используют механизмы межпроцессного взаимодействия (англ. inter-process communication, IPC):\n",
    "- Сокеты: Unix-сокеты, Беркли-сокеты, Windows-сокеты *linux, windows, mac*\n",
    "- Анонимный канал (англ. pipe) *linux, windows*\n",
    "- Именованный канал (англ. fifo) *linux*\n",
    "- Сегменты общей памяти (shared memory segments) *linux*\n",
    "- Очереди сообщений (англ. message queues) *mac, linux*\n",
    "- Сигналы (англ. signals) *linux*\n",
    "- Отображение файлов (англ. file mapping) *linux, windows, mac*\n",
    "- Удаленный вызов процедур (англ. Remote Procedure Call) *windows, mac*\n",
    "- Шина dbus *linux*\n",
    "- Система FUSE *linux*\n",
    "- Mailslots *windows*\n",
    "- Буфер обмена (англ. clipboard) *windows*\n",
    "- Система Dynamic Data Exchange *windows*\n",
    "\n",
    "\n",
    "![Linux IPC](img/ipc_linux.png)"
   ]
  },
  {
   "cell_type": "code",
   "execution_count": 126,
   "metadata": {},
   "outputs": [
    {
     "name": "stdout",
     "output_type": "stream",
     "text": [
      "[42, None, 'hello']\n"
     ]
    }
   ],
   "source": [
    "from multiprocessing import Process, Queue\n",
    "\n",
    "def f(q):\n",
    "    q.put([42, None, 'hello'])\n",
    "\n",
    "if __name__ == '__main__':\n",
    "    q = Queue()\n",
    "    p = Process(target=f, args=(q,))\n",
    "    p.start()\n",
    "    print(q.get())    # prints \"[42, None, 'hello']\"\n",
    "    p.join()"
   ]
  },
  {
   "cell_type": "code",
   "execution_count": 123,
   "metadata": {},
   "outputs": [],
   "source": []
  },
  {
   "cell_type": "markdown",
   "metadata": {},
   "source": [
    "### 2.3. Threads\n",
    "\n",
    "Поток (анг. thread) — подзадача процесса. Потоки ещё называют «лёгкими процессами» (англ. light weight process). Переключение между потоками также контролируются операционной системой. Здесь также присутсвует вытесняющая многозадачность — переключение по таймеру. Все потоки одного процесса обладают общей виртуальной памятью.\n",
    "\n",
    "Посмотреть список потоков и процессов в unix-подобной операционной системе можно следующей командой. Мы добавили `-T` к предыдущей."
   ]
  },
  {
   "cell_type": "code",
   "execution_count": 33,
   "metadata": {},
   "outputs": [
    {
     "name": "stdout",
     "output_type": "stream",
     "text": [
      "UID        PID  SPID  PPID  C STIME TTY          TIME CMD\r\n",
      "root         1     1     0  0 21:51 ?        00:00:00 /bin/sh -c pipenv run jupy\r\n",
      "root         6     6     1  0 21:51 ?        00:00:04 /usr/local/bin/python /usr\r\n",
      "root         6    36     1  0 21:52 ?        00:00:00 /usr/local/bin/python /usr\r\n",
      "root         6    37     1  0 21:52 ?        00:00:00 /usr/local/bin/python /usr\r\n",
      "root        35    35     6  0 21:52 ?        00:00:02 /usr/local/bin/python -m i\r\n",
      "root        35    41     6  0 21:52 ?        00:00:00 /usr/local/bin/python -m i\r\n",
      "root        35    42     6  0 21:52 ?        00:00:00 /usr/local/bin/python -m i\r\n",
      "root        35    43     6  0 21:52 ?        00:00:00 /usr/local/bin/python -m i\r\n",
      "root        35    44     6  0 21:52 ?        00:00:00 /usr/local/bin/python -m i\r\n",
      "root        35    45     6  0 21:52 ?        00:00:00 /usr/local/bin/python -m i\r\n",
      "root        35    46     6  0 21:52 ?        00:00:00 /usr/local/bin/python -m i\r\n",
      "root        35    47     6  0 21:52 ?        00:00:00 /usr/local/bin/python -m i\r\n",
      "root        35    48     6  0 21:52 ?        00:00:00 /usr/local/bin/python -m i\r\n",
      "root       113   113    35 54 22:29 pts/0    00:00:00 /bin/sh -c ps -Tef\r\n",
      "root       114   114   113  0 22:29 pts/0    00:00:00 ps -Tef\r\n"
     ]
    }
   ],
   "source": [
    "!ps -Tef"
   ]
  },
  {
   "cell_type": "markdown",
   "metadata": {},
   "source": [
    "Здесь `SPID` — идентификатор потока."
   ]
  },
  {
   "cell_type": "code",
   "execution_count": 1,
   "metadata": {},
   "outputs": [],
   "source": [
    "from threading import Thread"
   ]
  },
  {
   "cell_type": "code",
   "execution_count": 22,
   "metadata": {},
   "outputs": [
    {
     "name": "stdout",
     "output_type": "stream",
     "text": [
      "0\n",
      "1\n",
      "2\n",
      "3\n",
      "4\n",
      "0\n",
      "1\n",
      "2\n",
      "3\n",
      "4\n"
     ]
    }
   ],
   "source": [
    "def subproc(n: int):\n",
    "    [print(i) for i in range(n)]\n",
    "    \n",
    "thread1 = Thread(target=subproc, args=(5,))\n",
    "thread2 = Thread(target=subproc, args=(5,))\n",
    "\n",
    "thread1.start()\n",
    "thread2.start()\n",
    "thread1.join()\n",
    "thread2.join()"
   ]
  },
  {
   "cell_type": "code",
   "execution_count": 40,
   "metadata": {},
   "outputs": [
    {
     "name": "stdout",
     "output_type": "stream",
     "text": [
      "0\n",
      "1\n",
      "2\n",
      "3\n",
      "4\n",
      "0\n",
      "1\n",
      "2\n",
      "3\n",
      "4\n"
     ]
    }
   ],
   "source": [
    "class MyThread(Thread):\n",
    "    def __init__(self, n:int):\n",
    "        super().__init__(name=f\"Up to {n}\")\n",
    "        self.n = n\n",
    "    def run(self):\n",
    "        [print(i) for i in range(self.n)]\n",
    "        \n",
    "thread1 = MyThread(5)\n",
    "thread2 = MyThread(5)\n",
    "\n",
    "thread1.start()\n",
    "thread2.start()\n",
    "thread1.join()\n",
    "thread2.join()"
   ]
  },
  {
   "cell_type": "markdown",
   "metadata": {},
   "source": [
    "#### Демонизация потоков\n",
    "\n",
    "Процесс будет работать до тех пор, пока все потоки не будут завершены. Если надо по явному завершению процесса прекратить работу всех дочерних потоков, то их надо сделать демонами."
   ]
  },
  {
   "cell_type": "code",
   "execution_count": 31,
   "metadata": {},
   "outputs": [
    {
     "name": "stdout",
     "output_type": "stream",
     "text": [
      "0\n",
      "1\n",
      "2\n",
      "3\n",
      "4\n",
      "0\n",
      "1\n",
      "2\n",
      "3\n",
      "4\n"
     ]
    }
   ],
   "source": [
    "def subproc(n: int):\n",
    "    [print(i) for i in range(n)]\n",
    "    \n",
    "thread1 = Thread(target=subproc, args=(5,), daemon=True)\n",
    "thread2 = Thread(target=subproc, args=(5,), daemon=True)\n",
    "\n",
    "thread1.start()\n",
    "thread2.start()\n",
    "thread1.join()\n",
    "thread2.join()"
   ]
  },
  {
   "cell_type": "markdown",
   "metadata": {},
   "source": [
    "#### GIL (Global Interpreter Lock)\n",
    "\n",
    "GIL — глобальный lock интерпретатора. Это особенность реализации Python из-за которой нельзя одновременно использовать несколько процессоров для потоков. Все параллельные вычисления в Python реализуются с помощью модулей."
   ]
  },
  {
   "cell_type": "markdown",
   "metadata": {},
   "source": [
    "#### Мьютекс"
   ]
  },
  {
   "cell_type": "code",
   "execution_count": 41,
   "metadata": {},
   "outputs": [],
   "source": [
    "from threading import Lock"
   ]
  },
  {
   "cell_type": "code",
   "execution_count": 47,
   "metadata": {},
   "outputs": [
    {
     "name": "stdout",
     "output_type": "stream",
     "text": [
      "<locked _thread.lock object at 0x109b52a80>\n",
      "<unlocked _thread.lock object at 0x109b52a80>\n"
     ]
    }
   ],
   "source": [
    "mutex = Lock()\n",
    "\n",
    "mutex.acquire()\n",
    "print(mutex)\n",
    "# Работа с общими ресурсами\n",
    "mutex.release()\n",
    "print(mutex)"
   ]
  },
  {
   "cell_type": "code",
   "execution_count": 64,
   "metadata": {},
   "outputs": [
    {
     "name": "stdout",
     "output_type": "stream",
     "text": [
      "0\n"
     ]
    }
   ],
   "source": [
    "x = 0\n",
    "def fun_inc(n:int):\n",
    "    global x\n",
    "    for _ in range(n):\n",
    "        x += 1\n",
    "    \n",
    "def fun_dec(n:int):\n",
    "    global x\n",
    "    for _ in range(n):\n",
    "        x -= 1\n",
    "\n",
    "thread1 = Thread(target=fun_inc, args=(5000,))\n",
    "thread2 = Thread(target=fun_dec, args=(5000,))\n",
    "\n",
    "thread1.start()\n",
    "thread2.start()\n",
    "thread1.join()\n",
    "thread2.join()\n",
    "\n",
    "print(x)"
   ]
  },
  {
   "cell_type": "code",
   "execution_count": 76,
   "metadata": {},
   "outputs": [],
   "source": [
    "try:\n",
    "    mutex.acquire()\n",
    "    # Работа с общими ресурсами\n",
    "\n",
    "except:\n",
    "    # Обрабатываем исключения\n",
    "    pass\n",
    "\n",
    "finally:\n",
    "    mutex.release()"
   ]
  },
  {
   "cell_type": "markdown",
   "metadata": {},
   "source": [
    "#### Рекурсивный мьютекс"
   ]
  },
  {
   "cell_type": "code",
   "execution_count": 74,
   "metadata": {},
   "outputs": [],
   "source": [
    "from threading import RLock"
   ]
  },
  {
   "cell_type": "markdown",
   "metadata": {},
   "source": [
    "#### Семафор"
   ]
  },
  {
   "cell_type": "code",
   "execution_count": 67,
   "metadata": {},
   "outputs": [],
   "source": [
    "from threading import Semaphore"
   ]
  },
  {
   "cell_type": "code",
   "execution_count": 69,
   "metadata": {},
   "outputs": [
    {
     "name": "stdout",
     "output_type": "stream",
     "text": [
      "<threading.Semaphore object at 0x109c6ceb8>\n",
      "<threading.Semaphore object at 0x109c6ceb8>\n"
     ]
    }
   ],
   "source": [
    "s = Semaphore(10)\n",
    "\n",
    "s.acquire()\n",
    "print(s)\n",
    "# Работа с общими ресурсами\n",
    "s.release()\n",
    "print(s)"
   ]
  },
  {
   "cell_type": "markdown",
   "metadata": {},
   "source": [
    "#### События"
   ]
  },
  {
   "cell_type": "code",
   "execution_count": 70,
   "metadata": {},
   "outputs": [],
   "source": [
    "from threading import Event"
   ]
  },
  {
   "cell_type": "code",
   "execution_count": 73,
   "metadata": {},
   "outputs": [
    {
     "name": "stdout",
     "output_type": "stream",
     "text": [
      "<threading.Event object at 0x109c6c080>\n",
      "<threading.Event object at 0x109c6c080>\n",
      "<threading.Event object at 0x109c6c080>\n"
     ]
    }
   ],
   "source": [
    "e = Event()\n",
    "\n",
    "#e.wait() # Ждём, когда кто-нибудь захватит флаг\n",
    "print(e)\n",
    "e.set() # Ставим флаг\n",
    "print(e)\n",
    "# Работа с общими ресурсами\n",
    "e.clear() # Снимаем флаг и ждём нового\n",
    "print(e)"
   ]
  },
  {
   "cell_type": "markdown",
   "metadata": {},
   "source": [
    "### 2.4. Кооперативные потоки: green threads, protothreads, fibers и coroutines\n",
    "\n",
    "Эти разновидности потоков объединяет то, что операционная система о таких потоках ничего не знает. Они эмулируются приложением. Вместо вытесняющей многозадачности они управляются кооперативной многозадачностью — поток сам явно объявляет, когда он готов отдать процессорное время другому такому же потоку. Из-за этого такие потоки легче: быстрее создаются и между ними выполняется быстрое переключение.\n",
    "\n",
    "\n",
    "## 3. Подход с передачей сообщений\n",
    "\n",
    "Модель передачи сообщений. Существет стандартный интерфейс передачи сообщений (англ. Message Passing Interface, MPI).\n",
    "\n",
    "- Асинхронная передача сообщений. Actor model\n",
    "- Синхронная передача сообщений. Communicating sequential processes"
   ]
  },
  {
   "cell_type": "markdown",
   "metadata": {},
   "source": [
    "## 4. Имеет ли смысл распараллеливать задачу?\n",
    "\n",
    "**Закон Амдала** (англ. Amdahl’s Law)\n",
    "Закон Амдала показывает во сколько раз меньше времени потребуется параллельной программе для решения задачи по сравнению с последовательной. \n",
    "$$\n",
    "\\text{Speed-up}=\\frac{1}{S+P/n}\n",
    "$$"
   ]
  },
  {
   "cell_type": "markdown",
   "metadata": {},
   "source": [
    "## 5. Аппаратный взгляд на паралелизм"
   ]
  },
  {
   "cell_type": "markdown",
   "metadata": {},
   "source": [
    "### Классификация Флина"
   ]
  },
  {
   "cell_type": "markdown",
   "metadata": {},
   "source": [
    "[Классификация Флина](https://en.wikipedia.org/wiki/Flynn%27s_taxonomy)\n",
    "\n",
    "![Flynn's Taxonomy](img/parallel-architectures.png)"
   ]
  },
  {
   "cell_type": "markdown",
   "metadata": {},
   "source": [
    "## 6. Почитать\n",
    "- [(Stackoverflow) Processes, threads, green threads, protothreads, fibers, coroutines: what's the difference?](https://stackoverflow.com/questions/3324643/processes-threads-green-threads-protothreads-fibers-coroutines-whats-the)\n",
    "- [Такие удивительные семафоры](https://habr.com/en/post/261273/)\n",
    "- [Как устроен GIL в Python](https://habr.com/en/post/84629/)\n",
    "- [Parallel Computing vs. Distributed Computing: A Great Confusion?](https://link.springer.com/chapter/10.1007%2F978-3-319-27308-2_4)"
   ]
  },
  {
   "cell_type": "code",
   "execution_count": null,
   "metadata": {},
   "outputs": [],
   "source": []
  }
 ],
 "metadata": {
  "celltoolbar": "Raw Cell Format",
  "kernelspec": {
   "display_name": "Python 3",
   "language": "python",
   "name": "python3"
  },
  "language_info": {
   "codemirror_mode": {
    "name": "ipython",
    "version": 3
   },
   "file_extension": ".py",
   "mimetype": "text/x-python",
   "name": "python",
   "nbconvert_exporter": "python",
   "pygments_lexer": "ipython3",
   "version": "3.7.4"
  }
 },
 "nbformat": 4,
 "nbformat_minor": 2
}
