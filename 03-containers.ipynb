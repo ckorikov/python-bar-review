{
 "cells": [
  {
   "cell_type": "markdown",
   "metadata": {},
   "source": [
    "# Контейнеры\n"
   ]
  },
  {
   "cell_type": "markdown",
   "metadata": {},
   "source": [
    "## 1. Структуры данных и разные определения"
   ]
  },
  {
   "cell_type": "markdown",
   "metadata": {},
   "source": [
    "### Общие\n",
    "\n",
    "**Тип данных** — притив.\n",
    "\n",
    "**Структура данных** — набор из типов данных, огранизованные для эффективного решения задачи.\n",
    "\n",
    "**Абстрактный тип данных** — модель структуры данных, ее API.\n",
    "\n",
    "### Python\n",
    "\n",
    "**Контейнер** (коллекция) — "
   ]
  },
  {
   "cell_type": "markdown",
   "metadata": {},
   "source": [
    "## 2. Built-in контейнеры\n",
    "\n",
    "### Популярные контейнеры\n",
    "Встроенные контейнеры, некоторые операции и их сложность приведены в таблице. "
   ]
  },
  {
   "cell_type": "markdown",
   "metadata": {},
   "source": [
    "| Контейнер         | List          | []()   | Tuple         | [  ]()        | Dictionary   | []()   | Set                | []()          |\n",
    "|-------------------|---------------|--------|---------------|---------------|--------------|--------|--------------------|---------------|\n",
    "| Пустой контейнер  | `[]`          | $O(1)$ | `()`          | $O(1)$        | `{}`         | $O(1)$ | `Set()` или `{()}` | $O(1)$        |\n",
    "| Прочитать элемент | `l[i]`        | $O(1)$ | `t[i]`        | $O(1)$        | `d[key]`     | $O(1)$ | **undefined**      | **undefined** |\n",
    "| Добавить элемент  | `l.append(5)` | $O(1)$ | **undefined** | **undefined** | `d[key]=5`   | $O(1)$ | `s.add(5)`         | $O(1)$        |\n",
    "| Удалить элемент   | `del l[i]`    | $O(N)$ | **undefined** | **undefined** | `del d[key]` | $O(1)$ | `s.discard(5)`     | $O(1)$        |"
   ]
  },
  {
   "cell_type": "markdown",
   "metadata": {},
   "source": [
    "Immutable-типы: `int, float, decimal, complex, bool, string, tuple, range, frozenset, bytes`\n",
    "Mutable-типы: `list, dict, set, bytearray, user-defined classes`\n",
    "\n",
    "**NB!** Immutable-типы хэшируемые. В случае коллекций, должны быть хэшируемыми и элементы."
   ]
  },
  {
   "cell_type": "code",
   "execution_count": 18,
   "metadata": {},
   "outputs": [
    {
     "data": {
      "text/plain": [
       "2528503368927772366"
      ]
     },
     "execution_count": 18,
     "metadata": {},
     "output_type": "execute_result"
    }
   ],
   "source": [
    "# Хэшируемый кортеж\n",
    "hash((1,3,()))"
   ]
  },
  {
   "cell_type": "code",
   "execution_count": 20,
   "metadata": {},
   "outputs": [
    {
     "ename": "TypeError",
     "evalue": "unhashable type: 'list'",
     "output_type": "error",
     "traceback": [
      "\u001b[0;31m---------------------------------------------------------------------------\u001b[0m",
      "\u001b[0;31mTypeError\u001b[0m                                 Traceback (most recent call last)",
      "\u001b[0;32m<ipython-input-20-a4470b7d7359>\u001b[0m in \u001b[0;36m<module>\u001b[0;34m\u001b[0m\n\u001b[1;32m      1\u001b[0m \u001b[0;31m# Нехэшируемый кортеж\u001b[0m\u001b[0;34m\u001b[0m\u001b[0;34m\u001b[0m\u001b[0;34m\u001b[0m\u001b[0m\n\u001b[0;32m----> 2\u001b[0;31m \u001b[0mhash\u001b[0m\u001b[0;34m(\u001b[0m\u001b[0;34m(\u001b[0m\u001b[0;36m1\u001b[0m\u001b[0;34m,\u001b[0m\u001b[0;36m3\u001b[0m\u001b[0;34m,\u001b[0m\u001b[0;34m[\u001b[0m\u001b[0;34m]\u001b[0m\u001b[0;34m)\u001b[0m\u001b[0;34m)\u001b[0m\u001b[0;34m\u001b[0m\u001b[0;34m\u001b[0m\u001b[0m\n\u001b[0m",
      "\u001b[0;31mTypeError\u001b[0m: unhashable type: 'list'"
     ]
    }
   ],
   "source": [
    "# Нехэшируемый кортеж (должна быть ошибка)\n",
    "hash((1,3,[]))"
   ]
  },
  {
   "cell_type": "markdown",
   "metadata": {},
   "source": [
    "## 3. Крутые контейнеры"
   ]
  },
  {
   "cell_type": "markdown",
   "metadata": {},
   "source": [
    "### namedtuple"
   ]
  },
  {
   "cell_type": "markdown",
   "metadata": {},
   "source": [
    "### OrderedDict"
   ]
  },
  {
   "cell_type": "markdown",
   "metadata": {},
   "source": [
    "### defaultdict"
   ]
  },
  {
   "cell_type": "markdown",
   "metadata": {},
   "source": [
    "### deque"
   ]
  },
  {
   "cell_type": "markdown",
   "metadata": {},
   "source": [
    "### dataclasses"
   ]
  },
  {
   "cell_type": "markdown",
   "metadata": {},
   "source": [
    "## 4. Array: компакнтые массивы"
   ]
  },
  {
   "cell_type": "markdown",
   "metadata": {},
   "source": [
    "## 5. Numpy: компактные массивы + готовые алгоритмы"
   ]
  },
  {
   "cell_type": "markdown",
   "metadata": {},
   "source": [
    "## 6. Pands: таблицы"
   ]
  },
  {
   "cell_type": "code",
   "execution_count": null,
   "metadata": {},
   "outputs": [],
   "source": []
  }
 ],
 "metadata": {
  "kernelspec": {
   "display_name": "Python 3",
   "language": "python",
   "name": "python3"
  },
  "language_info": {
   "codemirror_mode": {
    "name": "ipython",
    "version": 3
   },
   "file_extension": ".py",
   "mimetype": "text/x-python",
   "name": "python",
   "nbconvert_exporter": "python",
   "pygments_lexer": "ipython3",
   "version": "3.7.1"
  }
 },
 "nbformat": 4,
 "nbformat_minor": 2
}
